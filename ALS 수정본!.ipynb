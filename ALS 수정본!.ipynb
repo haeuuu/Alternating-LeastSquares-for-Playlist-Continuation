{
  "nbformat": 4,
  "nbformat_minor": 0,
  "metadata": {
    "colab": {
      "name": "ALS tr 일부, rating 수정 등.ipynb",
      "provenance": [],
      "collapsed_sections": [],
      "machine_shape": "hm"
    },
    "kernelspec": {
      "name": "python3",
      "display_name": "Python 3"
    },
    "accelerator": "GPU",
    "widgets": {
      "application/vnd.jupyter.widget-state+json": {
        "9bcc332a727045b2999d98b1895d914a": {
          "model_module": "@jupyter-widgets/controls",
          "model_name": "HBoxModel",
          "state": {
            "_view_name": "HBoxView",
            "_dom_classes": [],
            "_model_name": "HBoxModel",
            "_view_module": "@jupyter-widgets/controls",
            "_model_module_version": "1.5.0",
            "_view_count": null,
            "_view_module_version": "1.5.0",
            "box_style": "",
            "layout": "IPY_MODEL_ac79a0a6d03943058a5f94015271fb85",
            "_model_module": "@jupyter-widgets/controls",
            "children": [
              "IPY_MODEL_9f064e56de8c4199a89034b533db1e40",
              "IPY_MODEL_56e13a9b84d34f59b93980c3a9983be8"
            ]
          }
        },
        "ac79a0a6d03943058a5f94015271fb85": {
          "model_module": "@jupyter-widgets/base",
          "model_name": "LayoutModel",
          "state": {
            "_view_name": "LayoutView",
            "grid_template_rows": null,
            "right": null,
            "justify_content": null,
            "_view_module": "@jupyter-widgets/base",
            "overflow": null,
            "_model_module_version": "1.2.0",
            "_view_count": null,
            "flex_flow": null,
            "width": null,
            "min_width": null,
            "border": null,
            "align_items": null,
            "bottom": null,
            "_model_module": "@jupyter-widgets/base",
            "top": null,
            "grid_column": null,
            "overflow_y": null,
            "overflow_x": null,
            "grid_auto_flow": null,
            "grid_area": null,
            "grid_template_columns": null,
            "flex": null,
            "_model_name": "LayoutModel",
            "justify_items": null,
            "grid_row": null,
            "max_height": null,
            "align_content": null,
            "visibility": null,
            "align_self": null,
            "height": null,
            "min_height": null,
            "padding": null,
            "grid_auto_rows": null,
            "grid_gap": null,
            "max_width": null,
            "order": null,
            "_view_module_version": "1.2.0",
            "grid_template_areas": null,
            "object_position": null,
            "object_fit": null,
            "grid_auto_columns": null,
            "margin": null,
            "display": null,
            "left": null
          }
        },
        "9f064e56de8c4199a89034b533db1e40": {
          "model_module": "@jupyter-widgets/controls",
          "model_name": "FloatProgressModel",
          "state": {
            "_view_name": "ProgressView",
            "style": "IPY_MODEL_d680bbe8c4c144d69a9a758162173b5f",
            "_dom_classes": [],
            "description": "100%",
            "_model_name": "FloatProgressModel",
            "bar_style": "success",
            "max": 100,
            "_view_module": "@jupyter-widgets/controls",
            "_model_module_version": "1.5.0",
            "value": 100,
            "_view_count": null,
            "_view_module_version": "1.5.0",
            "orientation": "horizontal",
            "min": 0,
            "description_tooltip": null,
            "_model_module": "@jupyter-widgets/controls",
            "layout": "IPY_MODEL_33f58b30862c4a3e960fb4c8b79ded03"
          }
        },
        "56e13a9b84d34f59b93980c3a9983be8": {
          "model_module": "@jupyter-widgets/controls",
          "model_name": "HTMLModel",
          "state": {
            "_view_name": "HTMLView",
            "style": "IPY_MODEL_7cae0ab96be24d81a366d38e68196e1a",
            "_dom_classes": [],
            "description": "",
            "_model_name": "HTMLModel",
            "placeholder": "​",
            "_view_module": "@jupyter-widgets/controls",
            "_model_module_version": "1.5.0",
            "value": " 100/100 [00:07&lt;00:00, 13.98it/s]",
            "_view_count": null,
            "_view_module_version": "1.5.0",
            "description_tooltip": null,
            "_model_module": "@jupyter-widgets/controls",
            "layout": "IPY_MODEL_6391ee9b6fbc4fb7bae6bd61bfdf755e"
          }
        },
        "d680bbe8c4c144d69a9a758162173b5f": {
          "model_module": "@jupyter-widgets/controls",
          "model_name": "ProgressStyleModel",
          "state": {
            "_view_name": "StyleView",
            "_model_name": "ProgressStyleModel",
            "description_width": "initial",
            "_view_module": "@jupyter-widgets/base",
            "_model_module_version": "1.5.0",
            "_view_count": null,
            "_view_module_version": "1.2.0",
            "bar_color": null,
            "_model_module": "@jupyter-widgets/controls"
          }
        },
        "33f58b30862c4a3e960fb4c8b79ded03": {
          "model_module": "@jupyter-widgets/base",
          "model_name": "LayoutModel",
          "state": {
            "_view_name": "LayoutView",
            "grid_template_rows": null,
            "right": null,
            "justify_content": null,
            "_view_module": "@jupyter-widgets/base",
            "overflow": null,
            "_model_module_version": "1.2.0",
            "_view_count": null,
            "flex_flow": null,
            "width": null,
            "min_width": null,
            "border": null,
            "align_items": null,
            "bottom": null,
            "_model_module": "@jupyter-widgets/base",
            "top": null,
            "grid_column": null,
            "overflow_y": null,
            "overflow_x": null,
            "grid_auto_flow": null,
            "grid_area": null,
            "grid_template_columns": null,
            "flex": null,
            "_model_name": "LayoutModel",
            "justify_items": null,
            "grid_row": null,
            "max_height": null,
            "align_content": null,
            "visibility": null,
            "align_self": null,
            "height": null,
            "min_height": null,
            "padding": null,
            "grid_auto_rows": null,
            "grid_gap": null,
            "max_width": null,
            "order": null,
            "_view_module_version": "1.2.0",
            "grid_template_areas": null,
            "object_position": null,
            "object_fit": null,
            "grid_auto_columns": null,
            "margin": null,
            "display": null,
            "left": null
          }
        },
        "7cae0ab96be24d81a366d38e68196e1a": {
          "model_module": "@jupyter-widgets/controls",
          "model_name": "DescriptionStyleModel",
          "state": {
            "_view_name": "StyleView",
            "_model_name": "DescriptionStyleModel",
            "description_width": "",
            "_view_module": "@jupyter-widgets/base",
            "_model_module_version": "1.5.0",
            "_view_count": null,
            "_view_module_version": "1.2.0",
            "_model_module": "@jupyter-widgets/controls"
          }
        },
        "6391ee9b6fbc4fb7bae6bd61bfdf755e": {
          "model_module": "@jupyter-widgets/base",
          "model_name": "LayoutModel",
          "state": {
            "_view_name": "LayoutView",
            "grid_template_rows": null,
            "right": null,
            "justify_content": null,
            "_view_module": "@jupyter-widgets/base",
            "overflow": null,
            "_model_module_version": "1.2.0",
            "_view_count": null,
            "flex_flow": null,
            "width": null,
            "min_width": null,
            "border": null,
            "align_items": null,
            "bottom": null,
            "_model_module": "@jupyter-widgets/base",
            "top": null,
            "grid_column": null,
            "overflow_y": null,
            "overflow_x": null,
            "grid_auto_flow": null,
            "grid_area": null,
            "grid_template_columns": null,
            "flex": null,
            "_model_name": "LayoutModel",
            "justify_items": null,
            "grid_row": null,
            "max_height": null,
            "align_content": null,
            "visibility": null,
            "align_self": null,
            "height": null,
            "min_height": null,
            "padding": null,
            "grid_auto_rows": null,
            "grid_gap": null,
            "max_width": null,
            "order": null,
            "_view_module_version": "1.2.0",
            "grid_template_areas": null,
            "object_position": null,
            "object_fit": null,
            "grid_auto_columns": null,
            "margin": null,
            "display": null,
            "left": null
          }
        }
      }
    }
  },
  "cells": [
    {
      "cell_type": "markdown",
      "metadata": {
        "id": "tErox12bSRS3"
      },
      "source": [
        "Music nDCG: 0.0087537\n",
        "Tag nDCG: 0.260441\n",
        "Score: 0.0465068\n",
        "\n"
      ]
    },
    {
      "cell_type": "code",
      "metadata": {
        "id": "WcS-hnNc59AV",
        "outputId": "efdf8aad-59d5-4160-dad5-a6545e139ae3",
        "colab": {
          "base_uri": "https://localhost:8080/"
        }
      },
      "source": [
        "!pip install implicit"
      ],
      "execution_count": null,
      "outputs": [
        {
          "output_type": "stream",
          "text": [
            "Collecting implicit\n",
            "\u001b[?25l  Downloading https://files.pythonhosted.org/packages/bc/07/c0121884722d16e2c5beeb815f6b84b41cbf22e738e4075f1475be2791bc/implicit-0.4.4.tar.gz (1.1MB)\n",
            "\r\u001b[K     |▎                               | 10kB 23.8MB/s eta 0:00:01\r\u001b[K     |▋                               | 20kB 6.3MB/s eta 0:00:01\r\u001b[K     |▉                               | 30kB 7.5MB/s eta 0:00:01\r\u001b[K     |█▏                              | 40kB 8.3MB/s eta 0:00:01\r\u001b[K     |█▌                              | 51kB 6.7MB/s eta 0:00:01\r\u001b[K     |█▊                              | 61kB 7.2MB/s eta 0:00:01\r\u001b[K     |██                              | 71kB 8.0MB/s eta 0:00:01\r\u001b[K     |██▍                             | 81kB 8.4MB/s eta 0:00:01\r\u001b[K     |██▋                             | 92kB 9.2MB/s eta 0:00:01\r\u001b[K     |███                             | 102kB 8.8MB/s eta 0:00:01\r\u001b[K     |███▎                            | 112kB 8.8MB/s eta 0:00:01\r\u001b[K     |███▌                            | 122kB 8.8MB/s eta 0:00:01\r\u001b[K     |███▉                            | 133kB 8.8MB/s eta 0:00:01\r\u001b[K     |████▏                           | 143kB 8.8MB/s eta 0:00:01\r\u001b[K     |████▍                           | 153kB 8.8MB/s eta 0:00:01\r\u001b[K     |████▊                           | 163kB 8.8MB/s eta 0:00:01\r\u001b[K     |█████                           | 174kB 8.8MB/s eta 0:00:01\r\u001b[K     |█████▎                          | 184kB 8.8MB/s eta 0:00:01\r\u001b[K     |█████▋                          | 194kB 8.8MB/s eta 0:00:01\r\u001b[K     |██████                          | 204kB 8.8MB/s eta 0:00:01\r\u001b[K     |██████▏                         | 215kB 8.8MB/s eta 0:00:01\r\u001b[K     |██████▌                         | 225kB 8.8MB/s eta 0:00:01\r\u001b[K     |██████▉                         | 235kB 8.8MB/s eta 0:00:01\r\u001b[K     |███████                         | 245kB 8.8MB/s eta 0:00:01\r\u001b[K     |███████▍                        | 256kB 8.8MB/s eta 0:00:01\r\u001b[K     |███████▊                        | 266kB 8.8MB/s eta 0:00:01\r\u001b[K     |████████                        | 276kB 8.8MB/s eta 0:00:01\r\u001b[K     |████████▎                       | 286kB 8.8MB/s eta 0:00:01\r\u001b[K     |████████▋                       | 296kB 8.8MB/s eta 0:00:01\r\u001b[K     |████████▉                       | 307kB 8.8MB/s eta 0:00:01\r\u001b[K     |█████████▏                      | 317kB 8.8MB/s eta 0:00:01\r\u001b[K     |█████████▌                      | 327kB 8.8MB/s eta 0:00:01\r\u001b[K     |█████████▊                      | 337kB 8.8MB/s eta 0:00:01\r\u001b[K     |██████████                      | 348kB 8.8MB/s eta 0:00:01\r\u001b[K     |██████████▍                     | 358kB 8.8MB/s eta 0:00:01\r\u001b[K     |██████████▋                     | 368kB 8.8MB/s eta 0:00:01\r\u001b[K     |███████████                     | 378kB 8.8MB/s eta 0:00:01\r\u001b[K     |███████████▏                    | 389kB 8.8MB/s eta 0:00:01\r\u001b[K     |███████████▌                    | 399kB 8.8MB/s eta 0:00:01\r\u001b[K     |███████████▉                    | 409kB 8.8MB/s eta 0:00:01\r\u001b[K     |████████████                    | 419kB 8.8MB/s eta 0:00:01\r\u001b[K     |████████████▍                   | 430kB 8.8MB/s eta 0:00:01\r\u001b[K     |████████████▊                   | 440kB 8.8MB/s eta 0:00:01\r\u001b[K     |█████████████                   | 450kB 8.8MB/s eta 0:00:01\r\u001b[K     |█████████████▎                  | 460kB 8.8MB/s eta 0:00:01\r\u001b[K     |█████████████▋                  | 471kB 8.8MB/s eta 0:00:01\r\u001b[K     |█████████████▉                  | 481kB 8.8MB/s eta 0:00:01\r\u001b[K     |██████████████▏                 | 491kB 8.8MB/s eta 0:00:01\r\u001b[K     |██████████████▌                 | 501kB 8.8MB/s eta 0:00:01\r\u001b[K     |██████████████▊                 | 512kB 8.8MB/s eta 0:00:01\r\u001b[K     |███████████████                 | 522kB 8.8MB/s eta 0:00:01\r\u001b[K     |███████████████▍                | 532kB 8.8MB/s eta 0:00:01\r\u001b[K     |███████████████▋                | 542kB 8.8MB/s eta 0:00:01\r\u001b[K     |████████████████                | 552kB 8.8MB/s eta 0:00:01\r\u001b[K     |████████████████▎               | 563kB 8.8MB/s eta 0:00:01\r\u001b[K     |████████████████▌               | 573kB 8.8MB/s eta 0:00:01\r\u001b[K     |████████████████▉               | 583kB 8.8MB/s eta 0:00:01\r\u001b[K     |█████████████████▏              | 593kB 8.8MB/s eta 0:00:01\r\u001b[K     |█████████████████▍              | 604kB 8.8MB/s eta 0:00:01\r\u001b[K     |█████████████████▊              | 614kB 8.8MB/s eta 0:00:01\r\u001b[K     |██████████████████              | 624kB 8.8MB/s eta 0:00:01\r\u001b[K     |██████████████████▎             | 634kB 8.8MB/s eta 0:00:01\r\u001b[K     |██████████████████▋             | 645kB 8.8MB/s eta 0:00:01\r\u001b[K     |███████████████████             | 655kB 8.8MB/s eta 0:00:01\r\u001b[K     |███████████████████▏            | 665kB 8.8MB/s eta 0:00:01\r\u001b[K     |███████████████████▌            | 675kB 8.8MB/s eta 0:00:01\r\u001b[K     |███████████████████▉            | 686kB 8.8MB/s eta 0:00:01\r\u001b[K     |████████████████████            | 696kB 8.8MB/s eta 0:00:01\r\u001b[K     |████████████████████▍           | 706kB 8.8MB/s eta 0:00:01\r\u001b[K     |████████████████████▊           | 716kB 8.8MB/s eta 0:00:01\r\u001b[K     |█████████████████████           | 727kB 8.8MB/s eta 0:00:01\r\u001b[K     |█████████████████████▎          | 737kB 8.8MB/s eta 0:00:01\r\u001b[K     |█████████████████████▋          | 747kB 8.8MB/s eta 0:00:01\r\u001b[K     |█████████████████████▉          | 757kB 8.8MB/s eta 0:00:01\r\u001b[K     |██████████████████████▏         | 768kB 8.8MB/s eta 0:00:01\r\u001b[K     |██████████████████████▍         | 778kB 8.8MB/s eta 0:00:01\r\u001b[K     |██████████████████████▊         | 788kB 8.8MB/s eta 0:00:01\r\u001b[K     |███████████████████████         | 798kB 8.8MB/s eta 0:00:01\r\u001b[K     |███████████████████████▎        | 808kB 8.8MB/s eta 0:00:01\r\u001b[K     |███████████████████████▋        | 819kB 8.8MB/s eta 0:00:01\r\u001b[K     |████████████████████████        | 829kB 8.8MB/s eta 0:00:01\r\u001b[K     |████████████████████████▏       | 839kB 8.8MB/s eta 0:00:01\r\u001b[K     |████████████████████████▌       | 849kB 8.8MB/s eta 0:00:01\r\u001b[K     |████████████████████████▉       | 860kB 8.8MB/s eta 0:00:01\r\u001b[K     |█████████████████████████       | 870kB 8.8MB/s eta 0:00:01\r\u001b[K     |█████████████████████████▍      | 880kB 8.8MB/s eta 0:00:01\r\u001b[K     |█████████████████████████▊      | 890kB 8.8MB/s eta 0:00:01\r\u001b[K     |██████████████████████████      | 901kB 8.8MB/s eta 0:00:01\r\u001b[K     |██████████████████████████▎     | 911kB 8.8MB/s eta 0:00:01\r\u001b[K     |██████████████████████████▋     | 921kB 8.8MB/s eta 0:00:01\r\u001b[K     |██████████████████████████▉     | 931kB 8.8MB/s eta 0:00:01\r\u001b[K     |███████████████████████████▏    | 942kB 8.8MB/s eta 0:00:01\r\u001b[K     |███████████████████████████▌    | 952kB 8.8MB/s eta 0:00:01\r\u001b[K     |███████████████████████████▊    | 962kB 8.8MB/s eta 0:00:01\r\u001b[K     |████████████████████████████    | 972kB 8.8MB/s eta 0:00:01\r\u001b[K     |████████████████████████████▍   | 983kB 8.8MB/s eta 0:00:01\r\u001b[K     |████████████████████████████▋   | 993kB 8.8MB/s eta 0:00:01\r\u001b[K     |█████████████████████████████   | 1.0MB 8.8MB/s eta 0:00:01\r\u001b[K     |█████████████████████████████▎  | 1.0MB 8.8MB/s eta 0:00:01\r\u001b[K     |█████████████████████████████▌  | 1.0MB 8.8MB/s eta 0:00:01\r\u001b[K     |█████████████████████████████▉  | 1.0MB 8.8MB/s eta 0:00:01\r\u001b[K     |██████████████████████████████▏ | 1.0MB 8.8MB/s eta 0:00:01\r\u001b[K     |██████████████████████████████▍ | 1.1MB 8.8MB/s eta 0:00:01\r\u001b[K     |██████████████████████████████▊ | 1.1MB 8.8MB/s eta 0:00:01\r\u001b[K     |███████████████████████████████ | 1.1MB 8.8MB/s eta 0:00:01\r\u001b[K     |███████████████████████████████▎| 1.1MB 8.8MB/s eta 0:00:01\r\u001b[K     |███████████████████████████████▋| 1.1MB 8.8MB/s eta 0:00:01\r\u001b[K     |████████████████████████████████| 1.1MB 8.8MB/s eta 0:00:01\r\u001b[K     |████████████████████████████████| 1.1MB 8.8MB/s \n",
            "\u001b[?25hRequirement already satisfied: numpy in /usr/local/lib/python3.6/dist-packages (from implicit) (1.18.5)\n",
            "Requirement already satisfied: scipy>=0.16 in /usr/local/lib/python3.6/dist-packages (from implicit) (1.4.1)\n",
            "Requirement already satisfied: tqdm>=4.27 in /usr/local/lib/python3.6/dist-packages (from implicit) (4.41.1)\n",
            "Building wheels for collected packages: implicit\n",
            "  Building wheel for implicit (setup.py) ... \u001b[?25l\u001b[?25hdone\n",
            "  Created wheel for implicit: filename=implicit-0.4.4-cp36-cp36m-linux_x86_64.whl size=3419432 sha256=7d4c614557fcfe8674eca55fd312d925d033f1e271725f5285abc3c8f2222369\n",
            "  Stored in directory: /root/.cache/pip/wheels/bf/d4/ec/fd4f622fcbefb7521f149905295b2c26adecb23af38aa28217\n",
            "Successfully built implicit\n",
            "Installing collected packages: implicit\n",
            "Successfully installed implicit-0.4.4\n"
          ],
          "name": "stdout"
        }
      ]
    },
    {
      "cell_type": "code",
      "metadata": {
        "id": "W1W1BuiTeqCe"
      },
      "source": [
        "import pandas as pd\n",
        "import numpy as np\n",
        "from itertools import chain\n",
        "from sklearn.utils import shuffle\n",
        "import pickle\n",
        "from scipy import sparse\n",
        "from implicit.als import AlternatingLeastSquares as ALS"
      ],
      "execution_count": null,
      "outputs": []
    },
    {
      "cell_type": "markdown",
      "metadata": {
        "id": "0dJ0OyBtTjP_"
      },
      "source": [
        "* 유사도 계산하는게 아니라 여기에 넣는게 맞는거같은뎅 ............?!"
      ]
    },
    {
      "cell_type": "code",
      "metadata": {
        "id": "1oNVFPYvhJcI",
        "outputId": "d7cc539c-cc2d-4595-b2cd-2b3c8be2ce3f",
        "colab": {
          "base_uri": "https://localhost:8080/"
        }
      },
      "source": [
        "# train,val data\n",
        "tr = pd.read_json(\"/content/drive/My Drive/Melon-PL-Continuation/0802/train_split/pickle/train.json\", typ = 'frame')\n",
        "val = pd.read_json(\"/content/drive/My Drive/Melon-PL-Continuation/0802/train_split/pickle/val_question.json\", typ = 'frame')\n",
        "val_answer = pd.read_json(\"/content/drive/My Drive/Melon-PL-Continuation/0802/train_split/pickle/val_answer.json\", typ = 'frame')\n",
        "# tr['id'] = tr.id.map(str) # surprise에서 inner id와 raw id 사이에 헷갈림 방지\n",
        "\n",
        "# train playlist를 이용해서 곡 별 태그(new_tags)와 cluster id( PCA + K-means 결과)를 추가한 song_meta\n",
        "song_meta = pd.read_pickle(\"/content/drive/My Drive/Melon-PL-Continuation/0802/train_split/song_meta_nov.pkl\")\n",
        "pca = pd.read_pickle(\"/content/drive/My Drive/Melon-PL-Continuation/0802/train_split/pca_kmean_nov_1000.pkl\")\n",
        "# pca = pd.read_pickle(\"/content/drive/My Drive/Melon-PL-Continuation/0802/train_split/pca_kmean_nov_1300.pkl\")\n",
        "\n",
        "# song_meta = pd.read_pickle(\"/content/drive/My Drive/Melon-PL-Continuation/0802/train_split/pickle/song_meta.pkl\")\n",
        "# pca = pd.read_pickle(\"/content/drive/My Drive/Melon-PL-Continuation/0802/train_split/pickle/0804_split_pca.pkl\")\n",
        "song_meta['raw_cid'] = pca['MiniBatchKmeans'].map(lambda x: f'c{x}')\n",
        "\n",
        "print(len(set(song_meta['raw_cid'])))"
      ],
      "execution_count": 527,
      "outputs": [
        {
          "output_type": "stream",
          "text": [
            "999\n"
          ],
          "name": "stdout"
        }
      ]
    },
    {
      "cell_type": "code",
      "metadata": {
        "id": "hpeYUMSkGdY9",
        "outputId": "ed0897b7-70cc-4c65-d511-9acf283b53d2",
        "colab": {
          "base_uri": "https://localhost:8080/"
        }
      },
      "source": [
        "len(set(tr.id)&set(val.id))"
      ],
      "execution_count": 528,
      "outputs": [
        {
          "output_type": "execute_result",
          "data": {
            "text/plain": [
              "0"
            ]
          },
          "metadata": {
            "tags": []
          },
          "execution_count": 528
        }
      ]
    },
    {
      "cell_type": "code",
      "metadata": {
        "id": "tt4fH6pk0wC7",
        "outputId": "7d6abf36-00f8-4b5a-eea0-4f79ad0b28e9",
        "colab": {
          "base_uri": "https://localhost:8080/"
        }
      },
      "source": [
        "sid_to_title = dict(pd.Series(song_meta.song_name, index = song_meta.id))\n",
        "sid_to_raw_cid = dict(zip(song_meta.id, song_meta.raw_cid))\n",
        "n_clusters = len(set(song_meta['raw_cid']))\n",
        "print(n_clusters)"
      ],
      "execution_count": 529,
      "outputs": [
        {
          "output_type": "stream",
          "text": [
            "999\n"
          ],
          "name": "stdout"
        }
      ]
    },
    {
      "cell_type": "code",
      "metadata": {
        "id": "8G6bAmgt9e1t"
      },
      "source": [
        "tr_val = tr.copy()\n",
        "tr_val = tr_val[tr_val.songs.map(len) > 100]"
      ],
      "execution_count": 530,
      "outputs": []
    },
    {
      "cell_type": "code",
      "metadata": {
        "id": "5AQaXmIAf7jT"
      },
      "source": [
        "new_tags = list(set(chain.from_iterable(song_meta.new_tags)))"
      ],
      "execution_count": 531,
      "outputs": []
    },
    {
      "cell_type": "code",
      "metadata": {
        "id": "7fkbkKrfhJcm",
        "outputId": "274b171f-04f6-4ce4-8bfc-6208f29361ff",
        "colab": {
          "base_uri": "https://localhost:8080/",
          "height": 560
        }
      },
      "source": [
        "tr_val['new_tags'] = tr_val.tags.map(lambda x: [i for i in x if i in new_tags])\n",
        "tr_val['raw_cid'] = tr_val.songs.map(lambda x:[sid_to_raw_cid[i] for i in x])\n",
        "tr_val['raw_items'] = tr_val.raw_cid + tr_val.new_tags\n",
        "tr_val"
      ],
      "execution_count": 532,
      "outputs": [
        {
          "output_type": "execute_result",
          "data": {
            "text/html": [
              "<div>\n",
              "<style scoped>\n",
              "    .dataframe tbody tr th:only-of-type {\n",
              "        vertical-align: middle;\n",
              "    }\n",
              "\n",
              "    .dataframe tbody tr th {\n",
              "        vertical-align: top;\n",
              "    }\n",
              "\n",
              "    .dataframe thead th {\n",
              "        text-align: right;\n",
              "    }\n",
              "</style>\n",
              "<table border=\"1\" class=\"dataframe\">\n",
              "  <thead>\n",
              "    <tr style=\"text-align: right;\">\n",
              "      <th></th>\n",
              "      <th>tags</th>\n",
              "      <th>id</th>\n",
              "      <th>plylst_title</th>\n",
              "      <th>songs</th>\n",
              "      <th>like_cnt</th>\n",
              "      <th>updt_date</th>\n",
              "      <th>new_tags</th>\n",
              "      <th>raw_cid</th>\n",
              "      <th>raw_items</th>\n",
              "    </tr>\n",
              "  </thead>\n",
              "  <tbody>\n",
              "    <tr>\n",
              "      <th>9</th>\n",
              "      <td>[발라드]</td>\n",
              "      <td>41197</td>\n",
              "      <td>발라드 감성아재</td>\n",
              "      <td>[487639, 279532, 131001, 72634, 611860, 625933...</td>\n",
              "      <td>0</td>\n",
              "      <td>2018-01-19 20:07:07.000</td>\n",
              "      <td>[발라드]</td>\n",
              "      <td>[c517, c156, c641, c373, c517, c517, c481, c59...</td>\n",
              "      <td>[c517, c156, c641, c373, c517, c517, c481, c59...</td>\n",
              "    </tr>\n",
              "    <tr>\n",
              "      <th>16</th>\n",
              "      <td>[슬픔, 이별, 설렘, 사랑]</td>\n",
              "      <td>97508</td>\n",
              "      <td>방대한 양의 듀엣곡 종결 리스트</td>\n",
              "      <td>[245307, 114737, 135270, 337267, 226020, 45778...</td>\n",
              "      <td>38</td>\n",
              "      <td>2016-08-27 21:08:14.000</td>\n",
              "      <td>[슬픔, 이별, 설렘, 사랑]</td>\n",
              "      <td>[c975, c289, c445, c239, c342, c536, c884, c34...</td>\n",
              "      <td>[c975, c289, c445, c239, c342, c536, c884, c34...</td>\n",
              "    </tr>\n",
              "    <tr>\n",
              "      <th>22</th>\n",
              "      <td>[아침, 운동, 드라이브, 여행, 기분전환, 스트레스, 신나는]</td>\n",
              "      <td>89216</td>\n",
              "      <td>❤DJ추천 1월 신곡 일렉트로니카 모음❤</td>\n",
              "      <td>[214490, 327679, 346094, 456108, 683590, 40466...</td>\n",
              "      <td>6</td>\n",
              "      <td>2019-09-23 17:01:04.000</td>\n",
              "      <td>[아침, 운동, 드라이브, 여행, 기분전환, 스트레스, 신나는]</td>\n",
              "      <td>[c271, c307, c307, c76, c307, c307, c307, c607...</td>\n",
              "      <td>[c271, c307, c307, c76, c307, c307, c307, c607...</td>\n",
              "    </tr>\n",
              "    <tr>\n",
              "      <th>24</th>\n",
              "      <td>[휴식, 힐링, 설렘, 사랑]</td>\n",
              "      <td>124000</td>\n",
              "      <td>20대후반친구들 들으면 좋은노래</td>\n",
              "      <td>[319794, 107005, 153271, 267452, 680911, 57988...</td>\n",
              "      <td>22</td>\n",
              "      <td>2016-05-28 05:53:50.000</td>\n",
              "      <td>[휴식, 힐링, 설렘, 사랑]</td>\n",
              "      <td>[c987, c231, c319, c517, c481, c163, c638, c16...</td>\n",
              "      <td>[c987, c231, c319, c517, c481, c163, c638, c16...</td>\n",
              "    </tr>\n",
              "    <tr>\n",
              "      <th>31</th>\n",
              "      <td>[감성, 밤, 발라드, 추억, 드라이브, 2000년대, 사랑, 이별]</td>\n",
              "      <td>102414</td>\n",
              "      <td>질리지않는 2000년대 명품발라드 모음.</td>\n",
              "      <td>[82330, 515325, 405668, 80209, 166665, 104260,...</td>\n",
              "      <td>17715</td>\n",
              "      <td>2019-12-28 07:59:41.000</td>\n",
              "      <td>[감성, 밤, 발라드, 추억, 드라이브, 2000년대, 사랑, 이별]</td>\n",
              "      <td>[c517, c517, c517, c345, c987, c517, c597, c51...</td>\n",
              "      <td>[c517, c517, c517, c345, c987, c517, c597, c51...</td>\n",
              "    </tr>\n",
              "    <tr>\n",
              "      <th>...</th>\n",
              "      <td>...</td>\n",
              "      <td>...</td>\n",
              "      <td>...</td>\n",
              "      <td>...</td>\n",
              "      <td>...</td>\n",
              "      <td>...</td>\n",
              "      <td>...</td>\n",
              "      <td>...</td>\n",
              "      <td>...</td>\n",
              "    </tr>\n",
              "    <tr>\n",
              "      <th>92012</th>\n",
              "      <td>[드라이브, 매장음악]</td>\n",
              "      <td>11969</td>\n",
              "      <td>일렉트로니카</td>\n",
              "      <td>[53295, 425595, 460312, 416675, 273525, 512396...</td>\n",
              "      <td>36</td>\n",
              "      <td>2020-04-10 21:49:56.000</td>\n",
              "      <td>[드라이브, 매장음악]</td>\n",
              "      <td>[c500, c788, c512, c875, c651, c562, c875, c56...</td>\n",
              "      <td>[c500, c788, c512, c875, c651, c562, c875, c56...</td>\n",
              "    </tr>\n",
              "    <tr>\n",
              "      <th>92024</th>\n",
              "      <td>[스트레스, 기분전환]</td>\n",
              "      <td>75622</td>\n",
              "      <td>신나는 아이돌노래</td>\n",
              "      <td>[14820, 485589, 183579, 346379, 371341, 268210...</td>\n",
              "      <td>34</td>\n",
              "      <td>2016-09-01 14:18:50.000</td>\n",
              "      <td>[스트레스, 기분전환]</td>\n",
              "      <td>[c726, c985, c144, c144, c684, c420, c144, c50...</td>\n",
              "      <td>[c726, c985, c144, c144, c684, c420, c144, c50...</td>\n",
              "    </tr>\n",
              "    <tr>\n",
              "      <th>92032</th>\n",
              "      <td>[사랑, 설렘, 잔잔한]</td>\n",
              "      <td>103591</td>\n",
              "      <td>★잔잔하고 달달한 랩&amp;노래★</td>\n",
              "      <td>[500576, 190777, 385234, 443495, 402611, 63162...</td>\n",
              "      <td>16</td>\n",
              "      <td>2014-09-02 22:15:33.000</td>\n",
              "      <td>[사랑, 설렘, 잔잔한]</td>\n",
              "      <td>[c390, c769, c342, c342, c407, c163, c655, c40...</td>\n",
              "      <td>[c390, c769, c342, c342, c407, c163, c655, c40...</td>\n",
              "    </tr>\n",
              "    <tr>\n",
              "      <th>92049</th>\n",
              "      <td>[스트레스, 가을]</td>\n",
              "      <td>110161</td>\n",
              "      <td>가을과 어울리는 흔한듯 흔하지 않은 노래들</td>\n",
              "      <td>[373762, 139472, 451946, 130955, 112652, 53866...</td>\n",
              "      <td>6</td>\n",
              "      <td>2014-09-16 09:56:16.000</td>\n",
              "      <td>[스트레스, 가을]</td>\n",
              "      <td>[c51, c231, c156, c481, c715, c14, c240, c253,...</td>\n",
              "      <td>[c51, c231, c156, c481, c715, c14, c240, c253,...</td>\n",
              "    </tr>\n",
              "    <tr>\n",
              "      <th>92051</th>\n",
              "      <td>[90년생, 회상, 추억, 좋은노래, 80년생, 옛날노래]</td>\n",
              "      <td>149690</td>\n",
              "      <td>옛날노래 * 좋은노래 8090년생 노래 모음</td>\n",
              "      <td>[292099, 513963, 174225, 287212, 140444, 62469...</td>\n",
              "      <td>155</td>\n",
              "      <td>2020-01-15 15:15:45.000</td>\n",
              "      <td>[회상, 추억, 좋은노래]</td>\n",
              "      <td>[c156, c133, c319, c573, c864, c574, c236, c64...</td>\n",
              "      <td>[c156, c133, c319, c573, c864, c574, c236, c64...</td>\n",
              "    </tr>\n",
              "  </tbody>\n",
              "</table>\n",
              "<p>9004 rows × 9 columns</p>\n",
              "</div>"
            ],
            "text/plain": [
              "                                         tags  ...                                          raw_items\n",
              "9                                       [발라드]  ...  [c517, c156, c641, c373, c517, c517, c481, c59...\n",
              "16                           [슬픔, 이별, 설렘, 사랑]  ...  [c975, c289, c445, c239, c342, c536, c884, c34...\n",
              "22        [아침, 운동, 드라이브, 여행, 기분전환, 스트레스, 신나는]  ...  [c271, c307, c307, c76, c307, c307, c307, c607...\n",
              "24                           [휴식, 힐링, 설렘, 사랑]  ...  [c987, c231, c319, c517, c481, c163, c638, c16...\n",
              "31     [감성, 밤, 발라드, 추억, 드라이브, 2000년대, 사랑, 이별]  ...  [c517, c517, c517, c345, c987, c517, c597, c51...\n",
              "...                                       ...  ...                                                ...\n",
              "92012                            [드라이브, 매장음악]  ...  [c500, c788, c512, c875, c651, c562, c875, c56...\n",
              "92024                            [스트레스, 기분전환]  ...  [c726, c985, c144, c144, c684, c420, c144, c50...\n",
              "92032                           [사랑, 설렘, 잔잔한]  ...  [c390, c769, c342, c342, c407, c163, c655, c40...\n",
              "92049                              [스트레스, 가을]  ...  [c51, c231, c156, c481, c715, c14, c240, c253,...\n",
              "92051        [90년생, 회상, 추억, 좋은노래, 80년생, 옛날노래]  ...  [c156, c133, c319, c573, c864, c574, c236, c64...\n",
              "\n",
              "[9004 rows x 9 columns]"
            ]
          },
          "metadata": {
            "tags": []
          },
          "execution_count": 532
        }
      ]
    },
    {
      "cell_type": "code",
      "metadata": {
        "id": "pdL-8jbJzvZf"
      },
      "source": [
        "def flatten_series(nested_series, index):\n",
        "    repeated_index = np.repeat(index, nested_series.map(len))\n",
        "    return pd.DataFrame(chain.from_iterable(nested_series), index = repeated_index)"
      ],
      "execution_count": 533,
      "outputs": []
    },
    {
      "cell_type": "code",
      "metadata": {
        "id": "WFoFV9Zc2RHR",
        "outputId": "b509539d-671d-4ada-99b8-090290d48b76",
        "colab": {
          "base_uri": "https://localhost:8080/",
          "height": 392
        }
      },
      "source": [
        "# 모든 rating은 1 \n",
        "tg_ratings = flatten_series(tr_val.new_tags, tr_val.id).reset_index().rename(columns = {0:'iid'})\n",
        "tg_ratings = tg_ratings.groupby(tg_ratings.columns.tolist()).size().reset_index().rename(columns = {0:'rating'})\n",
        "tg_ratings"
      ],
      "execution_count": 534,
      "outputs": [
        {
          "output_type": "execute_result",
          "data": {
            "text/html": [
              "<div>\n",
              "<style scoped>\n",
              "    .dataframe tbody tr th:only-of-type {\n",
              "        vertical-align: middle;\n",
              "    }\n",
              "\n",
              "    .dataframe tbody tr th {\n",
              "        vertical-align: top;\n",
              "    }\n",
              "\n",
              "    .dataframe thead th {\n",
              "        text-align: right;\n",
              "    }\n",
              "</style>\n",
              "<table border=\"1\" class=\"dataframe\">\n",
              "  <thead>\n",
              "    <tr style=\"text-align: right;\">\n",
              "      <th></th>\n",
              "      <th>id</th>\n",
              "      <th>iid</th>\n",
              "      <th>rating</th>\n",
              "    </tr>\n",
              "  </thead>\n",
              "  <tbody>\n",
              "    <tr>\n",
              "      <th>0</th>\n",
              "      <td>41</td>\n",
              "      <td>감성</td>\n",
              "      <td>1</td>\n",
              "    </tr>\n",
              "    <tr>\n",
              "      <th>1</th>\n",
              "      <td>41</td>\n",
              "      <td>배경음악</td>\n",
              "      <td>1</td>\n",
              "    </tr>\n",
              "    <tr>\n",
              "      <th>2</th>\n",
              "      <td>107</td>\n",
              "      <td>2000년대</td>\n",
              "      <td>1</td>\n",
              "    </tr>\n",
              "    <tr>\n",
              "      <th>3</th>\n",
              "      <td>107</td>\n",
              "      <td>bgm</td>\n",
              "      <td>1</td>\n",
              "    </tr>\n",
              "    <tr>\n",
              "      <th>4</th>\n",
              "      <td>107</td>\n",
              "      <td>감성</td>\n",
              "      <td>1</td>\n",
              "    </tr>\n",
              "    <tr>\n",
              "      <th>...</th>\n",
              "      <td>...</td>\n",
              "      <td>...</td>\n",
              "      <td>...</td>\n",
              "    </tr>\n",
              "    <tr>\n",
              "      <th>26840</th>\n",
              "      <td>153405</td>\n",
              "      <td>댄스</td>\n",
              "      <td>1</td>\n",
              "    </tr>\n",
              "    <tr>\n",
              "      <th>26841</th>\n",
              "      <td>153418</td>\n",
              "      <td>아이돌</td>\n",
              "      <td>1</td>\n",
              "    </tr>\n",
              "    <tr>\n",
              "      <th>26842</th>\n",
              "      <td>153421</td>\n",
              "      <td>우울</td>\n",
              "      <td>1</td>\n",
              "    </tr>\n",
              "    <tr>\n",
              "      <th>26843</th>\n",
              "      <td>153421</td>\n",
              "      <td>이별</td>\n",
              "      <td>1</td>\n",
              "    </tr>\n",
              "    <tr>\n",
              "      <th>26844</th>\n",
              "      <td>153422</td>\n",
              "      <td>기분전환</td>\n",
              "      <td>1</td>\n",
              "    </tr>\n",
              "  </tbody>\n",
              "</table>\n",
              "<p>26845 rows × 3 columns</p>\n",
              "</div>"
            ],
            "text/plain": [
              "           id     iid  rating\n",
              "0          41      감성       1\n",
              "1          41    배경음악       1\n",
              "2         107  2000년대       1\n",
              "3         107     bgm       1\n",
              "4         107      감성       1\n",
              "...       ...     ...     ...\n",
              "26840  153405      댄스       1\n",
              "26841  153418     아이돌       1\n",
              "26842  153421      우울       1\n",
              "26843  153421      이별       1\n",
              "26844  153422    기분전환       1\n",
              "\n",
              "[26845 rows x 3 columns]"
            ]
          },
          "metadata": {
            "tags": []
          },
          "execution_count": 534
        }
      ]
    },
    {
      "cell_type": "code",
      "metadata": {
        "id": "XE-cJLZw2v6F",
        "outputId": "e188f33c-0292-4edd-ebfc-9103016bcced",
        "colab": {
          "base_uri": "https://localhost:8080/",
          "height": 392
        }
      },
      "source": [
        "# 얘도 1/0으로 줘볼까?\n",
        "\n",
        "cl_ratings = flatten_series(tr_val.raw_cid, tr_val.id).reset_index().rename(columns = {0:'iid'})\n",
        "cl_ratings = cl_ratings.groupby(cl_ratings.columns.tolist()).size().reset_index().rename(columns = {0:'rating'})\n",
        "cl_ratings"
      ],
      "execution_count": 535,
      "outputs": [
        {
          "output_type": "execute_result",
          "data": {
            "text/html": [
              "<div>\n",
              "<style scoped>\n",
              "    .dataframe tbody tr th:only-of-type {\n",
              "        vertical-align: middle;\n",
              "    }\n",
              "\n",
              "    .dataframe tbody tr th {\n",
              "        vertical-align: top;\n",
              "    }\n",
              "\n",
              "    .dataframe thead th {\n",
              "        text-align: right;\n",
              "    }\n",
              "</style>\n",
              "<table border=\"1\" class=\"dataframe\">\n",
              "  <thead>\n",
              "    <tr style=\"text-align: right;\">\n",
              "      <th></th>\n",
              "      <th>id</th>\n",
              "      <th>iid</th>\n",
              "      <th>rating</th>\n",
              "    </tr>\n",
              "  </thead>\n",
              "  <tbody>\n",
              "    <tr>\n",
              "      <th>0</th>\n",
              "      <td>25</td>\n",
              "      <td>c105</td>\n",
              "      <td>2</td>\n",
              "    </tr>\n",
              "    <tr>\n",
              "      <th>1</th>\n",
              "      <td>25</td>\n",
              "      <td>c150</td>\n",
              "      <td>3</td>\n",
              "    </tr>\n",
              "    <tr>\n",
              "      <th>2</th>\n",
              "      <td>25</td>\n",
              "      <td>c177</td>\n",
              "      <td>3</td>\n",
              "    </tr>\n",
              "    <tr>\n",
              "      <th>3</th>\n",
              "      <td>25</td>\n",
              "      <td>c222</td>\n",
              "      <td>11</td>\n",
              "    </tr>\n",
              "    <tr>\n",
              "      <th>4</th>\n",
              "      <td>25</td>\n",
              "      <td>c256</td>\n",
              "      <td>7</td>\n",
              "    </tr>\n",
              "    <tr>\n",
              "      <th>...</th>\n",
              "      <td>...</td>\n",
              "      <td>...</td>\n",
              "      <td>...</td>\n",
              "    </tr>\n",
              "    <tr>\n",
              "      <th>446445</th>\n",
              "      <td>153422</td>\n",
              "      <td>c96</td>\n",
              "      <td>1</td>\n",
              "    </tr>\n",
              "    <tr>\n",
              "      <th>446446</th>\n",
              "      <td>153422</td>\n",
              "      <td>c961</td>\n",
              "      <td>1</td>\n",
              "    </tr>\n",
              "    <tr>\n",
              "      <th>446447</th>\n",
              "      <td>153422</td>\n",
              "      <td>c978</td>\n",
              "      <td>5</td>\n",
              "    </tr>\n",
              "    <tr>\n",
              "      <th>446448</th>\n",
              "      <td>153422</td>\n",
              "      <td>c99</td>\n",
              "      <td>2</td>\n",
              "    </tr>\n",
              "    <tr>\n",
              "      <th>446449</th>\n",
              "      <td>153422</td>\n",
              "      <td>c998</td>\n",
              "      <td>3</td>\n",
              "    </tr>\n",
              "  </tbody>\n",
              "</table>\n",
              "<p>446450 rows × 3 columns</p>\n",
              "</div>"
            ],
            "text/plain": [
              "            id   iid  rating\n",
              "0           25  c105       2\n",
              "1           25  c150       3\n",
              "2           25  c177       3\n",
              "3           25  c222      11\n",
              "4           25  c256       7\n",
              "...        ...   ...     ...\n",
              "446445  153422   c96       1\n",
              "446446  153422  c961       1\n",
              "446447  153422  c978       5\n",
              "446448  153422   c99       2\n",
              "446449  153422  c998       3\n",
              "\n",
              "[446450 rows x 3 columns]"
            ]
          },
          "metadata": {
            "tags": []
          },
          "execution_count": 535
        }
      ]
    },
    {
      "cell_type": "code",
      "metadata": {
        "id": "ga6bh1pfBGFl",
        "outputId": "5bcab7d5-d530-4d11-8a41-b1590c23165c",
        "colab": {
          "base_uri": "https://localhost:8080/",
          "height": 427
        }
      },
      "source": [
        "# 주로 몇개의 cluster를 이용하고 있을까?\n",
        "# 평균 49개, 최대 139개의 cluster를 이용한다. => 모든 cluster의 정보를 이용하지 말고, 플레이리스트를 대표할 수 있는 cluster 몇개만을 추출하자.\n",
        "\n",
        "cl_ratings.groupby('id').iid.size().hist()\n",
        "cl_ratings.groupby('id').iid.size().describe()"
      ],
      "execution_count": 536,
      "outputs": [
        {
          "output_type": "execute_result",
          "data": {
            "text/plain": [
              "count    9004.000000\n",
              "mean       49.583518\n",
              "std        21.727121\n",
              "min         1.000000\n",
              "25%        34.000000\n",
              "50%        48.000000\n",
              "75%        63.000000\n",
              "max       139.000000\n",
              "Name: iid, dtype: float64"
            ]
          },
          "metadata": {
            "tags": []
          },
          "execution_count": 536
        },
        {
          "output_type": "display_data",
          "data": {
            "image/png": "[encoded data removed]",
            "text/plain": [
              "<Figure size 432x288 with 1 Axes>"
            ]
          },
          "metadata": {
            "tags": [],
            "needs_background": "light"
          }
        }
      ]
    },
    {
      "cell_type": "code",
      "metadata": {
        "id": "gj-LKSJj9UYa",
        "outputId": "ec125d7f-aa2e-49e7-853c-25c43840dec3",
        "colab": {
          "base_uri": "https://localhost:8080/",
          "height": 392
        }
      },
      "source": [
        "# 15개만 쓴다면?\n",
        "cl_ratings_tail = cl_ratings.groupby('id').apply(lambda x:x.sort_values('rating').tail(15))\n",
        "cl_ratings_tail.reset_index(drop = True, inplace = True)\n",
        "cl_ratings_tail"
      ],
      "execution_count": 540,
      "outputs": [
        {
          "output_type": "execute_result",
          "data": {
            "text/html": [
              "<div>\n",
              "<style scoped>\n",
              "    .dataframe tbody tr th:only-of-type {\n",
              "        vertical-align: middle;\n",
              "    }\n",
              "\n",
              "    .dataframe tbody tr th {\n",
              "        vertical-align: top;\n",
              "    }\n",
              "\n",
              "    .dataframe thead th {\n",
              "        text-align: right;\n",
              "    }\n",
              "</style>\n",
              "<table border=\"1\" class=\"dataframe\">\n",
              "  <thead>\n",
              "    <tr style=\"text-align: right;\">\n",
              "      <th></th>\n",
              "      <th>id</th>\n",
              "      <th>iid</th>\n",
              "      <th>rating</th>\n",
              "    </tr>\n",
              "  </thead>\n",
              "  <tbody>\n",
              "    <tr>\n",
              "      <th>0</th>\n",
              "      <td>25</td>\n",
              "      <td>c989</td>\n",
              "      <td>5</td>\n",
              "    </tr>\n",
              "    <tr>\n",
              "      <th>1</th>\n",
              "      <td>25</td>\n",
              "      <td>c330</td>\n",
              "      <td>7</td>\n",
              "    </tr>\n",
              "    <tr>\n",
              "      <th>2</th>\n",
              "      <td>25</td>\n",
              "      <td>c533</td>\n",
              "      <td>7</td>\n",
              "    </tr>\n",
              "    <tr>\n",
              "      <th>3</th>\n",
              "      <td>25</td>\n",
              "      <td>c256</td>\n",
              "      <td>7</td>\n",
              "    </tr>\n",
              "    <tr>\n",
              "      <th>4</th>\n",
              "      <td>25</td>\n",
              "      <td>c857</td>\n",
              "      <td>7</td>\n",
              "    </tr>\n",
              "    <tr>\n",
              "      <th>...</th>\n",
              "      <td>...</td>\n",
              "      <td>...</td>\n",
              "      <td>...</td>\n",
              "    </tr>\n",
              "    <tr>\n",
              "      <th>132456</th>\n",
              "      <td>153422</td>\n",
              "      <td>c374</td>\n",
              "      <td>8</td>\n",
              "    </tr>\n",
              "    <tr>\n",
              "      <th>132457</th>\n",
              "      <td>153422</td>\n",
              "      <td>c459</td>\n",
              "      <td>11</td>\n",
              "    </tr>\n",
              "    <tr>\n",
              "      <th>132458</th>\n",
              "      <td>153422</td>\n",
              "      <td>c156</td>\n",
              "      <td>16</td>\n",
              "    </tr>\n",
              "    <tr>\n",
              "      <th>132459</th>\n",
              "      <td>153422</td>\n",
              "      <td>c319</td>\n",
              "      <td>16</td>\n",
              "    </tr>\n",
              "    <tr>\n",
              "      <th>132460</th>\n",
              "      <td>153422</td>\n",
              "      <td>c655</td>\n",
              "      <td>22</td>\n",
              "    </tr>\n",
              "  </tbody>\n",
              "</table>\n",
              "<p>132461 rows × 3 columns</p>\n",
              "</div>"
            ],
            "text/plain": [
              "            id   iid  rating\n",
              "0           25  c989       5\n",
              "1           25  c330       7\n",
              "2           25  c533       7\n",
              "3           25  c256       7\n",
              "4           25  c857       7\n",
              "...        ...   ...     ...\n",
              "132456  153422  c374       8\n",
              "132457  153422  c459      11\n",
              "132458  153422  c156      16\n",
              "132459  153422  c319      16\n",
              "132460  153422  c655      22\n",
              "\n",
              "[132461 rows x 3 columns]"
            ]
          },
          "metadata": {
            "tags": []
          },
          "execution_count": 540
        }
      ]
    },
    {
      "cell_type": "code",
      "metadata": {
        "id": "ZhZPs5OM27_d"
      },
      "source": [
        "total = cl_ratings.groupby('id').rating.sum() # 포함된 전체 곡\n",
        "in_tail = cl_ratings_tail.groupby('id').rating.sum() # tail에 포함된 곡\n",
        "ratio = in_tail/total # tail/전체의 비율"
      ],
      "execution_count": 541,
      "outputs": []
    },
    {
      "cell_type": "code",
      "metadata": {
        "id": "9XB81pbM-wji",
        "outputId": "251bc7d5-ab2f-4a12-ee24-f13a9996e08c",
        "colab": {
          "base_uri": "https://localhost:8080/",
          "height": 427
        }
      },
      "source": [
        "# 25% 이상이 전체 곡의 59%를 포함하고 있으며 절반 이상이 71% 이상을 포함하고 있다. 플레이 리스트의 정보를 충분히 표현할 수 있다고 판단한다.\n",
        "ratio.hist()\n",
        "ratio.describe()"
      ],
      "execution_count": 542,
      "outputs": [
        {
          "output_type": "execute_result",
          "data": {
            "text/plain": [
              "count    9004.000000\n",
              "mean        0.714198\n",
              "std         0.162797\n",
              "min         0.239796\n",
              "25%         0.594103\n",
              "50%         0.713395\n",
              "75%         0.839653\n",
              "max         1.000000\n",
              "Name: rating, dtype: float64"
            ]
          },
          "metadata": {
            "tags": []
          },
          "execution_count": 542
        },
        {
          "output_type": "display_data",
          "data": {
            "image/png": "[encoded data removed]",
            "text/plain": [
              "<Figure size 432x288 with 1 Axes>"
            ]
          },
          "metadata": {
            "tags": [],
            "needs_background": "light"
          }
        }
      ]
    },
    {
      "cell_type": "code",
      "metadata": {
        "id": "aLdH3oi-6bgV",
        "outputId": "8570a711-5cd0-4a00-ed08-898b6e463a5c",
        "colab": {
          "base_uri": "https://localhost:8080/",
          "height": 392
        }
      },
      "source": [
        "cl_ratings_tail.loc[:,'rating'] = 1\n",
        "cl_ratings_tail"
      ],
      "execution_count": 543,
      "outputs": [
        {
          "output_type": "execute_result",
          "data": {
            "text/html": [
              "<div>\n",
              "<style scoped>\n",
              "    .dataframe tbody tr th:only-of-type {\n",
              "        vertical-align: middle;\n",
              "    }\n",
              "\n",
              "    .dataframe tbody tr th {\n",
              "        vertical-align: top;\n",
              "    }\n",
              "\n",
              "    .dataframe thead th {\n",
              "        text-align: right;\n",
              "    }\n",
              "</style>\n",
              "<table border=\"1\" class=\"dataframe\">\n",
              "  <thead>\n",
              "    <tr style=\"text-align: right;\">\n",
              "      <th></th>\n",
              "      <th>id</th>\n",
              "      <th>iid</th>\n",
              "      <th>rating</th>\n",
              "    </tr>\n",
              "  </thead>\n",
              "  <tbody>\n",
              "    <tr>\n",
              "      <th>0</th>\n",
              "      <td>25</td>\n",
              "      <td>c989</td>\n",
              "      <td>1</td>\n",
              "    </tr>\n",
              "    <tr>\n",
              "      <th>1</th>\n",
              "      <td>25</td>\n",
              "      <td>c330</td>\n",
              "      <td>1</td>\n",
              "    </tr>\n",
              "    <tr>\n",
              "      <th>2</th>\n",
              "      <td>25</td>\n",
              "      <td>c533</td>\n",
              "      <td>1</td>\n",
              "    </tr>\n",
              "    <tr>\n",
              "      <th>3</th>\n",
              "      <td>25</td>\n",
              "      <td>c256</td>\n",
              "      <td>1</td>\n",
              "    </tr>\n",
              "    <tr>\n",
              "      <th>4</th>\n",
              "      <td>25</td>\n",
              "      <td>c857</td>\n",
              "      <td>1</td>\n",
              "    </tr>\n",
              "    <tr>\n",
              "      <th>...</th>\n",
              "      <td>...</td>\n",
              "      <td>...</td>\n",
              "      <td>...</td>\n",
              "    </tr>\n",
              "    <tr>\n",
              "      <th>132456</th>\n",
              "      <td>153422</td>\n",
              "      <td>c374</td>\n",
              "      <td>1</td>\n",
              "    </tr>\n",
              "    <tr>\n",
              "      <th>132457</th>\n",
              "      <td>153422</td>\n",
              "      <td>c459</td>\n",
              "      <td>1</td>\n",
              "    </tr>\n",
              "    <tr>\n",
              "      <th>132458</th>\n",
              "      <td>153422</td>\n",
              "      <td>c156</td>\n",
              "      <td>1</td>\n",
              "    </tr>\n",
              "    <tr>\n",
              "      <th>132459</th>\n",
              "      <td>153422</td>\n",
              "      <td>c319</td>\n",
              "      <td>1</td>\n",
              "    </tr>\n",
              "    <tr>\n",
              "      <th>132460</th>\n",
              "      <td>153422</td>\n",
              "      <td>c655</td>\n",
              "      <td>1</td>\n",
              "    </tr>\n",
              "  </tbody>\n",
              "</table>\n",
              "<p>132461 rows × 3 columns</p>\n",
              "</div>"
            ],
            "text/plain": [
              "            id   iid  rating\n",
              "0           25  c989       1\n",
              "1           25  c330       1\n",
              "2           25  c533       1\n",
              "3           25  c256       1\n",
              "4           25  c857       1\n",
              "...        ...   ...     ...\n",
              "132456  153422  c374       1\n",
              "132457  153422  c459       1\n",
              "132458  153422  c156       1\n",
              "132459  153422  c319       1\n",
              "132460  153422  c655       1\n",
              "\n",
              "[132461 rows x 3 columns]"
            ]
          },
          "metadata": {
            "tags": []
          },
          "execution_count": 543
        }
      ]
    },
    {
      "cell_type": "code",
      "metadata": {
        "id": "z8QS9WQrLOh4"
      },
      "source": [
        "selected_raw_cid = cl_ratings_tail.iid.unique().tolist()\n",
        "selected_tags = tg_ratings.iid.unique().tolist()\n",
        "selected_raw_items = selected_clusters + selected_tags"
      ],
      "execution_count": 544,
      "outputs": []
    },
    {
      "cell_type": "code",
      "metadata": {
        "id": "6sU023fpCf9m"
      },
      "source": [
        "# to_index dictionary 만들기\n",
        "raw_cid_to_index = {raw_cid:i for i,raw_cid in enumerate(selected_raw_cid)}\n",
        "index_to_raw_cid = {j:i for i,j in raw_cid_to_index.items()}\n",
        "n_clusters = len(raw_cid_to_index)\n",
        "\n",
        "tag_to_index = {tag:i + n_clusters for i,tag in enumerate(selected_tags)}\n",
        "index_to_tag = {j:i for i,j in tag_to_index.items()}\n",
        "n_tags = len(tag_to_index)\n",
        "\n",
        "ply_to_index = {ply:i for i,ply in enumerate(cl_ratings_tail.id.unique())}\n",
        "index_to_ply = {j:i for i,j in ply_to_index.items()}\n",
        "\n",
        "raw_items_to_index = {**raw_cid_to_index,**tag_to_index}"
      ],
      "execution_count": 545,
      "outputs": []
    },
    {
      "cell_type": "code",
      "metadata": {
        "id": "APUC8CMBErJB",
        "outputId": "cd3685c1-cd89-47e2-ecd0-b35bc0abcf06",
        "colab": {
          "base_uri": "https://localhost:8080/"
        }
      },
      "source": [
        "print('tag 수:',n_tags)\n",
        "print('cluster 수:',n_clusters)"
      ],
      "execution_count": 546,
      "outputs": [
        {
          "output_type": "stream",
          "text": [
            "tag 수: 361\n",
            "cluster 수: 931\n"
          ],
          "name": "stdout"
        }
      ]
    },
    {
      "cell_type": "code",
      "metadata": {
        "id": "FH_ZgzWcD-6e"
      },
      "source": [
        "cl_ratings_tail['iid'] = cl_ratings_tail['iid'].map(raw_cid_to_index)\n",
        "tg_ratings['iid'] = tg_ratings['iid'].map(tag_to_index)"
      ],
      "execution_count": 547,
      "outputs": []
    },
    {
      "cell_type": "code",
      "metadata": {
        "id": "bnF3fg3qB7O7",
        "outputId": "ebbff777-2616-437d-f8a5-e13f51e5b175",
        "colab": {
          "base_uri": "https://localhost:8080/",
          "height": 392
        }
      },
      "source": [
        "cl_tg = pd.concat([cl_ratings_tail, tg_ratings])\n",
        "cl_tg['id'] = cl_tg['id'].map(ply_to_index)\n",
        "cl_tg"
      ],
      "execution_count": 548,
      "outputs": [
        {
          "output_type": "execute_result",
          "data": {
            "text/html": [
              "<div>\n",
              "<style scoped>\n",
              "    .dataframe tbody tr th:only-of-type {\n",
              "        vertical-align: middle;\n",
              "    }\n",
              "\n",
              "    .dataframe tbody tr th {\n",
              "        vertical-align: top;\n",
              "    }\n",
              "\n",
              "    .dataframe thead th {\n",
              "        text-align: right;\n",
              "    }\n",
              "</style>\n",
              "<table border=\"1\" class=\"dataframe\">\n",
              "  <thead>\n",
              "    <tr style=\"text-align: right;\">\n",
              "      <th></th>\n",
              "      <th>id</th>\n",
              "      <th>iid</th>\n",
              "      <th>rating</th>\n",
              "    </tr>\n",
              "  </thead>\n",
              "  <tbody>\n",
              "    <tr>\n",
              "      <th>0</th>\n",
              "      <td>0</td>\n",
              "      <td>0</td>\n",
              "      <td>1</td>\n",
              "    </tr>\n",
              "    <tr>\n",
              "      <th>1</th>\n",
              "      <td>0</td>\n",
              "      <td>1</td>\n",
              "      <td>1</td>\n",
              "    </tr>\n",
              "    <tr>\n",
              "      <th>2</th>\n",
              "      <td>0</td>\n",
              "      <td>2</td>\n",
              "      <td>1</td>\n",
              "    </tr>\n",
              "    <tr>\n",
              "      <th>3</th>\n",
              "      <td>0</td>\n",
              "      <td>3</td>\n",
              "      <td>1</td>\n",
              "    </tr>\n",
              "    <tr>\n",
              "      <th>4</th>\n",
              "      <td>0</td>\n",
              "      <td>4</td>\n",
              "      <td>1</td>\n",
              "    </tr>\n",
              "    <tr>\n",
              "      <th>...</th>\n",
              "      <td>...</td>\n",
              "      <td>...</td>\n",
              "      <td>...</td>\n",
              "    </tr>\n",
              "    <tr>\n",
              "      <th>26840</th>\n",
              "      <td>9000</td>\n",
              "      <td>962</td>\n",
              "      <td>1</td>\n",
              "    </tr>\n",
              "    <tr>\n",
              "      <th>26841</th>\n",
              "      <td>9001</td>\n",
              "      <td>963</td>\n",
              "      <td>1</td>\n",
              "    </tr>\n",
              "    <tr>\n",
              "      <th>26842</th>\n",
              "      <td>9002</td>\n",
              "      <td>1168</td>\n",
              "      <td>1</td>\n",
              "    </tr>\n",
              "    <tr>\n",
              "      <th>26843</th>\n",
              "      <td>9002</td>\n",
              "      <td>992</td>\n",
              "      <td>1</td>\n",
              "    </tr>\n",
              "    <tr>\n",
              "      <th>26844</th>\n",
              "      <td>9003</td>\n",
              "      <td>947</td>\n",
              "      <td>1</td>\n",
              "    </tr>\n",
              "  </tbody>\n",
              "</table>\n",
              "<p>159306 rows × 3 columns</p>\n",
              "</div>"
            ],
            "text/plain": [
              "         id   iid  rating\n",
              "0         0     0       1\n",
              "1         0     1       1\n",
              "2         0     2       1\n",
              "3         0     3       1\n",
              "4         0     4       1\n",
              "...     ...   ...     ...\n",
              "26840  9000   962       1\n",
              "26841  9001   963       1\n",
              "26842  9002  1168       1\n",
              "26843  9002   992       1\n",
              "26844  9003   947       1\n",
              "\n",
              "[159306 rows x 3 columns]"
            ]
          },
          "metadata": {
            "tags": []
          },
          "execution_count": 548
        }
      ]
    },
    {
      "cell_type": "code",
      "metadata": {
        "id": "0oJSyIyDYZpv"
      },
      "source": [
        "# cid_to_song(sorted by frequency)\n",
        "song_freq = pd.DataFrame(pd.Series(chain.from_iterable(tr_val.songs)).value_counts(), columns = [\"freq\"])\n",
        "song_freq['raw_cid'] = [sid_to_raw_cid[i] for i in song_freq.index.tolist()]\n",
        "song_freq_dict = dict(song_freq.sort_values(['raw_cid','freq'], ascending=False).groupby('raw_cid').apply(lambda x:x.index.tolist()))"
      ],
      "execution_count": 549,
      "outputs": []
    },
    {
      "cell_type": "markdown",
      "metadata": {
        "id": "2s5w2wtICXcH"
      },
      "source": [
        "# log 관련"
      ]
    },
    {
      "cell_type": "code",
      "metadata": {
        "id": "jLTgjMyW4Io5"
      },
      "source": [
        "# # log하면 괜찮아진다.\n",
        "\n",
        "# import math\n",
        "# log_ratings = cl_tg[~cl_tg.iid.str.isalpha()].rating.map(lambda x: math.log(x+2) if x > 3 else 0) # 해당 cluster에 적어도 4곡은 들어있어야 유효하다고 판단하자. (noise들 때문에 적합이 잘 안된듯)\n",
        "# log_ratings.hist()\n",
        "# display(log_ratings.describe())"
      ],
      "execution_count": null,
      "outputs": []
    },
    {
      "cell_type": "code",
      "metadata": {
        "id": "HfG9YkdeHUoh"
      },
      "source": [
        "# # 2점과 10,12점 사이에 차이를 주면서 tag의 rating과 스케일을 맞춰준다.\n",
        "\n",
        "# log_ratings.loc[cl_tg.id == index_to_uid[100]]"
      ],
      "execution_count": null,
      "outputs": []
    },
    {
      "cell_type": "code",
      "metadata": {
        "id": "pHzztX6QHDhq"
      },
      "source": [
        "# cl_tg.loc[~cl_tg.iid.str.isalpha(),'rating'] = log_ratings"
      ],
      "execution_count": null,
      "outputs": []
    },
    {
      "cell_type": "code",
      "metadata": {
        "id": "UL3VXXOETcWR"
      },
      "source": [
        "# cl_tg = cl_tg[cl_tg.rating>0]\n",
        "# cl_tg"
      ],
      "execution_count": null,
      "outputs": []
    },
    {
      "cell_type": "code",
      "metadata": {
        "id": "b0YmRiAYokTi"
      },
      "source": [
        "# item_id = pd.Series(list(set(cl_tg.iid)))\n",
        "# item_id"
      ],
      "execution_count": null,
      "outputs": []
    },
    {
      "cell_type": "code",
      "metadata": {
        "id": "sEhZYH9Cje67"
      },
      "source": [
        "# n_clusters = sum(item_id.str[0] == 'c')\n",
        "# print(n_clusters)\n",
        "# cid_to_index = {j:i for i,j in enumerate(item_id[item_id.str[0] == 'c'])}\n",
        "# index_to_cid = {j:i for i,j in cid_to_index.items()}"
      ],
      "execution_count": null,
      "outputs": []
    },
    {
      "cell_type": "code",
      "metadata": {
        "id": "g5oopNYkimML"
      },
      "source": [
        "# tags = item_id[item_id.str[0] != 'c'].tolist()\n",
        "# print(len(tags))\n",
        "\n",
        "# tag_to_tid = {tags[i]:n_clusters + i for i in range(len(tags))}\n",
        "# tid_to_tag = {tid:tag for tag,tid in tag_to_tid.items()}"
      ],
      "execution_count": null,
      "outputs": []
    },
    {
      "cell_type": "code",
      "metadata": {
        "id": "uTgq27q4i5tR"
      },
      "source": [
        "# cl_tg.loc[:,'iid2'] = cl_tg.iid.map(lambda x: cid_to_index[x] if x[0] == 'c' else tag_to_tid[x])\n",
        "# cl_tg"
      ],
      "execution_count": null,
      "outputs": []
    },
    {
      "cell_type": "markdown",
      "metadata": {
        "id": "eYXgW7WFG8Qs"
      },
      "source": [
        "# CSR matrix 만들기\n",
        "##### USAGE\n",
        "```\n",
        "sparse.coo_matrix(([1,2,3],([1,1,3],[1,2,3]))).todense()\n",
        "```\n",
        "\n",
        "* coo_matrix로 만들건데, **indices**를 넣어야함 !!\n",
        "* clusters + tags는 0~1112의 연속적인 값이니까 ok\n",
        "* play list id는 단위가 크고 연속도 아니니까 `uid_to_index`를 이용해주자"
      ]
    },
    {
      "cell_type": "code",
      "metadata": {
        "id": "JMCvxqGp4plM"
      },
      "source": [
        "user_index = cl_tg.id\n",
        "item_index = cl_tg.iid\n",
        "\n",
        "user_item = sparse.coo_matrix((cl_tg.rating,(user_index, item_index)))"
      ],
      "execution_count": null,
      "outputs": []
    },
    {
      "cell_type": "code",
      "metadata": {
        "id": "nS5RWnGD3mCC",
        "outputId": "db81e51d-fd23-49f4-ab24-819780112a91",
        "colab": {
          "base_uri": "https://localhost:8080/"
        }
      },
      "source": [
        "user_item # ply list 총 92056개, clusters+tags 1112개 !"
      ],
      "execution_count": null,
      "outputs": [
        {
          "output_type": "execute_result",
          "data": {
            "text/plain": [
              "<9004x1292 sparse matrix of type '<class 'numpy.int64'>'\n",
              "\twith 159306 stored elements in COOrdinate format>"
            ]
          },
          "metadata": {
            "tags": []
          },
          "execution_count": 317
        }
      ]
    },
    {
      "cell_type": "markdown",
      "metadata": {
        "id": "fb-wd2IYHLJt"
      },
      "source": [
        "# ALS 방법으로 training [doc](https://implicit.readthedocs.io/en/latest/als.html)  \n",
        "  \n",
        "1. ALS model에 `user-item.T` 를 fitting한다.  \n",
        "  input matrix는 csr 계열이 필요. `csr`, `coo_matrix` 등\n",
        "2. song model과 tag model을 따로 선언하고\n",
        "  1. user_factor를 1번 model의 `user-latent` matrix로 할당한다.\n",
        "  2. item_factors는 1번 모델의 `item-latent` matrix를 slicing해서 할당한다.\n",
        "3. `recommend` method를 이용해서 추천한다 !  \n",
        "  알아서 user가 **소비하지 않은 item만** return한다."
      ]
    },
    {
      "cell_type": "markdown",
      "metadata": {
        "id": "ynntKALCI71h"
      },
      "source": [
        "##### 1. `user-song+tags` 로 fitting"
      ]
    },
    {
      "cell_type": "code",
      "metadata": {
        "id": "fQJNDbJm4uF5",
        "outputId": "bf77a972-c830-449e-f51a-0f94aa8505ef",
        "colab": {
          "base_uri": "https://localhost:8080/",
          "height": 67,
          "referenced_widgets": [
            "9bcc332a727045b2999d98b1895d914a",
            "ac79a0a6d03943058a5f94015271fb85",
            "9f064e56de8c4199a89034b533db1e40",
            "56e13a9b84d34f59b93980c3a9983be8",
            "d680bbe8c4c144d69a9a758162173b5f",
            "33f58b30862c4a3e960fb4c8b79ded03",
            "7cae0ab96be24d81a366d38e68196e1a",
            "6391ee9b6fbc4fb7bae6bd61bfdf755e"
          ]
        }
      },
      "source": [
        "als_model = ALS(factors = 128, regularization = 0.02, iterations = 100) # use_gpu=True(default), iter 15(default)\n",
        "als_model.fit(user_item.T*10)"
      ],
      "execution_count": null,
      "outputs": [
        {
          "output_type": "display_data",
          "data": {
            "application/vnd.jupyter.widget-view+json": {
              "model_id": "9bcc332a727045b2999d98b1895d914a",
              "version_minor": 0,
              "version_major": 2
            },
            "text/plain": [
              "HBox(children=(FloatProgress(value=0.0), HTML(value='')))"
            ]
          },
          "metadata": {
            "tags": []
          }
        },
        {
          "output_type": "stream",
          "text": [
            "\n"
          ],
          "name": "stdout"
        }
      ]
    },
    {
      "cell_type": "code",
      "metadata": {
        "id": "Hby41U1JJfF6",
        "outputId": "a9ae254a-b5c3-4a9f-9a1c-65d6c231ef76",
        "colab": {
          "base_uri": "https://localhost:8080/"
        }
      },
      "source": [
        "print(\"user - latent :\",als_model.user_factors.shape)\n",
        "print(\"item - latent :\",als_model.item_factors.shape)"
      ],
      "execution_count": null,
      "outputs": [
        {
          "output_type": "stream",
          "text": [
            "user - latent : (9004, 128)\n",
            "item - latent : (1292, 128)\n"
          ],
          "name": "stdout"
        }
      ]
    },
    {
      "cell_type": "markdown",
      "metadata": {
        "id": "BkYy9J4NJB81"
      },
      "source": [
        "##### 2. songs/tags에 각각 ALS model을 선언하고 1에서 생성한 latent matrix를 잘라 각각 user, item에 할당"
      ]
    },
    {
      "cell_type": "code",
      "metadata": {
        "id": "d6YpzM2N10E9",
        "outputId": "b1baa5f2-b87c-4a34-9885-03368b95f709",
        "colab": {
          "base_uri": "https://localhost:8080/"
        }
      },
      "source": [
        "# songs_model\n",
        "\n",
        "song_model = ALS()\n",
        "song_model.user_factors = als_model.user_factors # users-latent\n",
        "song_model.item_factors = als_model.item_factors[:n_clusters] # songs-latent\n",
        "\n",
        "# tags_model\n",
        "\n",
        "tag_model = ALS()\n",
        "tag_model.user_factors = als_model.user_factors # users-latent\n",
        "tag_model.item_factors = als_model.item_factors[n_clusters:] # tags-latent"
      ],
      "execution_count": null,
      "outputs": [
        {
          "output_type": "stream",
          "text": [
            "WARNING:implicit:GPU training requires factor size to be a multiple of 32. Increasing factors from 100 to 128.\n",
            "WARNING:implicit:GPU training requires factor size to be a multiple of 32. Increasing factors from 100 to 128.\n"
          ],
          "name": "stderr"
        }
      ]
    },
    {
      "cell_type": "code",
      "metadata": {
        "id": "h5fualbr8NxZ",
        "outputId": "8adf4ec9-fdb5-4b40-9abc-6b43ef68b2cd",
        "colab": {
          "base_uri": "https://localhost:8080/"
        }
      },
      "source": [
        "print('songs - latent',als_model.item_factors[:n_clusters].shape)\n",
        "print('tags - latent',als_model.item_factors[n_clusters:].shape)"
      ],
      "execution_count": null,
      "outputs": [
        {
          "output_type": "stream",
          "text": [
            "songs - latent (931, 128)\n",
            "tags - latent (361, 128)\n"
          ],
          "name": "stdout"
        }
      ]
    },
    {
      "cell_type": "code",
      "metadata": {
        "id": "v1s37LrXBdap",
        "outputId": "aa43d9cd-7a12-4262-de64-8635b4b85645",
        "colab": {
          "base_uri": "https://localhost:8080/"
        }
      },
      "source": [
        "user_item_als = als_model.user_factors.dot(als_model.item_factors.T)\n",
        "user_item_als"
      ],
      "execution_count": null,
      "outputs": [
        {
          "output_type": "execute_result",
          "data": {
            "text/plain": [
              "array([[ 8.6366951e-01,  9.6710265e-01,  9.8027593e-01, ...,\n",
              "         8.9814365e-03,  3.4121231e-03,  1.0594348e-02],\n",
              "       [ 2.1322677e-02, -5.1791526e-02,  1.9308092e-01, ...,\n",
              "         1.3553531e-02,  1.5628787e-03,  3.5948288e-02],\n",
              "       [ 8.2250588e-02,  1.6274105e-01, -1.6233167e-02, ...,\n",
              "         5.6610783e-03,  7.0862686e-03,  3.4945685e-02],\n",
              "       ...,\n",
              "       [-3.5124715e-02,  4.5667950e-02,  6.9695073e-03, ...,\n",
              "         8.4888572e-03, -3.8131068e-03, -2.1344490e-02],\n",
              "       [ 8.9594334e-02,  5.2608538e-02,  3.3019937e-03, ...,\n",
              "        -9.0287765e-03,  6.6081218e-02, -9.1614174e-03],\n",
              "       [ 8.1193232e-04, -4.9367219e-02,  1.9596361e-02, ...,\n",
              "        -1.1023720e-02,  3.0693468e-03, -1.9073470e-03]], dtype=float32)"
            ]
          },
          "metadata": {
            "tags": []
          },
          "execution_count": 322
        }
      ]
    },
    {
      "cell_type": "code",
      "metadata": {
        "id": "7Scemdy7HmCc",
        "outputId": "2a46a7a8-4f69-4316-ea6d-c447c536e9d8",
        "colab": {
          "base_uri": "https://localhost:8080/"
        }
      },
      "source": [
        "# 전부다 1 또는 0으로 예측하는 경우는 없어보인다!\n",
        "user_item_als.round(3)"
      ],
      "execution_count": null,
      "outputs": [
        {
          "output_type": "execute_result",
          "data": {
            "text/plain": [
              "array([[ 0.864,  0.967,  0.98 , ...,  0.009,  0.003,  0.011],\n",
              "       [ 0.021, -0.052,  0.193, ...,  0.014,  0.002,  0.036],\n",
              "       [ 0.082,  0.163, -0.016, ...,  0.006,  0.007,  0.035],\n",
              "       ...,\n",
              "       [-0.035,  0.046,  0.007, ...,  0.008, -0.004, -0.021],\n",
              "       [ 0.09 ,  0.053,  0.003, ..., -0.009,  0.066, -0.009],\n",
              "       [ 0.001, -0.049,  0.02 , ..., -0.011,  0.003, -0.002]],\n",
              "      dtype=float32)"
            ]
          },
          "metadata": {
            "tags": []
          },
          "execution_count": 323
        }
      ]
    },
    {
      "cell_type": "code",
      "metadata": {
        "id": "ukHVB47rHt_k",
        "outputId": "44244cf9-e8c7-4080-fac3-a1bae191d2b1",
        "colab": {
          "base_uri": "https://localhost:8080/"
        }
      },
      "source": [
        "user_item_als.max(axis=1)"
      ],
      "execution_count": null,
      "outputs": [
        {
          "output_type": "execute_result",
          "data": {
            "text/plain": [
              "array([1.0415534, 1.0143535, 1.1668565, ..., 1.0243708, 1.0333903,\n",
              "       1.0116272], dtype=float32)"
            ]
          },
          "metadata": {
            "tags": []
          },
          "execution_count": 324
        }
      ]
    },
    {
      "cell_type": "code",
      "metadata": {
        "id": "bPiboKE2H8hC",
        "outputId": "f173f2eb-2db8-410d-9090-faeaa899d6bc",
        "colab": {
          "base_uri": "https://localhost:8080/"
        }
      },
      "source": [
        "user_item_als.min(axis=1)"
      ],
      "execution_count": null,
      "outputs": [
        {
          "output_type": "execute_result",
          "data": {
            "text/plain": [
              "array([-0.29470044, -0.44809327, -0.5001632 , ..., -0.30799448,\n",
              "       -0.30401567, -0.20368764], dtype=float32)"
            ]
          },
          "metadata": {
            "tags": []
          },
          "execution_count": 325
        }
      ]
    },
    {
      "cell_type": "markdown",
      "metadata": {
        "id": "XgJDaZlpJkwi"
      },
      "source": [
        "##### 3. recommendation에 이용할 orig matrix를 준비한다.\n",
        "* als_model_object.recommend에는 user_index, orig_matrix가 필요하다."
      ]
    },
    {
      "cell_type": "code",
      "metadata": {
        "id": "uyqeYu3cwg2f"
      },
      "source": [
        "item_rec_csr = user_item.tocsr()[:, :n_clusters]\n",
        "tag_rec_csr = user_item.tocsr()[:, n_clusters:]"
      ],
      "execution_count": null,
      "outputs": []
    },
    {
      "cell_type": "markdown",
      "metadata": {
        "id": "dXnFBTulJiPJ"
      },
      "source": [
        "# 잘 적합되었는지 체크"
      ]
    },
    {
      "cell_type": "code",
      "metadata": {
        "id": "K7JYNtRtJnD7",
        "outputId": "7769fbca-a80a-4e73-a4bf-57f51bf44d68",
        "colab": {
          "base_uri": "https://localhost:8080/",
          "height": 253
        }
      },
      "source": [
        "# 출근길 등교길 산책 퇴근길 => 아침, 버스, 월요병, 지하철이 상위에 위치한다.\n",
        "# tag는 적절하게 적합된 것으로 보인다. 그러나 ...\n",
        "\n",
        "index = 8000\n",
        "gt = tr_val[tr_val.id == index_to_ply[index]]\n",
        "display(gt)\n",
        "\n",
        "print([index_to_tag[index+n_clusters] for index in user_item_als[:,n_clusters:][index].argsort()[::-1][:10]])\n",
        "print(sorted(user_item_als[:,n_clusters:][index])[::-1][:10])\n",
        "\n",
        "print()\n",
        "g = pd.DataFrame(pd.Series(gt.raw_cid.tolist()[0]).value_counts()[:15])\n",
        "g.reset_index(inplace = True)\n",
        "g['r_cid'] = g['index'].map(raw_cid_to_index)\n",
        "display(g.iloc[:,[2,1]].T)\n",
        "\n",
        "print(user_item_als[:,:n_clusters][index].argsort()[::-1][:15])\n",
        "print(sorted(user_item_als[:,:n_clusters][index])[::-1][:15])"
      ],
      "execution_count": null,
      "outputs": [
        {
          "output_type": "display_data",
          "data": {
            "text/html": [
              "<div>\n",
              "<style scoped>\n",
              "    .dataframe tbody tr th:only-of-type {\n",
              "        vertical-align: middle;\n",
              "    }\n",
              "\n",
              "    .dataframe tbody tr th {\n",
              "        vertical-align: top;\n",
              "    }\n",
              "\n",
              "    .dataframe thead th {\n",
              "        text-align: right;\n",
              "    }\n",
              "</style>\n",
              "<table border=\"1\" class=\"dataframe\">\n",
              "  <thead>\n",
              "    <tr style=\"text-align: right;\">\n",
              "      <th></th>\n",
              "      <th>tags</th>\n",
              "      <th>id</th>\n",
              "      <th>plylst_title</th>\n",
              "      <th>songs</th>\n",
              "      <th>like_cnt</th>\n",
              "      <th>updt_date</th>\n",
              "      <th>new_tags</th>\n",
              "      <th>raw_cid</th>\n",
              "      <th>raw_items</th>\n",
              "    </tr>\n",
              "  </thead>\n",
              "  <tbody>\n",
              "    <tr>\n",
              "      <th>89109</th>\n",
              "      <td>[여름, 여행, 댄스, 신나는]</td>\n",
              "      <td>136018</td>\n",
              "      <td>여름엔 케이팝이지</td>\n",
              "      <td>[214965, 475558, 191431, 32131, 669566, 561788...</td>\n",
              "      <td>4</td>\n",
              "      <td>2019-07-05 21:25:08.000</td>\n",
              "      <td>[여름, 여행, 댄스, 신나는]</td>\n",
              "      <td>[c144, c144, c144, c985, c144, c144, c420, c73...</td>\n",
              "      <td>[c144, c144, c144, c985, c144, c144, c420, c73...</td>\n",
              "    </tr>\n",
              "  </tbody>\n",
              "</table>\n",
              "</div>"
            ],
            "text/plain": [
              "                    tags  ...                                          raw_items\n",
              "89109  [여름, 여행, 댄스, 신나는]  ...  [c144, c144, c144, c985, c144, c144, c420, c73...\n",
              "\n",
              "[1 rows x 9 columns]"
            ]
          },
          "metadata": {
            "tags": []
          }
        },
        {
          "output_type": "stream",
          "text": [
            "['신나는', '댄스', '여름', '여행', '아이돌', '산책', '걸그룹', '더위', '바다', '시원한']\n",
            "[0.9493936, 0.9426311, 0.93353254, 0.9177291, 0.47308674, 0.46834347, 0.39450148, 0.37565377, 0.34866992, 0.3354705]\n",
            "\n"
          ],
          "name": "stdout"
        },
        {
          "output_type": "display_data",
          "data": {
            "text/html": [
              "<div>\n",
              "<style scoped>\n",
              "    .dataframe tbody tr th:only-of-type {\n",
              "        vertical-align: middle;\n",
              "    }\n",
              "\n",
              "    .dataframe tbody tr th {\n",
              "        vertical-align: top;\n",
              "    }\n",
              "\n",
              "    .dataframe thead th {\n",
              "        text-align: right;\n",
              "    }\n",
              "</style>\n",
              "<table border=\"1\" class=\"dataframe\">\n",
              "  <thead>\n",
              "    <tr style=\"text-align: right;\">\n",
              "      <th></th>\n",
              "      <th>0</th>\n",
              "      <th>1</th>\n",
              "      <th>2</th>\n",
              "      <th>3</th>\n",
              "      <th>4</th>\n",
              "      <th>5</th>\n",
              "      <th>6</th>\n",
              "      <th>7</th>\n",
              "      <th>8</th>\n",
              "      <th>9</th>\n",
              "      <th>10</th>\n",
              "      <th>11</th>\n",
              "      <th>12</th>\n",
              "      <th>13</th>\n",
              "      <th>14</th>\n",
              "    </tr>\n",
              "  </thead>\n",
              "  <tbody>\n",
              "    <tr>\n",
              "      <th>r_cid</th>\n",
              "      <td>39</td>\n",
              "      <td>77</td>\n",
              "      <td>74</td>\n",
              "      <td>28</td>\n",
              "      <td>129</td>\n",
              "      <td>76</td>\n",
              "      <td>33</td>\n",
              "      <td>16</td>\n",
              "      <td>131</td>\n",
              "      <td>162</td>\n",
              "      <td>127</td>\n",
              "      <td>26</td>\n",
              "      <td>298</td>\n",
              "      <td>24</td>\n",
              "      <td>46</td>\n",
              "    </tr>\n",
              "    <tr>\n",
              "      <th>0</th>\n",
              "      <td>79</td>\n",
              "      <td>36</td>\n",
              "      <td>13</td>\n",
              "      <td>11</td>\n",
              "      <td>8</td>\n",
              "      <td>7</td>\n",
              "      <td>6</td>\n",
              "      <td>5</td>\n",
              "      <td>4</td>\n",
              "      <td>4</td>\n",
              "      <td>3</td>\n",
              "      <td>3</td>\n",
              "      <td>2</td>\n",
              "      <td>2</td>\n",
              "      <td>2</td>\n",
              "    </tr>\n",
              "  </tbody>\n",
              "</table>\n",
              "</div>"
            ],
            "text/plain": [
              "       0   1   2   3    4   5   6   7    8    9    10  11   12  13  14\n",
              "r_cid  39  77  74  28  129  76  33  16  131  162  127  26  298  24  46\n",
              "0      79  36  13  11    8   7   6   5    4    4    3   3    2   2   2"
            ]
          },
          "metadata": {
            "tags": []
          }
        },
        {
          "output_type": "stream",
          "text": [
            "[ 77  28  39  33  26  46 129  74  24 127 162 131  76  16 298]\n",
            "[1.0452884, 1.015719, 1.0078647, 1.0006841, 0.9932601, 0.9914776, 0.9797638, 0.978432, 0.9744555, 0.9675177, 0.95510364, 0.9453953, 0.9434555, 0.9370758, 0.66674006]\n"
          ],
          "name": "stdout"
        }
      ]
    },
    {
      "cell_type": "code",
      "metadata": {
        "id": "cH7X1MZ2HFzx",
        "outputId": "4e47b266-83f0-4f70-b013-bc043422f77f",
        "colab": {
          "base_uri": "https://localhost:8080/",
          "height": 270
        }
      },
      "source": [
        "# 출근길 등교길 산책 퇴근길 => 아침, 버스, 월요병, 지하철이 상위에 위치한다.\n",
        "# tag는 적절하게 적합된 것으로 보인다. 그러나 ...\n",
        "\n",
        "index = 45\n",
        "gt = tr_val[tr_val.id == index_to_ply[index]]\n",
        "display(gt)\n",
        "\n",
        "print([index_to_tag[index+n_clusters] for index in user_item_als[:,n_clusters:][index].argsort()[::-1][:10]])\n",
        "print(sorted(user_item_als[:,n_clusters:][index])[::-1][:10])\n",
        "\n",
        "print()\n",
        "g = pd.DataFrame(pd.Series(gt.raw_cid.tolist()[0]).value_counts()[:15])\n",
        "g.reset_index(inplace = True)\n",
        "g['r_cid'] = g['index'].map(raw_cid_to_index)\n",
        "display(g.iloc[:,[2,1]].T)\n",
        "\n",
        "print(user_item_als[:,:n_clusters][index].argsort()[::-1][:15])\n",
        "print(sorted(user_item_als[:,:n_clusters][index])[::-1][:15])"
      ],
      "execution_count": null,
      "outputs": [
        {
          "output_type": "display_data",
          "data": {
            "text/html": [
              "<div>\n",
              "<style scoped>\n",
              "    .dataframe tbody tr th:only-of-type {\n",
              "        vertical-align: middle;\n",
              "    }\n",
              "\n",
              "    .dataframe tbody tr th {\n",
              "        vertical-align: top;\n",
              "    }\n",
              "\n",
              "    .dataframe thead th {\n",
              "        text-align: right;\n",
              "    }\n",
              "</style>\n",
              "<table border=\"1\" class=\"dataframe\">\n",
              "  <thead>\n",
              "    <tr style=\"text-align: right;\">\n",
              "      <th></th>\n",
              "      <th>tags</th>\n",
              "      <th>id</th>\n",
              "      <th>plylst_title</th>\n",
              "      <th>songs</th>\n",
              "      <th>like_cnt</th>\n",
              "      <th>updt_date</th>\n",
              "      <th>new_tags</th>\n",
              "      <th>raw_cid</th>\n",
              "      <th>raw_items</th>\n",
              "    </tr>\n",
              "  </thead>\n",
              "  <tbody>\n",
              "    <tr>\n",
              "      <th>71503</th>\n",
              "      <td>[비오는날, 서정, 카페, 새벽, 드라이브, 그리움, 감성, 기분, 사랑]</td>\n",
              "      <td>587</td>\n",
              "      <td>좋아서 담은 노래</td>\n",
              "      <td>[147736, 264338, 40442, 448698, 376572, 173686...</td>\n",
              "      <td>57</td>\n",
              "      <td>2019-04-05 21:58:57.000</td>\n",
              "      <td>[비오는날, 카페, 새벽, 드라이브, 그리움, 감성, 사랑]</td>\n",
              "      <td>[c641, c517, c641, c156, c118, c319, c517, c54...</td>\n",
              "      <td>[c641, c517, c641, c156, c118, c319, c517, c54...</td>\n",
              "    </tr>\n",
              "  </tbody>\n",
              "</table>\n",
              "</div>"
            ],
            "text/plain": [
              "                                            tags  ...                                          raw_items\n",
              "71503  [비오는날, 서정, 카페, 새벽, 드라이브, 그리움, 감성, 기분, 사랑]  ...  [c641, c517, c641, c156, c118, c319, c517, c54...\n",
              "\n",
              "[1 rows x 9 columns]"
            ]
          },
          "metadata": {
            "tags": []
          }
        },
        {
          "output_type": "stream",
          "text": [
            "['감성', '사랑', '드라이브', '카페', '새벽', '비오는날', '밤', '이별', '그리움', '설렘']\n",
            "[1.0052302, 0.94291425, 0.9347655, 0.88531536, 0.88104254, 0.87296367, 0.60989285, 0.5994467, 0.58336496, 0.4369258]\n",
            "\n"
          ],
          "name": "stdout"
        },
        {
          "output_type": "display_data",
          "data": {
            "text/html": [
              "<div>\n",
              "<style scoped>\n",
              "    .dataframe tbody tr th:only-of-type {\n",
              "        vertical-align: middle;\n",
              "    }\n",
              "\n",
              "    .dataframe tbody tr th {\n",
              "        vertical-align: top;\n",
              "    }\n",
              "\n",
              "    .dataframe thead th {\n",
              "        text-align: right;\n",
              "    }\n",
              "</style>\n",
              "<table border=\"1\" class=\"dataframe\">\n",
              "  <thead>\n",
              "    <tr style=\"text-align: right;\">\n",
              "      <th></th>\n",
              "      <th>0</th>\n",
              "      <th>1</th>\n",
              "      <th>2</th>\n",
              "      <th>3</th>\n",
              "      <th>4</th>\n",
              "      <th>5</th>\n",
              "      <th>6</th>\n",
              "      <th>7</th>\n",
              "      <th>8</th>\n",
              "      <th>9</th>\n",
              "      <th>10</th>\n",
              "      <th>11</th>\n",
              "      <th>12</th>\n",
              "      <th>13</th>\n",
              "      <th>14</th>\n",
              "    </tr>\n",
              "  </thead>\n",
              "  <tbody>\n",
              "    <tr>\n",
              "      <th>r_cid</th>\n",
              "      <td>43</td>\n",
              "      <td>24</td>\n",
              "      <td>26</td>\n",
              "      <td>40</td>\n",
              "      <td>46</td>\n",
              "      <td>139</td>\n",
              "      <td>23</td>\n",
              "      <td>53</td>\n",
              "      <td>17</td>\n",
              "      <td>42</td>\n",
              "      <td>136</td>\n",
              "      <td>52</td>\n",
              "      <td>50</td>\n",
              "      <td>51</td>\n",
              "      <td>45</td>\n",
              "    </tr>\n",
              "    <tr>\n",
              "      <th>0</th>\n",
              "      <td>8</td>\n",
              "      <td>7</td>\n",
              "      <td>6</td>\n",
              "      <td>6</td>\n",
              "      <td>6</td>\n",
              "      <td>6</td>\n",
              "      <td>5</td>\n",
              "      <td>5</td>\n",
              "      <td>5</td>\n",
              "      <td>5</td>\n",
              "      <td>4</td>\n",
              "      <td>4</td>\n",
              "      <td>4</td>\n",
              "      <td>3</td>\n",
              "      <td>3</td>\n",
              "    </tr>\n",
              "  </tbody>\n",
              "</table>\n",
              "</div>"
            ],
            "text/plain": [
              "       0   1   2   3   4    5   6   7   8   9    10  11  12  13  14\n",
              "r_cid  43  24  26  40  46  139  23  53  17  42  136  52  50  51  45\n",
              "0       8   7   6   6   6    6   5   5   5   5    4   4   4   3   3"
            ]
          },
          "metadata": {
            "tags": []
          }
        },
        {
          "output_type": "stream",
          "text": [
            "[ 42  40  23  26  51  43  53  52  45  46  50  24  17 139 136]\n",
            "[1.0074726, 1.0045351, 1.0011336, 0.9993751, 0.99909216, 0.9984181, 0.99674344, 0.990039, 0.98024505, 0.972391, 0.9623802, 0.957709, 0.9345135, 0.9000743, 0.8992674]\n"
          ],
          "name": "stdout"
        }
      ]
    },
    {
      "cell_type": "code",
      "metadata": {
        "id": "lO5ajTgNHYEI",
        "outputId": "39be39ac-f358-458b-c778-d297721a517c",
        "colab": {
          "base_uri": "https://localhost:8080/",
          "height": 253
        }
      },
      "source": [
        "index = 564\n",
        "gt = tr_val[tr_val.id == index_to_ply[index]]\n",
        "display(gt)\n",
        "\n",
        "print([index_to_tag[index+n_clusters] for index in user_item_als[:,n_clusters:][index].argsort()[::-1][:10]])\n",
        "print(sorted(user_item_als[:,n_clusters:][index])[::-1][:10])\n",
        "\n",
        "print()\n",
        "g = pd.DataFrame(pd.Series(gt.raw_cid.tolist()[0]).value_counts()[:15])\n",
        "g.reset_index(inplace = True)\n",
        "g['r_cid'] = g['index'].map(raw_cid_to_index)\n",
        "display(g.iloc[:,[2,1]].T)\n",
        "\n",
        "print(user_item_als[:,:n_clusters][index].argsort()[::-1][:15])\n",
        "print(sorted(user_item_als[:,:n_clusters][index])[::-1][:15])"
      ],
      "execution_count": null,
      "outputs": [
        {
          "output_type": "display_data",
          "data": {
            "text/html": [
              "<div>\n",
              "<style scoped>\n",
              "    .dataframe tbody tr th:only-of-type {\n",
              "        vertical-align: middle;\n",
              "    }\n",
              "\n",
              "    .dataframe tbody tr th {\n",
              "        vertical-align: top;\n",
              "    }\n",
              "\n",
              "    .dataframe thead th {\n",
              "        text-align: right;\n",
              "    }\n",
              "</style>\n",
              "<table border=\"1\" class=\"dataframe\">\n",
              "  <thead>\n",
              "    <tr style=\"text-align: right;\">\n",
              "      <th></th>\n",
              "      <th>tags</th>\n",
              "      <th>id</th>\n",
              "      <th>plylst_title</th>\n",
              "      <th>songs</th>\n",
              "      <th>like_cnt</th>\n",
              "      <th>updt_date</th>\n",
              "      <th>new_tags</th>\n",
              "      <th>raw_cid</th>\n",
              "      <th>raw_items</th>\n",
              "    </tr>\n",
              "  </thead>\n",
              "  <tbody>\n",
              "    <tr>\n",
              "      <th>64537</th>\n",
              "      <td>[새벽감성, 인디음악]</td>\n",
              "      <td>9271</td>\n",
              "      <td>잠 못드는 새벽, 감성을 더해줄 인디음악</td>\n",
              "      <td>[542441, 310090, 169945, 454528, 264842, 18821...</td>\n",
              "      <td>11</td>\n",
              "      <td>2020-04-17 14:47:57.000</td>\n",
              "      <td>[새벽감성, 인디음악]</td>\n",
              "      <td>[c319, c410, c319, c319, c156, c319, c156, c88...</td>\n",
              "      <td>[c319, c410, c319, c319, c156, c319, c156, c88...</td>\n",
              "    </tr>\n",
              "  </tbody>\n",
              "</table>\n",
              "</div>"
            ],
            "text/plain": [
              "               tags  ...                                          raw_items\n",
              "64537  [새벽감성, 인디음악]  ...  [c319, c410, c319, c319, c156, c319, c156, c88...\n",
              "\n",
              "[1 rows x 9 columns]"
            ]
          },
          "metadata": {
            "tags": []
          }
        },
        {
          "output_type": "stream",
          "text": [
            "['인디', '인디음악', '새벽감성', '위로', '힘들때', '동요', '잔잔한', '어쿠스틱', '팝송', '새벽']\n",
            "[0.79771614, 0.7188654, 0.5936721, 0.33869097, 0.2621884, 0.25881422, 0.25215757, 0.25028643, 0.24830224, 0.21933074]\n",
            "\n"
          ],
          "name": "stdout"
        },
        {
          "output_type": "display_data",
          "data": {
            "text/html": [
              "<div>\n",
              "<style scoped>\n",
              "    .dataframe tbody tr th:only-of-type {\n",
              "        vertical-align: middle;\n",
              "    }\n",
              "\n",
              "    .dataframe tbody tr th {\n",
              "        vertical-align: top;\n",
              "    }\n",
              "\n",
              "    .dataframe thead th {\n",
              "        text-align: right;\n",
              "    }\n",
              "</style>\n",
              "<table border=\"1\" class=\"dataframe\">\n",
              "  <thead>\n",
              "    <tr style=\"text-align: right;\">\n",
              "      <th></th>\n",
              "      <th>0</th>\n",
              "      <th>1</th>\n",
              "      <th>2</th>\n",
              "      <th>3</th>\n",
              "      <th>4</th>\n",
              "      <th>5</th>\n",
              "      <th>6</th>\n",
              "      <th>7</th>\n",
              "      <th>8</th>\n",
              "      <th>9</th>\n",
              "      <th>10</th>\n",
              "      <th>11</th>\n",
              "      <th>12</th>\n",
              "      <th>13</th>\n",
              "      <th>14</th>\n",
              "    </tr>\n",
              "  </thead>\n",
              "  <tbody>\n",
              "    <tr>\n",
              "      <th>r_cid</th>\n",
              "      <td>117</td>\n",
              "      <td>167</td>\n",
              "      <td>40</td>\n",
              "      <td>73</td>\n",
              "      <td>52</td>\n",
              "      <td>116</td>\n",
              "      <td>51</td>\n",
              "      <td>161</td>\n",
              "      <td>561</td>\n",
              "      <td>407</td>\n",
              "      <td>53</td>\n",
              "      <td>15</td>\n",
              "      <td>162</td>\n",
              "      <td>160</td>\n",
              "      <td>169</td>\n",
              "    </tr>\n",
              "    <tr>\n",
              "      <th>0</th>\n",
              "      <td>12</td>\n",
              "      <td>9</td>\n",
              "      <td>9</td>\n",
              "      <td>7</td>\n",
              "      <td>6</td>\n",
              "      <td>5</td>\n",
              "      <td>5</td>\n",
              "      <td>4</td>\n",
              "      <td>4</td>\n",
              "      <td>3</td>\n",
              "      <td>3</td>\n",
              "      <td>3</td>\n",
              "      <td>3</td>\n",
              "      <td>3</td>\n",
              "      <td>2</td>\n",
              "    </tr>\n",
              "  </tbody>\n",
              "</table>\n",
              "</div>"
            ],
            "text/plain": [
              "        0    1   2   3   4    5   6    7    8    9   10  11   12   13   14\n",
              "r_cid  117  167  40  73  52  116  51  161  561  407  53  15  162  160  169\n",
              "0       12    9   9   7   6    5   5    4    4    3   3   3    3    3    2"
            ]
          },
          "metadata": {
            "tags": []
          }
        },
        {
          "output_type": "stream",
          "text": [
            "[161 167  53  51  15  40 116 162  52  73 117 160 169 407 171]\n",
            "[1.0705572, 1.0383253, 1.0119046, 1.0040768, 1.0013684, 0.99195284, 0.98373955, 0.9826172, 0.9762692, 0.9718849, 0.96903497, 0.9439983, 0.7775122, 0.7504067, 0.72954917]\n"
          ],
          "name": "stdout"
        }
      ]
    },
    {
      "cell_type": "markdown",
      "metadata": {
        "id": "Gk9Q3TAqHPgk"
      },
      "source": [
        "# train set에 대해 유사도 기법을 적용해도 잘 찾아낼까?"
      ]
    },
    {
      "cell_type": "code",
      "metadata": {
        "id": "d-azO7bnsl0J"
      },
      "source": [
        "n_values = n_clusters + n_tags"
      ],
      "execution_count": null,
      "outputs": []
    },
    {
      "cell_type": "code",
      "metadata": {
        "id": "vdLhpba8toHj",
        "outputId": "38be36b4-ec6f-427e-a49b-321fe1995096",
        "colab": {
          "base_uri": "https://localhost:8080/"
        }
      },
      "source": [
        "norm = np.linalg.norm(user_item_als, axis = 1).reshape(-1,1)\n",
        "scaled_user_item = user_item_als/norm\n",
        "scaled_user_item.round(3)"
      ],
      "execution_count": null,
      "outputs": [
        {
          "output_type": "execute_result",
          "data": {
            "text/plain": [
              "array([[ 0.189,  0.212,  0.215, ...,  0.002,  0.001,  0.002],\n",
              "       [ 0.004, -0.01 ,  0.036, ...,  0.003,  0.   ,  0.007],\n",
              "       [ 0.015,  0.029, -0.003, ...,  0.001,  0.001,  0.006],\n",
              "       ...,\n",
              "       [-0.008,  0.01 ,  0.001, ...,  0.002, -0.001, -0.005],\n",
              "       [ 0.019,  0.011,  0.001, ..., -0.002,  0.014, -0.002],\n",
              "       [ 0.   , -0.01 ,  0.004, ..., -0.002,  0.001, -0.   ]],\n",
              "      dtype=float32)"
            ]
          },
          "metadata": {
            "tags": []
          },
          "execution_count": 331
        }
      ]
    },
    {
      "cell_type": "code",
      "metadata": {
        "id": "hDCLg0DKKA2r",
        "outputId": "8e452c03-6de3-4f25-9908-563d9f58432c",
        "colab": {
          "base_uri": "https://localhost:8080/",
          "height": 1000
        }
      },
      "source": [
        "tr_val.loc[:,'selected_raw_cid'] = tr_val.raw_cid.map(lambda x: [*filter(lambda x: x in selected_raw_cid,x)])\n",
        "tr_val.loc[:,'selected_tags'] = tr_val.new_tags.map(lambda x: [*filter(lambda x: x in selected_tags,x)])\n",
        "tr_val.loc[:,'c_index'] = tr_val.selected_raw_cid.map(lambda x:[raw_cid_to_index[i] for i in x])\n",
        "tr_val.loc[:,'t_index'] = tr_val.selected_tags.map(lambda x:[tag_to_index[i] for i in x])\n",
        "tr_val.loc[:,'ct_index'] = tr_val.c_index + tr_val.t_index\n",
        "tr_val"
      ],
      "execution_count": null,
      "outputs": [
        {
          "output_type": "execute_result",
          "data": {
            "text/html": [
              "<div>\n",
              "<style scoped>\n",
              "    .dataframe tbody tr th:only-of-type {\n",
              "        vertical-align: middle;\n",
              "    }\n",
              "\n",
              "    .dataframe tbody tr th {\n",
              "        vertical-align: top;\n",
              "    }\n",
              "\n",
              "    .dataframe thead th {\n",
              "        text-align: right;\n",
              "    }\n",
              "</style>\n",
              "<table border=\"1\" class=\"dataframe\">\n",
              "  <thead>\n",
              "    <tr style=\"text-align: right;\">\n",
              "      <th></th>\n",
              "      <th>tags</th>\n",
              "      <th>id</th>\n",
              "      <th>plylst_title</th>\n",
              "      <th>songs</th>\n",
              "      <th>like_cnt</th>\n",
              "      <th>updt_date</th>\n",
              "      <th>new_tags</th>\n",
              "      <th>raw_cid</th>\n",
              "      <th>raw_items</th>\n",
              "      <th>selected_raw_cid</th>\n",
              "      <th>selected_tags</th>\n",
              "      <th>c_index</th>\n",
              "      <th>t_index</th>\n",
              "      <th>ct_index</th>\n",
              "    </tr>\n",
              "  </thead>\n",
              "  <tbody>\n",
              "    <tr>\n",
              "      <th>9</th>\n",
              "      <td>[발라드]</td>\n",
              "      <td>41197</td>\n",
              "      <td>발라드 감성아재</td>\n",
              "      <td>[487639, 279532, 131001, 72634, 611860, 625933...</td>\n",
              "      <td>0</td>\n",
              "      <td>2018-01-19 20:07:07.000</td>\n",
              "      <td>[발라드]</td>\n",
              "      <td>[c517, c156, c641, c373, c517, c517, c481, c59...</td>\n",
              "      <td>[c517, c156, c641, c373, c517, c517, c481, c59...</td>\n",
              "      <td>[c517, c156, c641, c373, c517, c517, c481, c59...</td>\n",
              "      <td>[발라드]</td>\n",
              "      <td>[43, 53, 50, 214, 43, 43, 42, 26, 48, 518, 50,...</td>\n",
              "      <td>[998]</td>\n",
              "      <td>[43, 53, 50, 214, 43, 43, 42, 26, 48, 518, 50,...</td>\n",
              "    </tr>\n",
              "    <tr>\n",
              "      <th>16</th>\n",
              "      <td>[슬픔, 이별, 설렘, 사랑]</td>\n",
              "      <td>97508</td>\n",
              "      <td>방대한 양의 듀엣곡 종결 리스트</td>\n",
              "      <td>[245307, 114737, 135270, 337267, 226020, 45778...</td>\n",
              "      <td>38</td>\n",
              "      <td>2016-08-27 21:08:14.000</td>\n",
              "      <td>[슬픔, 이별, 설렘, 사랑]</td>\n",
              "      <td>[c975, c289, c445, c239, c342, c536, c884, c34...</td>\n",
              "      <td>[c975, c289, c445, c239, c342, c536, c884, c34...</td>\n",
              "      <td>[c975, c289, c445, c239, c342, c536, c884, c34...</td>\n",
              "      <td>[슬픔, 이별, 설렘, 사랑]</td>\n",
              "      <td>[49, 15, 69, 51, 24, 22, 117, 24, 52, 45, 164,...</td>\n",
              "      <td>[991, 992, 1010, 985]</td>\n",
              "      <td>[49, 15, 69, 51, 24, 22, 117, 24, 52, 45, 164,...</td>\n",
              "    </tr>\n",
              "    <tr>\n",
              "      <th>22</th>\n",
              "      <td>[아침, 운동, 드라이브, 여행, 기분전환, 스트레스, 신나는]</td>\n",
              "      <td>89216</td>\n",
              "      <td>❤DJ추천 1월 신곡 일렉트로니카 모음❤</td>\n",
              "      <td>[214490, 327679, 346094, 456108, 683590, 40466...</td>\n",
              "      <td>6</td>\n",
              "      <td>2019-09-23 17:01:04.000</td>\n",
              "      <td>[아침, 운동, 드라이브, 여행, 기분전환, 스트레스, 신나는]</td>\n",
              "      <td>[c271, c307, c307, c76, c307, c307, c307, c607...</td>\n",
              "      <td>[c271, c307, c307, c76, c307, c307, c307, c607...</td>\n",
              "      <td>[c271, c307, c307, c76, c307, c307, c307, c607...</td>\n",
              "      <td>[아침, 운동, 드라이브, 여행, 기분전환, 스트레스, 신나는]</td>\n",
              "      <td>[218, 125, 125, 610, 125, 125, 125, 178, 125, ...</td>\n",
              "      <td>[1133, 964, 935, 971, 947, 951, 944]</td>\n",
              "      <td>[218, 125, 125, 610, 125, 125, 125, 178, 125, ...</td>\n",
              "    </tr>\n",
              "    <tr>\n",
              "      <th>24</th>\n",
              "      <td>[휴식, 힐링, 설렘, 사랑]</td>\n",
              "      <td>124000</td>\n",
              "      <td>20대후반친구들 들으면 좋은노래</td>\n",
              "      <td>[319794, 107005, 153271, 267452, 680911, 57988...</td>\n",
              "      <td>22</td>\n",
              "      <td>2016-05-28 05:53:50.000</td>\n",
              "      <td>[휴식, 힐링, 설렘, 사랑]</td>\n",
              "      <td>[c987, c231, c319, c517, c481, c163, c638, c16...</td>\n",
              "      <td>[c987, c231, c319, c517, c481, c163, c638, c16...</td>\n",
              "      <td>[c987, c231, c319, c517, c481, c163, c638, c16...</td>\n",
              "      <td>[휴식, 힐링, 설렘, 사랑]</td>\n",
              "      <td>[48, 29, 40, 43, 42, 23, 34, 23, 303, 9, 270, ...</td>\n",
              "      <td>[948, 949, 1010, 985]</td>\n",
              "      <td>[48, 29, 40, 43, 42, 23, 34, 23, 303, 9, 270, ...</td>\n",
              "    </tr>\n",
              "    <tr>\n",
              "      <th>31</th>\n",
              "      <td>[감성, 밤, 발라드, 추억, 드라이브, 2000년대, 사랑, 이별]</td>\n",
              "      <td>102414</td>\n",
              "      <td>질리지않는 2000년대 명품발라드 모음.</td>\n",
              "      <td>[82330, 515325, 405668, 80209, 166665, 104260,...</td>\n",
              "      <td>17715</td>\n",
              "      <td>2019-12-28 07:59:41.000</td>\n",
              "      <td>[감성, 밤, 발라드, 추억, 드라이브, 2000년대, 사랑, 이별]</td>\n",
              "      <td>[c517, c517, c517, c345, c987, c517, c597, c51...</td>\n",
              "      <td>[c517, c517, c517, c345, c987, c517, c597, c51...</td>\n",
              "      <td>[c517, c517, c517, c345, c987, c517, c597, c51...</td>\n",
              "      <td>[감성, 밤, 발라드, 추억, 드라이브, 2000년대, 사랑, 이별]</td>\n",
              "      <td>[43, 43, 43, 115, 48, 43, 26, 43, 69, 43, 43, ...</td>\n",
              "      <td>[931, 936, 998, 937, 935, 933, 985, 992]</td>\n",
              "      <td>[43, 43, 43, 115, 48, 43, 26, 43, 69, 43, 43, ...</td>\n",
              "    </tr>\n",
              "    <tr>\n",
              "      <th>...</th>\n",
              "      <td>...</td>\n",
              "      <td>...</td>\n",
              "      <td>...</td>\n",
              "      <td>...</td>\n",
              "      <td>...</td>\n",
              "      <td>...</td>\n",
              "      <td>...</td>\n",
              "      <td>...</td>\n",
              "      <td>...</td>\n",
              "      <td>...</td>\n",
              "      <td>...</td>\n",
              "      <td>...</td>\n",
              "      <td>...</td>\n",
              "      <td>...</td>\n",
              "    </tr>\n",
              "    <tr>\n",
              "      <th>92012</th>\n",
              "      <td>[드라이브, 매장음악]</td>\n",
              "      <td>11969</td>\n",
              "      <td>일렉트로니카</td>\n",
              "      <td>[53295, 425595, 460312, 416675, 273525, 512396...</td>\n",
              "      <td>36</td>\n",
              "      <td>2020-04-10 21:49:56.000</td>\n",
              "      <td>[드라이브, 매장음악]</td>\n",
              "      <td>[c500, c788, c512, c875, c651, c562, c875, c56...</td>\n",
              "      <td>[c500, c788, c512, c875, c651, c562, c875, c56...</td>\n",
              "      <td>[c500, c788, c512, c875, c651, c562, c875, c56...</td>\n",
              "      <td>[드라이브, 매장음악]</td>\n",
              "      <td>[282, 185, 641, 378, 253, 86, 378, 86, 94, 90,...</td>\n",
              "      <td>[935, 973]</td>\n",
              "      <td>[282, 185, 641, 378, 253, 86, 378, 86, 94, 90,...</td>\n",
              "    </tr>\n",
              "    <tr>\n",
              "      <th>92024</th>\n",
              "      <td>[스트레스, 기분전환]</td>\n",
              "      <td>75622</td>\n",
              "      <td>신나는 아이돌노래</td>\n",
              "      <td>[14820, 485589, 183579, 346379, 371341, 268210...</td>\n",
              "      <td>34</td>\n",
              "      <td>2016-09-01 14:18:50.000</td>\n",
              "      <td>[스트레스, 기분전환]</td>\n",
              "      <td>[c726, c985, c144, c144, c684, c420, c144, c50...</td>\n",
              "      <td>[c726, c985, c144, c144, c684, c420, c144, c50...</td>\n",
              "      <td>[c726, c985, c144, c144, c684, c420, c144, c50...</td>\n",
              "      <td>[스트레스, 기분전환]</td>\n",
              "      <td>[76, 77, 39, 39, 55, 74, 39, 33, 77, 16, 53, 7...</td>\n",
              "      <td>[951, 947]</td>\n",
              "      <td>[76, 77, 39, 39, 55, 74, 39, 33, 77, 16, 53, 7...</td>\n",
              "    </tr>\n",
              "    <tr>\n",
              "      <th>92032</th>\n",
              "      <td>[사랑, 설렘, 잔잔한]</td>\n",
              "      <td>103591</td>\n",
              "      <td>★잔잔하고 달달한 랩&amp;노래★</td>\n",
              "      <td>[500576, 190777, 385234, 443495, 402611, 63162...</td>\n",
              "      <td>16</td>\n",
              "      <td>2014-09-02 22:15:33.000</td>\n",
              "      <td>[사랑, 설렘, 잔잔한]</td>\n",
              "      <td>[c390, c769, c342, c342, c407, c163, c655, c40...</td>\n",
              "      <td>[c390, c769, c342, c342, c407, c163, c655, c40...</td>\n",
              "      <td>[c390, c769, c342, c342, c407, c163, c655, c40...</td>\n",
              "      <td>[사랑, 설렘, 잔잔한]</td>\n",
              "      <td>[267, 778, 24, 24, 5, 23, 46, 5, 124, 5, 184, ...</td>\n",
              "      <td>[985, 1010, 968]</td>\n",
              "      <td>[267, 778, 24, 24, 5, 23, 46, 5, 124, 5, 184, ...</td>\n",
              "    </tr>\n",
              "    <tr>\n",
              "      <th>92049</th>\n",
              "      <td>[스트레스, 가을]</td>\n",
              "      <td>110161</td>\n",
              "      <td>가을과 어울리는 흔한듯 흔하지 않은 노래들</td>\n",
              "      <td>[373762, 139472, 451946, 130955, 112652, 53866...</td>\n",
              "      <td>6</td>\n",
              "      <td>2014-09-16 09:56:16.000</td>\n",
              "      <td>[스트레스, 가을]</td>\n",
              "      <td>[c51, c231, c156, c481, c715, c14, c240, c253,...</td>\n",
              "      <td>[c51, c231, c156, c481, c715, c14, c240, c253,...</td>\n",
              "      <td>[c51, c231, c156, c481, c715, c14, c240, c253,...</td>\n",
              "      <td>[스트레스, 가을]</td>\n",
              "      <td>[634, 29, 53, 42, 41, 36, 437, 621, 116, 791, ...</td>\n",
              "      <td>[951, 988]</td>\n",
              "      <td>[634, 29, 53, 42, 41, 36, 437, 621, 116, 791, ...</td>\n",
              "    </tr>\n",
              "    <tr>\n",
              "      <th>92051</th>\n",
              "      <td>[90년생, 회상, 추억, 좋은노래, 80년생, 옛날노래]</td>\n",
              "      <td>149690</td>\n",
              "      <td>옛날노래 * 좋은노래 8090년생 노래 모음</td>\n",
              "      <td>[292099, 513963, 174225, 287212, 140444, 62469...</td>\n",
              "      <td>155</td>\n",
              "      <td>2020-01-15 15:15:45.000</td>\n",
              "      <td>[회상, 추억, 좋은노래]</td>\n",
              "      <td>[c156, c133, c319, c573, c864, c574, c236, c64...</td>\n",
              "      <td>[c156, c133, c319, c573, c864, c574, c236, c64...</td>\n",
              "      <td>[c156, c133, c319, c573, c864, c574, c236, c64...</td>\n",
              "      <td>[회상, 추억, 좋은노래]</td>\n",
              "      <td>[53, 47, 40, 45, 44, 136, 432, 50, 53, 50, 782...</td>\n",
              "      <td>[938, 937, 1090]</td>\n",
              "      <td>[53, 47, 40, 45, 44, 136, 432, 50, 53, 50, 782...</td>\n",
              "    </tr>\n",
              "  </tbody>\n",
              "</table>\n",
              "<p>9004 rows × 14 columns</p>\n",
              "</div>"
            ],
            "text/plain": [
              "                                         tags  ...                                           ct_index\n",
              "9                                       [발라드]  ...  [43, 53, 50, 214, 43, 43, 42, 26, 48, 518, 50,...\n",
              "16                           [슬픔, 이별, 설렘, 사랑]  ...  [49, 15, 69, 51, 24, 22, 117, 24, 52, 45, 164,...\n",
              "22        [아침, 운동, 드라이브, 여행, 기분전환, 스트레스, 신나는]  ...  [218, 125, 125, 610, 125, 125, 125, 178, 125, ...\n",
              "24                           [휴식, 힐링, 설렘, 사랑]  ...  [48, 29, 40, 43, 42, 23, 34, 23, 303, 9, 270, ...\n",
              "31     [감성, 밤, 발라드, 추억, 드라이브, 2000년대, 사랑, 이별]  ...  [43, 43, 43, 115, 48, 43, 26, 43, 69, 43, 43, ...\n",
              "...                                       ...  ...                                                ...\n",
              "92012                            [드라이브, 매장음악]  ...  [282, 185, 641, 378, 253, 86, 378, 86, 94, 90,...\n",
              "92024                            [스트레스, 기분전환]  ...  [76, 77, 39, 39, 55, 74, 39, 33, 77, 16, 53, 7...\n",
              "92032                           [사랑, 설렘, 잔잔한]  ...  [267, 778, 24, 24, 5, 23, 46, 5, 124, 5, 184, ...\n",
              "92049                              [스트레스, 가을]  ...  [634, 29, 53, 42, 41, 36, 437, 621, 116, 791, ...\n",
              "92051        [90년생, 회상, 추억, 좋은노래, 80년생, 옛날노래]  ...  [53, 47, 40, 45, 44, 136, 432, 50, 53, 50, 782...\n",
              "\n",
              "[9004 rows x 14 columns]"
            ]
          },
          "metadata": {
            "tags": []
          },
          "execution_count": 344
        }
      ]
    },
    {
      "cell_type": "markdown",
      "metadata": {
        "id": "d1khcwvwRtC7"
      },
      "source": [
        "# 유사한 플레이 리스트를 어떻게 찾아야 할까?\n",
        "* 많이 나온 cluster에 가중치를 주자\n",
        "* 있다/없다로만 하자 (채택!)\n",
        "> 가중치를 주게 되면 특정 cluster 하나만 겹치더라도 전체 점수가 올라갈 수 있음  \n",
        "> ex : [8,0,0,0,1,1,1]과 [1,0,0,...]  \n",
        "  그러나 [1,0,0,...,0]인 cluster보다는 [1,0,0,0,1,1,1]인 cluster와 더 유사할 가능성이 높음! (가려진 정보도 있으므로)  \n",
        "> 물론 점수가 높은 cluster에 집중하는 것이 좋은 경우도 있지만? "
      ]
    },
    {
      "cell_type": "code",
      "metadata": {
        "id": "OK6KE2bHJsBh"
      },
      "source": [
        "# 1,0으로 줬으니까 이건 안하는게 맞네!\n",
        "\n",
        "# index = 8000\n",
        "# target = tr_val[tr_val.id == index_to_ply[index]]\n",
        "# display(target)\n",
        "# values = list(set(target.ct_index.tolist()[0]))\n",
        "# s = np.eye(n_values)[values].sum(axis = 0)\n",
        "\n",
        "# print(\"candidates 1 ---\")\n",
        "# sim = user_item_als.dot(s)\n",
        "# top5 = sim.argsort()[::-1][:5]\n",
        "# most_similar_ply = sim.argmax()\n",
        "# print(\"1등은! :\",most_similar_ply)\n",
        "# print(\"비슷한 플레이 리스트 상위 5개\",top5)\n",
        "# print(\"점수\\t\\t\\t\",sorted(sim.round(3))[::-1][:5])\n",
        "# display(tr_val[tr_val.id.isin([index_to_ply[i] for i in top5])])\n",
        "\n",
        "# print()\n",
        "# print(\"candidates 2 ---\")\n",
        "# sim = scaled_user_item.dot(s)\n",
        "# top5 = sim.argsort()[::-1][:5]\n",
        "# most_similar_ply = sim.argmax()\n",
        "# print(\"1등은! :\",most_similar_ply)\n",
        "# print(\"비슷한 플레이 리스트 상위 5개\",top5)\n",
        "# print(\"점수\\t\\t\\t\",sorted(sim.round(3))[::-1][:5])\n",
        "# display(tr_val[tr_val.id.isin([index_to_ply[i] for i in top5])])"
      ],
      "execution_count": null,
      "outputs": []
    },
    {
      "cell_type": "code",
      "metadata": {
        "id": "yVrTRAY9S1q1",
        "outputId": "8cc79c9e-f5e1-4ece-f46a-ad11f5a32dc4",
        "colab": {
          "base_uri": "https://localhost:8080/",
          "height": 1000
        }
      },
      "source": [
        "index = 7234\n",
        "target = tr_val[tr_val.id == index_to_ply[index]]\n",
        "display(target)\n",
        "\n",
        "print(\"candidates 1 ---\")\n",
        "values = list(set(target.ct_index.tolist()[0]))\n",
        "s = np.eye(n_values)[values].sum(axis = 0)\n",
        "sim = user_item_als.dot(s)\n",
        "top5 = sim.argsort()[::-1][:5]\n",
        "most_similar_ply = sim.argmax()\n",
        "print(\"1등은! :\",most_similar_ply)\n",
        "print(\"비슷한 플레이 리스트 상위 5개\",top5)\n",
        "print(\"점수\\t\\t\\t\",sorted(sim.round(3))[::-1][:5])\n",
        "display(tr_val[tr_val.id.isin([index_to_ply[i] for i in top5])])\n",
        "\n",
        "print()\n",
        "values = target.ct_index.tolist()[0]\n",
        "s = np.eye(n_values)[values].sum(axis = 0)\n",
        "sim = user_item_als.dot(s)\n",
        "top5 = sim.argsort()[::-1][:5]\n",
        "most_similar_ply = sim.argmax()\n",
        "print(\"1등은! :\",most_similar_ply)\n",
        "print(\"비슷한 플레이 리스트 상위 5개\",top5)\n",
        "print(\"점수\\t\\t\\t\",sorted(sim.round(3))[::-1][:5])\n",
        "display(tr_val[tr_val.id.isin([index_to_ply[i] for i in top5])])"
      ],
      "execution_count": null,
      "outputs": [
        {
          "output_type": "display_data",
          "data": {
            "text/html": [
              "<div>\n",
              "<style scoped>\n",
              "    .dataframe tbody tr th:only-of-type {\n",
              "        vertical-align: middle;\n",
              "    }\n",
              "\n",
              "    .dataframe tbody tr th {\n",
              "        vertical-align: top;\n",
              "    }\n",
              "\n",
              "    .dataframe thead th {\n",
              "        text-align: right;\n",
              "    }\n",
              "</style>\n",
              "<table border=\"1\" class=\"dataframe\">\n",
              "  <thead>\n",
              "    <tr style=\"text-align: right;\">\n",
              "      <th></th>\n",
              "      <th>tags</th>\n",
              "      <th>id</th>\n",
              "      <th>plylst_title</th>\n",
              "      <th>songs</th>\n",
              "      <th>like_cnt</th>\n",
              "      <th>updt_date</th>\n",
              "      <th>new_tags</th>\n",
              "      <th>raw_cid</th>\n",
              "      <th>raw_items</th>\n",
              "      <th>selected_raw_cid</th>\n",
              "      <th>selected_tags</th>\n",
              "      <th>c_index</th>\n",
              "      <th>t_index</th>\n",
              "      <th>ct_index</th>\n",
              "    </tr>\n",
              "  </thead>\n",
              "  <tbody>\n",
              "    <tr>\n",
              "      <th>33218</th>\n",
              "      <td>[클럽, 아침, 취향저격, 월요병, 추억, 드라이브, 여행, 파티, 그루브, 스트레스]</td>\n",
              "      <td>122090</td>\n",
              "      <td>세련된 편집샵 느낌에 곡:)</td>\n",
              "      <td>[346967, 377349, 352965, 460779, 310116, 57066...</td>\n",
              "      <td>239</td>\n",
              "      <td>2020-04-23 15:02:05.000</td>\n",
              "      <td>[클럽, 아침, 취향저격, 월요병, 추억, 드라이브, 여행, 파티, 그루브, 스트레스]</td>\n",
              "      <td>[c239, c562, c533, c651, c564, c374, c533, c65...</td>\n",
              "      <td>[c239, c562, c533, c651, c564, c374, c533, c65...</td>\n",
              "      <td>[c239, c562, c533, c651, c564, c374, c533, c65...</td>\n",
              "      <td>[클럽, 아침, 취향저격, 월요병, 추억, 드라이브, 여행, 파티, 그루브, 스트레스]</td>\n",
              "      <td>[51, 86, 2, 253, 79, 85, 2, 46, 461, 79, 83, 8...</td>\n",
              "      <td>[945, 1133, 975, 1189, 937, 935, 971, 1215, 10...</td>\n",
              "      <td>[51, 86, 2, 253, 79, 85, 2, 46, 461, 79, 83, 8...</td>\n",
              "    </tr>\n",
              "  </tbody>\n",
              "</table>\n",
              "</div>"
            ],
            "text/plain": [
              "                                                   tags  ...                                           ct_index\n",
              "33218  [클럽, 아침, 취향저격, 월요병, 추억, 드라이브, 여행, 파티, 그루브, 스트레스]  ...  [51, 86, 2, 253, 79, 85, 2, 46, 461, 79, 83, 8...\n",
              "\n",
              "[1 rows x 14 columns]"
            ]
          },
          "metadata": {
            "tags": []
          }
        },
        {
          "output_type": "stream",
          "text": [
            "candidates 1 ---\n",
            "1등은! : 7234\n",
            "비슷한 플레이 리스트 상위 5개 [7234 8729 1923 6316 5235]\n",
            "점수\t\t\t [29.599, 27.246, 26.206, 23.819, 23.459]\n"
          ],
          "name": "stdout"
        },
        {
          "output_type": "display_data",
          "data": {
            "text/html": [
              "<div>\n",
              "<style scoped>\n",
              "    .dataframe tbody tr th:only-of-type {\n",
              "        vertical-align: middle;\n",
              "    }\n",
              "\n",
              "    .dataframe tbody tr th {\n",
              "        vertical-align: top;\n",
              "    }\n",
              "\n",
              "    .dataframe thead th {\n",
              "        text-align: right;\n",
              "    }\n",
              "</style>\n",
              "<table border=\"1\" class=\"dataframe\">\n",
              "  <thead>\n",
              "    <tr style=\"text-align: right;\">\n",
              "      <th></th>\n",
              "      <th>tags</th>\n",
              "      <th>id</th>\n",
              "      <th>plylst_title</th>\n",
              "      <th>songs</th>\n",
              "      <th>like_cnt</th>\n",
              "      <th>updt_date</th>\n",
              "      <th>new_tags</th>\n",
              "      <th>raw_cid</th>\n",
              "      <th>raw_items</th>\n",
              "      <th>selected_raw_cid</th>\n",
              "      <th>selected_tags</th>\n",
              "      <th>c_index</th>\n",
              "      <th>t_index</th>\n",
              "      <th>ct_index</th>\n",
              "    </tr>\n",
              "  </thead>\n",
              "  <tbody>\n",
              "    <tr>\n",
              "      <th>22</th>\n",
              "      <td>[아침, 운동, 드라이브, 여행, 기분전환, 스트레스, 신나는]</td>\n",
              "      <td>89216</td>\n",
              "      <td>❤DJ추천 1월 신곡 일렉트로니카 모음❤</td>\n",
              "      <td>[214490, 327679, 346094, 456108, 683590, 40466...</td>\n",
              "      <td>6</td>\n",
              "      <td>2019-09-23 17:01:04.000</td>\n",
              "      <td>[아침, 운동, 드라이브, 여행, 기분전환, 스트레스, 신나는]</td>\n",
              "      <td>[c271, c307, c307, c76, c307, c307, c307, c607...</td>\n",
              "      <td>[c271, c307, c307, c76, c307, c307, c307, c607...</td>\n",
              "      <td>[c271, c307, c307, c76, c307, c307, c307, c607...</td>\n",
              "      <td>[아침, 운동, 드라이브, 여행, 기분전환, 스트레스, 신나는]</td>\n",
              "      <td>[218, 125, 125, 610, 125, 125, 125, 178, 125, ...</td>\n",
              "      <td>[1133, 964, 935, 971, 947, 951, 944]</td>\n",
              "      <td>[218, 125, 125, 610, 125, 125, 125, 178, 125, ...</td>\n",
              "    </tr>\n",
              "    <tr>\n",
              "      <th>4424</th>\n",
              "      <td>[집중, 가을감성, 출근길, 아침, 취향저격, 월요병, 추억, 그루브, 스트레스]</td>\n",
              "      <td>148900</td>\n",
              "      <td>트렌디하고 감각적인 매장음악!</td>\n",
              "      <td>[362560, 449836, 318350, 210869, 362695, 69404...</td>\n",
              "      <td>28</td>\n",
              "      <td>2020-03-30 04:17:13.000</td>\n",
              "      <td>[집중, 가을감성, 출근길, 아침, 취향저격, 월요병, 추억, 그루브, 스트레스]</td>\n",
              "      <td>[c472, c103, c750, c651, c374, c946, c651, c56...</td>\n",
              "      <td>[c472, c103, c750, c651, c374, c946, c651, c56...</td>\n",
              "      <td>[c472, c103, c750, c651, c374, c946, c651, c56...</td>\n",
              "      <td>[집중, 가을감성, 출근길, 아침, 취향저격, 월요병, 추억, 그루브, 스트레스]</td>\n",
              "      <td>[88, 61, 336, 253, 85, 95, 253, 86, 253, 86, 8...</td>\n",
              "      <td>[1040, 1051, 980, 1133, 975, 1189, 937, 1021, ...</td>\n",
              "      <td>[88, 61, 336, 253, 85, 95, 253, 86, 253, 86, 8...</td>\n",
              "    </tr>\n",
              "    <tr>\n",
              "      <th>13153</th>\n",
              "      <td>[출근길, 아침, 취향저격, 월요병, 추억, 드라이브, 그루브, 파티, 스트레스]</td>\n",
              "      <td>31809</td>\n",
              "      <td>한번쯤 들어봤을 swag 가득한 music!!(상시 업데이트!)</td>\n",
              "      <td>[515592, 352965, 405539, 460779, 146989, 40496...</td>\n",
              "      <td>113</td>\n",
              "      <td>2020-04-23 15:02:43.000</td>\n",
              "      <td>[출근길, 아침, 취향저격, 월요병, 추억, 드라이브, 그루브, 파티, 스트레스]</td>\n",
              "      <td>[c562, c533, c37, c651, c655, c403, c655, c85,...</td>\n",
              "      <td>[c562, c533, c37, c651, c655, c403, c655, c85,...</td>\n",
              "      <td>[c562, c533, c37, c651, c655, c403, c655, c85,...</td>\n",
              "      <td>[출근길, 아침, 취향저격, 월요병, 추억, 드라이브, 그루브, 파티, 스트레스]</td>\n",
              "      <td>[86, 2, 462, 253, 46, 369, 46, 482, 400, 182, ...</td>\n",
              "      <td>[980, 1133, 975, 1189, 937, 935, 1021, 1215, 951]</td>\n",
              "      <td>[86, 2, 462, 253, 46, 369, 46, 482, 400, 182, ...</td>\n",
              "    </tr>\n",
              "    <tr>\n",
              "      <th>33218</th>\n",
              "      <td>[클럽, 아침, 취향저격, 월요병, 추억, 드라이브, 여행, 파티, 그루브, 스트레스]</td>\n",
              "      <td>122090</td>\n",
              "      <td>세련된 편집샵 느낌에 곡:)</td>\n",
              "      <td>[346967, 377349, 352965, 460779, 310116, 57066...</td>\n",
              "      <td>239</td>\n",
              "      <td>2020-04-23 15:02:05.000</td>\n",
              "      <td>[클럽, 아침, 취향저격, 월요병, 추억, 드라이브, 여행, 파티, 그루브, 스트레스]</td>\n",
              "      <td>[c239, c562, c533, c651, c564, c374, c533, c65...</td>\n",
              "      <td>[c239, c562, c533, c651, c564, c374, c533, c65...</td>\n",
              "      <td>[c239, c562, c533, c651, c564, c374, c533, c65...</td>\n",
              "      <td>[클럽, 아침, 취향저격, 월요병, 추억, 드라이브, 여행, 파티, 그루브, 스트레스]</td>\n",
              "      <td>[51, 86, 2, 253, 79, 85, 2, 46, 461, 79, 83, 8...</td>\n",
              "      <td>[945, 1133, 975, 1189, 937, 935, 971, 1215, 10...</td>\n",
              "      <td>[51, 86, 2, 253, 79, 85, 2, 46, 461, 79, 83, 8...</td>\n",
              "    </tr>\n",
              "    <tr>\n",
              "      <th>74191</th>\n",
              "      <td>[자기전, 회사에서몰래, 드라이브, 여행, 기분전환, 퇴근길, 스트레스, 신나는]</td>\n",
              "      <td>106729</td>\n",
              "      <td>홍재의귓구녕 (8/23 updated)</td>\n",
              "      <td>[160731, 484278, 26865, 427128, 197987, 69763,...</td>\n",
              "      <td>112</td>\n",
              "      <td>2019-08-23 17:24:57.000</td>\n",
              "      <td>[드라이브, 여행, 기분전환, 퇴근길, 스트레스, 신나는]</td>\n",
              "      <td>[c651, c875, c93, c374, c875, c607, c875, c887...</td>\n",
              "      <td>[c651, c875, c93, c374, c875, c607, c875, c887...</td>\n",
              "      <td>[c651, c875, c93, c374, c875, c607, c875, c887...</td>\n",
              "      <td>[드라이브, 여행, 기분전환, 퇴근길, 스트레스, 신나는]</td>\n",
              "      <td>[253, 378, 155, 85, 378, 178, 378, 328, 90, 97...</td>\n",
              "      <td>[935, 971, 947, 965, 951, 944]</td>\n",
              "      <td>[253, 378, 155, 85, 378, 178, 378, 328, 90, 97...</td>\n",
              "    </tr>\n",
              "  </tbody>\n",
              "</table>\n",
              "</div>"
            ],
            "text/plain": [
              "                                                   tags  ...                                           ct_index\n",
              "22                  [아침, 운동, 드라이브, 여행, 기분전환, 스트레스, 신나는]  ...  [218, 125, 125, 610, 125, 125, 125, 178, 125, ...\n",
              "4424      [집중, 가을감성, 출근길, 아침, 취향저격, 월요병, 추억, 그루브, 스트레스]  ...  [88, 61, 336, 253, 85, 95, 253, 86, 253, 86, 8...\n",
              "13153     [출근길, 아침, 취향저격, 월요병, 추억, 드라이브, 그루브, 파티, 스트레스]  ...  [86, 2, 462, 253, 46, 369, 46, 482, 400, 182, ...\n",
              "33218  [클럽, 아침, 취향저격, 월요병, 추억, 드라이브, 여행, 파티, 그루브, 스트레스]  ...  [51, 86, 2, 253, 79, 85, 2, 46, 461, 79, 83, 8...\n",
              "74191     [자기전, 회사에서몰래, 드라이브, 여행, 기분전환, 퇴근길, 스트레스, 신나는]  ...  [253, 378, 155, 85, 378, 178, 378, 328, 90, 97...\n",
              "\n",
              "[5 rows x 14 columns]"
            ]
          },
          "metadata": {
            "tags": []
          }
        },
        {
          "output_type": "stream",
          "text": [
            "\n",
            "1등은! : 7234\n",
            "비슷한 플레이 리스트 상위 5개 [7234 1923 8729  925 6316]\n",
            "점수\t\t\t [88.412, 81.824, 79.252, 77.164, 75.827]\n"
          ],
          "name": "stdout"
        },
        {
          "output_type": "display_data",
          "data": {
            "text/html": [
              "<div>\n",
              "<style scoped>\n",
              "    .dataframe tbody tr th:only-of-type {\n",
              "        vertical-align: middle;\n",
              "    }\n",
              "\n",
              "    .dataframe tbody tr th {\n",
              "        vertical-align: top;\n",
              "    }\n",
              "\n",
              "    .dataframe thead th {\n",
              "        text-align: right;\n",
              "    }\n",
              "</style>\n",
              "<table border=\"1\" class=\"dataframe\">\n",
              "  <thead>\n",
              "    <tr style=\"text-align: right;\">\n",
              "      <th></th>\n",
              "      <th>tags</th>\n",
              "      <th>id</th>\n",
              "      <th>plylst_title</th>\n",
              "      <th>songs</th>\n",
              "      <th>like_cnt</th>\n",
              "      <th>updt_date</th>\n",
              "      <th>new_tags</th>\n",
              "      <th>raw_cid</th>\n",
              "      <th>raw_items</th>\n",
              "      <th>selected_raw_cid</th>\n",
              "      <th>selected_tags</th>\n",
              "      <th>c_index</th>\n",
              "      <th>t_index</th>\n",
              "      <th>ct_index</th>\n",
              "    </tr>\n",
              "  </thead>\n",
              "  <tbody>\n",
              "    <tr>\n",
              "      <th>4424</th>\n",
              "      <td>[집중, 가을감성, 출근길, 아침, 취향저격, 월요병, 추억, 그루브, 스트레스]</td>\n",
              "      <td>148900</td>\n",
              "      <td>트렌디하고 감각적인 매장음악!</td>\n",
              "      <td>[362560, 449836, 318350, 210869, 362695, 69404...</td>\n",
              "      <td>28</td>\n",
              "      <td>2020-03-30 04:17:13.000</td>\n",
              "      <td>[집중, 가을감성, 출근길, 아침, 취향저격, 월요병, 추억, 그루브, 스트레스]</td>\n",
              "      <td>[c472, c103, c750, c651, c374, c946, c651, c56...</td>\n",
              "      <td>[c472, c103, c750, c651, c374, c946, c651, c56...</td>\n",
              "      <td>[c472, c103, c750, c651, c374, c946, c651, c56...</td>\n",
              "      <td>[집중, 가을감성, 출근길, 아침, 취향저격, 월요병, 추억, 그루브, 스트레스]</td>\n",
              "      <td>[88, 61, 336, 253, 85, 95, 253, 86, 253, 86, 8...</td>\n",
              "      <td>[1040, 1051, 980, 1133, 975, 1189, 937, 1021, ...</td>\n",
              "      <td>[88, 61, 336, 253, 85, 95, 253, 86, 253, 86, 8...</td>\n",
              "    </tr>\n",
              "    <tr>\n",
              "      <th>13153</th>\n",
              "      <td>[출근길, 아침, 취향저격, 월요병, 추억, 드라이브, 그루브, 파티, 스트레스]</td>\n",
              "      <td>31809</td>\n",
              "      <td>한번쯤 들어봤을 swag 가득한 music!!(상시 업데이트!)</td>\n",
              "      <td>[515592, 352965, 405539, 460779, 146989, 40496...</td>\n",
              "      <td>113</td>\n",
              "      <td>2020-04-23 15:02:43.000</td>\n",
              "      <td>[출근길, 아침, 취향저격, 월요병, 추억, 드라이브, 그루브, 파티, 스트레스]</td>\n",
              "      <td>[c562, c533, c37, c651, c655, c403, c655, c85,...</td>\n",
              "      <td>[c562, c533, c37, c651, c655, c403, c655, c85,...</td>\n",
              "      <td>[c562, c533, c37, c651, c655, c403, c655, c85,...</td>\n",
              "      <td>[출근길, 아침, 취향저격, 월요병, 추억, 드라이브, 그루브, 파티, 스트레스]</td>\n",
              "      <td>[86, 2, 462, 253, 46, 369, 46, 482, 400, 182, ...</td>\n",
              "      <td>[980, 1133, 975, 1189, 937, 935, 1021, 1215, 951]</td>\n",
              "      <td>[86, 2, 462, 253, 46, 369, 46, 482, 400, 182, ...</td>\n",
              "    </tr>\n",
              "    <tr>\n",
              "      <th>33218</th>\n",
              "      <td>[클럽, 아침, 취향저격, 월요병, 추억, 드라이브, 여행, 파티, 그루브, 스트레스]</td>\n",
              "      <td>122090</td>\n",
              "      <td>세련된 편집샵 느낌에 곡:)</td>\n",
              "      <td>[346967, 377349, 352965, 460779, 310116, 57066...</td>\n",
              "      <td>239</td>\n",
              "      <td>2020-04-23 15:02:05.000</td>\n",
              "      <td>[클럽, 아침, 취향저격, 월요병, 추억, 드라이브, 여행, 파티, 그루브, 스트레스]</td>\n",
              "      <td>[c239, c562, c533, c651, c564, c374, c533, c65...</td>\n",
              "      <td>[c239, c562, c533, c651, c564, c374, c533, c65...</td>\n",
              "      <td>[c239, c562, c533, c651, c564, c374, c533, c65...</td>\n",
              "      <td>[클럽, 아침, 취향저격, 월요병, 추억, 드라이브, 여행, 파티, 그루브, 스트레스]</td>\n",
              "      <td>[51, 86, 2, 253, 79, 85, 2, 46, 461, 79, 83, 8...</td>\n",
              "      <td>[945, 1133, 975, 1189, 937, 935, 971, 1215, 10...</td>\n",
              "      <td>[51, 86, 2, 253, 79, 85, 2, 46, 461, 79, 83, 8...</td>\n",
              "    </tr>\n",
              "    <tr>\n",
              "      <th>69023</th>\n",
              "      <td>[홈파티, 그루브, 외힙, 파티, 외국힙합, 팝, 신나는]</td>\n",
              "      <td>15476</td>\n",
              "      <td>만능 파티 플레이리스트</td>\n",
              "      <td>[659771, 233765, 40937, 615507, 236393, 524340...</td>\n",
              "      <td>1</td>\n",
              "      <td>2020-04-21 04:59:16.000</td>\n",
              "      <td>[그루브, 외힙, 파티, 외국힙합, 팝, 신나는]</td>\n",
              "      <td>[c174, c356, c374, c562, c655, c647, c655, c37...</td>\n",
              "      <td>[c174, c356, c374, c562, c655, c647, c655, c37...</td>\n",
              "      <td>[c174, c356, c374, c562, c655, c647, c655, c37...</td>\n",
              "      <td>[그루브, 외힙, 파티, 외국힙합, 팝, 신나는]</td>\n",
              "      <td>[83, 97, 85, 86, 46, 59, 46, 85, 85, 369, 85, ...</td>\n",
              "      <td>[1021, 1150, 1215, 1081, 950, 944]</td>\n",
              "      <td>[83, 97, 85, 86, 46, 59, 46, 85, 85, 369, 85, ...</td>\n",
              "    </tr>\n",
              "    <tr>\n",
              "      <th>74191</th>\n",
              "      <td>[자기전, 회사에서몰래, 드라이브, 여행, 기분전환, 퇴근길, 스트레스, 신나는]</td>\n",
              "      <td>106729</td>\n",
              "      <td>홍재의귓구녕 (8/23 updated)</td>\n",
              "      <td>[160731, 484278, 26865, 427128, 197987, 69763,...</td>\n",
              "      <td>112</td>\n",
              "      <td>2019-08-23 17:24:57.000</td>\n",
              "      <td>[드라이브, 여행, 기분전환, 퇴근길, 스트레스, 신나는]</td>\n",
              "      <td>[c651, c875, c93, c374, c875, c607, c875, c887...</td>\n",
              "      <td>[c651, c875, c93, c374, c875, c607, c875, c887...</td>\n",
              "      <td>[c651, c875, c93, c374, c875, c607, c875, c887...</td>\n",
              "      <td>[드라이브, 여행, 기분전환, 퇴근길, 스트레스, 신나는]</td>\n",
              "      <td>[253, 378, 155, 85, 378, 178, 378, 328, 90, 97...</td>\n",
              "      <td>[935, 971, 947, 965, 951, 944]</td>\n",
              "      <td>[253, 378, 155, 85, 378, 178, 378, 328, 90, 97...</td>\n",
              "    </tr>\n",
              "  </tbody>\n",
              "</table>\n",
              "</div>"
            ],
            "text/plain": [
              "                                                   tags  ...                                           ct_index\n",
              "4424      [집중, 가을감성, 출근길, 아침, 취향저격, 월요병, 추억, 그루브, 스트레스]  ...  [88, 61, 336, 253, 85, 95, 253, 86, 253, 86, 8...\n",
              "13153     [출근길, 아침, 취향저격, 월요병, 추억, 드라이브, 그루브, 파티, 스트레스]  ...  [86, 2, 462, 253, 46, 369, 46, 482, 400, 182, ...\n",
              "33218  [클럽, 아침, 취향저격, 월요병, 추억, 드라이브, 여행, 파티, 그루브, 스트레스]  ...  [51, 86, 2, 253, 79, 85, 2, 46, 461, 79, 83, 8...\n",
              "69023                  [홈파티, 그루브, 외힙, 파티, 외국힙합, 팝, 신나는]  ...  [83, 97, 85, 86, 46, 59, 46, 85, 85, 369, 85, ...\n",
              "74191     [자기전, 회사에서몰래, 드라이브, 여행, 기분전환, 퇴근길, 스트레스, 신나는]  ...  [253, 378, 155, 85, 378, 178, 378, 328, 90, 97...\n",
              "\n",
              "[5 rows x 14 columns]"
            ]
          },
          "metadata": {
            "tags": []
          }
        }
      ]
    },
    {
      "cell_type": "markdown",
      "metadata": {
        "id": "zgQxSHMp88hD"
      },
      "source": [
        "# val에 대해"
      ]
    },
    {
      "cell_type": "code",
      "metadata": {
        "id": "yaZ7e33xfYQs",
        "outputId": "29075afb-83c5-432b-b26b-4ce2a3a69b1e",
        "colab": {
          "base_uri": "https://localhost:8080/",
          "height": 1000
        }
      },
      "source": [
        "val_answer['new_tags'] = val_answer.tags.map(lambda x: [i for i in x if i in new_tags])\n",
        "val_answer['raw_cid'] = val_answer.songs.map(lambda x:[sid_to_raw_cid[i] for i in x])\n",
        "val_answer['raw_items'] = val_answer.raw_cid + val.new_tags\n",
        "val_answer.loc[:,'selected_raw_cid'] = val_answer.raw_cid.map(lambda x: [*filter(lambda x: x in selected_raw_cid,x)])\n",
        "val_answer.loc[:,'selected_tags'] = val_answer.new_tags.map(lambda x: [*filter(lambda x: x in selected_tags,x)])\n",
        "val_answer.loc[:,'c_index'] = val_answer.selected_raw_cid.map(lambda x:[raw_cid_to_index[i] for i in x])\n",
        "val_answer.loc[:,'t_index'] = val_answer.selected_tags.map(lambda x:[tag_to_index[i] for i in x])\n",
        "val_answer.loc[:,'ct_index'] = val_answer.c_index + val_answer.t_index\n",
        "val_answer"
      ],
      "execution_count": null,
      "outputs": [
        {
          "output_type": "execute_result",
          "data": {
            "text/html": [
              "<div>\n",
              "<style scoped>\n",
              "    .dataframe tbody tr th:only-of-type {\n",
              "        vertical-align: middle;\n",
              "    }\n",
              "\n",
              "    .dataframe tbody tr th {\n",
              "        vertical-align: top;\n",
              "    }\n",
              "\n",
              "    .dataframe thead th {\n",
              "        text-align: right;\n",
              "    }\n",
              "</style>\n",
              "<table border=\"1\" class=\"dataframe\">\n",
              "  <thead>\n",
              "    <tr style=\"text-align: right;\">\n",
              "      <th></th>\n",
              "      <th>tags</th>\n",
              "      <th>id</th>\n",
              "      <th>plylst_title</th>\n",
              "      <th>songs</th>\n",
              "      <th>like_cnt</th>\n",
              "      <th>updt_date</th>\n",
              "      <th>new_tags</th>\n",
              "      <th>raw_cid</th>\n",
              "      <th>raw_items</th>\n",
              "      <th>selected_raw_cid</th>\n",
              "      <th>selected_tags</th>\n",
              "      <th>c_index</th>\n",
              "      <th>t_index</th>\n",
              "      <th>ct_index</th>\n",
              "    </tr>\n",
              "  </thead>\n",
              "  <tbody>\n",
              "    <tr>\n",
              "      <th>0</th>\n",
              "      <td>[playmusic, random, Pop]</td>\n",
              "      <td>147332</td>\n",
              "      <td>랜덤 플레이 뮤직 - 팝</td>\n",
              "      <td>[651057, 475555, 86031, 663555, 463760, 268674...</td>\n",
              "      <td>4</td>\n",
              "      <td>2020-03-31 00:45:30.000</td>\n",
              "      <td>[Pop]</td>\n",
              "      <td>[c998, c655, c998, c669, c875, c998, c633, c62...</td>\n",
              "      <td>[c998, c655, c998, c669, c875, c998, c633, c62...</td>\n",
              "      <td>[c998, c655, c998, c669, c875, c998, c633, c62...</td>\n",
              "      <td>[Pop]</td>\n",
              "      <td>[72, 46, 72, 181, 378, 72, 98, 177, 182, 177, ...</td>\n",
              "      <td>[1003]</td>\n",
              "      <td>[72, 46, 72, 181, 378, 72, 98, 177, 182, 177, ...</td>\n",
              "    </tr>\n",
              "    <tr>\n",
              "      <th>1</th>\n",
              "      <td>[힐링, 휴식]</td>\n",
              "      <td>63876</td>\n",
              "      <td>ㅇㅇㅇㅇㄹ</td>\n",
              "      <td>[222763, 456665, 429530, 689455, 545344, 45858...</td>\n",
              "      <td>10</td>\n",
              "      <td>2017-02-01 22:42:47.000</td>\n",
              "      <td>[힐링, 휴식]</td>\n",
              "      <td>[c319, c319, c156, c517, c975, c14, c414, c511...</td>\n",
              "      <td>[c319, c319, c156, c517, c975, c14, c414, c511...</td>\n",
              "      <td>[c319, c319, c156, c517, c975, c14, c414, c511...</td>\n",
              "      <td>[힐링, 휴식]</td>\n",
              "      <td>[40, 40, 53, 43, 49, 36, 174, 216, 23, 23, 258...</td>\n",
              "      <td>[949, 948]</td>\n",
              "      <td>[40, 40, 53, 43, 49, 36, 174, 216, 23, 23, 258...</td>\n",
              "    </tr>\n",
              "    <tr>\n",
              "      <th>2</th>\n",
              "      <td>[트로트]</td>\n",
              "      <td>2205</td>\n",
              "      <td>트로트1</td>\n",
              "      <td>[35848, 638330, 132604, 666824, 231868, 546740...</td>\n",
              "      <td>43</td>\n",
              "      <td>2019-10-16 18:56:01.000</td>\n",
              "      <td>[트로트]</td>\n",
              "      <td>[c400, c400, c400, c296, c400, c467, c144, c40...</td>\n",
              "      <td>[c400, c400, c400, c296, c400, c467, c144, c40...</td>\n",
              "      <td>[c400, c400, c400, c296, c400, c467, c144, c40...</td>\n",
              "      <td>[트로트]</td>\n",
              "      <td>[113, 113, 113, 109, 113, 114, 39, 113, 113, 113]</td>\n",
              "      <td>[952]</td>\n",
              "      <td>[113, 113, 113, 109, 113, 114, 39, 113, 113, 1...</td>\n",
              "    </tr>\n",
              "    <tr>\n",
              "      <th>3</th>\n",
              "      <td>[힐링, 휴식]</td>\n",
              "      <td>43060</td>\n",
              "      <td>삶이 지치고 힘들때 위로되는 힐링팝송</td>\n",
              "      <td>[158944, 62200, 490266, 352459, 79312, 424421,...</td>\n",
              "      <td>952</td>\n",
              "      <td>2016-05-06 01:28:43.000</td>\n",
              "      <td>[힐링, 휴식]</td>\n",
              "      <td>[c712, c998, c445, c520, c998, c720, c998, c92...</td>\n",
              "      <td>[c712, c998, c445, c520, c998, c720, c998, c92...</td>\n",
              "      <td>[c712, c998, c445, c520, c998, c720, c998, c92...</td>\n",
              "      <td>[힐링, 휴식]</td>\n",
              "      <td>[25, 72, 69, 62, 72, 836, 72, 67, 61, 217, 35,...</td>\n",
              "      <td>[949, 948]</td>\n",
              "      <td>[25, 72, 69, 62, 72, 836, 72, 67, 61, 217, 35,...</td>\n",
              "    </tr>\n",
              "    <tr>\n",
              "      <th>4</th>\n",
              "      <td>[추억, 사랑, 설렘, 회상]</td>\n",
              "      <td>89571</td>\n",
              "      <td>어버이날 안성맞춤 세대초월 노래들</td>\n",
              "      <td>[562769, 305761, 123335, 300382, 156051, 17820...</td>\n",
              "      <td>8</td>\n",
              "      <td>2016-05-08 09:38:44.000</td>\n",
              "      <td>[추억, 사랑, 설렘, 회상]</td>\n",
              "      <td>[c790, c584, c270, c126, c308, c642, c424, c48...</td>\n",
              "      <td>[c790, c584, c270, c126, c308, c642, c424, c48...</td>\n",
              "      <td>[c790, c584, c270, c126, c308, c642, c424, c48...</td>\n",
              "      <td>[추억, 사랑, 설렘, 회상]</td>\n",
              "      <td>[715, 135, 260, 257, 289, 639, 100, 42, 111, 8...</td>\n",
              "      <td>[937, 985, 1010, 938]</td>\n",
              "      <td>[715, 135, 260, 257, 289, 639, 100, 42, 111, 8...</td>\n",
              "    </tr>\n",
              "    <tr>\n",
              "      <th>...</th>\n",
              "      <td>...</td>\n",
              "      <td>...</td>\n",
              "      <td>...</td>\n",
              "      <td>...</td>\n",
              "      <td>...</td>\n",
              "      <td>...</td>\n",
              "      <td>...</td>\n",
              "      <td>...</td>\n",
              "      <td>...</td>\n",
              "      <td>...</td>\n",
              "      <td>...</td>\n",
              "      <td>...</td>\n",
              "      <td>...</td>\n",
              "      <td>...</td>\n",
              "    </tr>\n",
              "    <tr>\n",
              "      <th>23010</th>\n",
              "      <td>[힙합, 국내힙합, 기분전환, 쇼미더머니, 국힙, 신나는]</td>\n",
              "      <td>152338</td>\n",
              "      <td>국내 힙합 좋은 노래 모음 ❤</td>\n",
              "      <td>[143652, 638064, 592386, 402547, 451198, 19053...</td>\n",
              "      <td>6</td>\n",
              "      <td>2019-11-04 00:25:11.000</td>\n",
              "      <td>[힙합, 국내힙합, 기분전환, 국힙, 신나는]</td>\n",
              "      <td>[c371, c655, c371, c647, c371, c634, c371, c64...</td>\n",
              "      <td>[c371, c655, c371, c647, c371, c634, c371, c64...</td>\n",
              "      <td>[c371, c655, c371, c647, c371, c634, c371, c64...</td>\n",
              "      <td>[힙합, 국내힙합, 기분전환, 국힙, 신나는]</td>\n",
              "      <td>[9, 46, 9, 59, 9, 60, 9, 59, 13, 58, 59, 59, 4...</td>\n",
              "      <td>[946, 941, 947, 942, 944]</td>\n",
              "      <td>[9, 46, 9, 59, 9, 60, 9, 59, 13, 58, 59, 59, 4...</td>\n",
              "    </tr>\n",
              "    <tr>\n",
              "      <th>23011</th>\n",
              "      <td>[락]</td>\n",
              "      <td>116761</td>\n",
              "      <td>장르불문! 국적불문! 강추 아티스트!</td>\n",
              "      <td>[703129, 336157, 87662, 474318, 229264, 611351...</td>\n",
              "      <td>3</td>\n",
              "      <td>2012-12-06 18:18:52.000</td>\n",
              "      <td>[락]</td>\n",
              "      <td>[c680, c705, c136, c847, c122, c117, c998, c79...</td>\n",
              "      <td>[c680, c705, c136, c847, c122, c117, c998, c79...</td>\n",
              "      <td>[c680, c705, c136, c847, c122, c117, c998, c79...</td>\n",
              "      <td>[락]</td>\n",
              "      <td>[217, 873, 632, 35, 624, 68, 72, 345, 631, 487...</td>\n",
              "      <td>[1025]</td>\n",
              "      <td>[217, 873, 632, 35, 624, 68, 72, 345, 631, 487...</td>\n",
              "    </tr>\n",
              "    <tr>\n",
              "      <th>23012</th>\n",
              "      <td>[댄스]</td>\n",
              "      <td>121399</td>\n",
              "      <td>기분 업하고싶니?</td>\n",
              "      <td>[340052, 458812, 481045, 486768, 268289, 15944...</td>\n",
              "      <td>19</td>\n",
              "      <td>2009-09-12 21:55:50.000</td>\n",
              "      <td>[댄스]</td>\n",
              "      <td>[c956, c113, c622, c144, c645, c622, c144, c64...</td>\n",
              "      <td>[c956, c113, c622, c144, c645, c622, c144, c64...</td>\n",
              "      <td>[c956, c113, c622, c144, c645, c622, c144, c64...</td>\n",
              "      <td>[댄스]</td>\n",
              "      <td>[131, 127, 31, 39, 227, 31, 39, 227, 127, 39, ...</td>\n",
              "      <td>[962]</td>\n",
              "      <td>[131, 127, 31, 39, 227, 31, 39, 227, 127, 39, ...</td>\n",
              "    </tr>\n",
              "    <tr>\n",
              "      <th>23013</th>\n",
              "      <td>[여름, 기분전환]</td>\n",
              "      <td>79747</td>\n",
              "      <td>기분 좋아지는 시원한 곡들</td>\n",
              "      <td>[443785, 78983, 179646, 108216, 498274, 274165...</td>\n",
              "      <td>63</td>\n",
              "      <td>2015-02-23 11:40:16.000</td>\n",
              "      <td>[여름, 기분전환]</td>\n",
              "      <td>[c259, c847, c520, c562, c271, c698, c562, c84...</td>\n",
              "      <td>[c259, c847, c520, c562, c271, c698, c562, c84...</td>\n",
              "      <td>[c259, c847, c520, c562, c271, c698, c562, c84...</td>\n",
              "      <td>[여름, 기분전환]</td>\n",
              "      <td>[535, 35, 62, 86, 218, 64, 86, 35, 86, 85, 85,...</td>\n",
              "      <td>[995, 947]</td>\n",
              "      <td>[535, 35, 62, 86, 218, 64, 86, 35, 86, 85, 85,...</td>\n",
              "    </tr>\n",
              "    <tr>\n",
              "      <th>23014</th>\n",
              "      <td>[Jazz, 애시드, 재즈]</td>\n",
              "      <td>111519</td>\n",
              "      <td>댄스곡 부럽지 않은 신나는 재즈</td>\n",
              "      <td>[518682, 495996, 481989, 368621, 701042, 85226...</td>\n",
              "      <td>24</td>\n",
              "      <td>2017-10-22 19:58:32.000</td>\n",
              "      <td>[Jazz, 재즈]</td>\n",
              "      <td>[c71, c920, c537, c71, c537, c562, c562, c875,...</td>\n",
              "      <td>[c71, c920, c537, c71, c537, c562, c562, c875,...</td>\n",
              "      <td>[c71, c920, c537, c71, c537, c562, c562, c875,...</td>\n",
              "      <td>[Jazz, 재즈]</td>\n",
              "      <td>[664, 329, 154, 664, 154, 86, 86, 378, 82, 153...</td>\n",
              "      <td>[1122, 1049]</td>\n",
              "      <td>[664, 329, 154, 664, 154, 86, 86, 378, 82, 153...</td>\n",
              "    </tr>\n",
              "  </tbody>\n",
              "</table>\n",
              "<p>23015 rows × 14 columns</p>\n",
              "</div>"
            ],
            "text/plain": [
              "                                   tags  ...                                           ct_index\n",
              "0              [playmusic, random, Pop]  ...  [72, 46, 72, 181, 378, 72, 98, 177, 182, 177, ...\n",
              "1                              [힐링, 휴식]  ...  [40, 40, 53, 43, 49, 36, 174, 216, 23, 23, 258...\n",
              "2                                 [트로트]  ...  [113, 113, 113, 109, 113, 114, 39, 113, 113, 1...\n",
              "3                              [힐링, 휴식]  ...  [25, 72, 69, 62, 72, 836, 72, 67, 61, 217, 35,...\n",
              "4                      [추억, 사랑, 설렘, 회상]  ...  [715, 135, 260, 257, 289, 639, 100, 42, 111, 8...\n",
              "...                                 ...  ...                                                ...\n",
              "23010  [힙합, 국내힙합, 기분전환, 쇼미더머니, 국힙, 신나는]  ...  [9, 46, 9, 59, 9, 60, 9, 59, 13, 58, 59, 59, 4...\n",
              "23011                               [락]  ...  [217, 873, 632, 35, 624, 68, 72, 345, 631, 487...\n",
              "23012                              [댄스]  ...  [131, 127, 31, 39, 227, 31, 39, 227, 127, 39, ...\n",
              "23013                        [여름, 기분전환]  ...  [535, 35, 62, 86, 218, 64, 86, 35, 86, 85, 85,...\n",
              "23014                   [Jazz, 애시드, 재즈]  ...  [664, 329, 154, 664, 154, 86, 86, 378, 82, 153...\n",
              "\n",
              "[23015 rows x 14 columns]"
            ]
          },
          "metadata": {
            "tags": []
          },
          "execution_count": 449
        }
      ]
    },
    {
      "cell_type": "code",
      "metadata": {
        "id": "U7DxE8CZWYqJ",
        "outputId": "380b89fb-f56f-45bb-8f33-0332e785487a",
        "colab": {
          "base_uri": "https://localhost:8080/",
          "height": 1000
        }
      },
      "source": [
        "val['new_tags'] = val.tags.map(lambda x: [i for i in x if i in new_tags])\n",
        "val['raw_cid'] = val.songs.map(lambda x:[sid_to_raw_cid[i] for i in x])\n",
        "val['raw_items'] = val.raw_cid + val.new_tags\n",
        "val.loc[:,'selected_raw_cid'] = val.raw_cid.map(lambda x: [*filter(lambda x: x in selected_raw_cid,x)])\n",
        "val.loc[:,'selected_tags'] = val.new_tags.map(lambda x: [*filter(lambda x: x in selected_tags,x)])\n",
        "val.loc[:,'c_index'] = val.selected_raw_cid.map(lambda x:[raw_cid_to_index[i] for i in x])\n",
        "val.loc[:,'t_index'] = val.selected_tags.map(lambda x:[tag_to_index[i] for i in x])\n",
        "val.loc[:,'ct_index'] = val.c_index + val.t_index\n",
        "val"
      ],
      "execution_count": null,
      "outputs": [
        {
          "output_type": "execute_result",
          "data": {
            "text/html": [
              "<div>\n",
              "<style scoped>\n",
              "    .dataframe tbody tr th:only-of-type {\n",
              "        vertical-align: middle;\n",
              "    }\n",
              "\n",
              "    .dataframe tbody tr th {\n",
              "        vertical-align: top;\n",
              "    }\n",
              "\n",
              "    .dataframe thead th {\n",
              "        text-align: right;\n",
              "    }\n",
              "</style>\n",
              "<table border=\"1\" class=\"dataframe\">\n",
              "  <thead>\n",
              "    <tr style=\"text-align: right;\">\n",
              "      <th></th>\n",
              "      <th>tags</th>\n",
              "      <th>id</th>\n",
              "      <th>plylst_title</th>\n",
              "      <th>songs</th>\n",
              "      <th>like_cnt</th>\n",
              "      <th>updt_date</th>\n",
              "      <th>new_tags</th>\n",
              "      <th>raw_cid</th>\n",
              "      <th>raw_items</th>\n",
              "      <th>selected_raw_cid</th>\n",
              "      <th>selected_tags</th>\n",
              "      <th>c_index</th>\n",
              "      <th>t_index</th>\n",
              "      <th>ct_index</th>\n",
              "    </tr>\n",
              "  </thead>\n",
              "  <tbody>\n",
              "    <tr>\n",
              "      <th>0</th>\n",
              "      <td>[Billboard, uspop]</td>\n",
              "      <td>147332</td>\n",
              "      <td>랜덤 플레이 뮤직 - 팝</td>\n",
              "      <td>[]</td>\n",
              "      <td>4</td>\n",
              "      <td>2020-03-31 00:45:30.000</td>\n",
              "      <td>[]</td>\n",
              "      <td>[]</td>\n",
              "      <td>[]</td>\n",
              "      <td>[]</td>\n",
              "      <td>[]</td>\n",
              "      <td>[]</td>\n",
              "      <td>[]</td>\n",
              "      <td>[]</td>\n",
              "    </tr>\n",
              "    <tr>\n",
              "      <th>1</th>\n",
              "      <td>[겨울]</td>\n",
              "      <td>63876</td>\n",
              "      <td>ㅇㅇㅇㅇㄹ</td>\n",
              "      <td>[279590, 680756, 651499, 10624, 438424, 533739...</td>\n",
              "      <td>10</td>\n",
              "      <td>2017-02-01 22:42:47.000</td>\n",
              "      <td>[겨울]</td>\n",
              "      <td>[c597, c481, c319, c987, c517, c156, c641, c48...</td>\n",
              "      <td>[c597, c481, c319, c987, c517, c156, c641, c48...</td>\n",
              "      <td>[c597, c481, c319, c987, c517, c156, c641, c48...</td>\n",
              "      <td>[겨울]</td>\n",
              "      <td>[26, 42, 40, 48, 43, 53, 50, 42, 48, 43, 40, 5...</td>\n",
              "      <td>[1042]</td>\n",
              "      <td>[26, 42, 40, 48, 43, 53, 50, 42, 48, 43, 40, 5...</td>\n",
              "    </tr>\n",
              "    <tr>\n",
              "      <th>2</th>\n",
              "      <td>[]</td>\n",
              "      <td>2205</td>\n",
              "      <td>트로트1</td>\n",
              "      <td>[]</td>\n",
              "      <td>43</td>\n",
              "      <td>2019-10-16 18:56:01.000</td>\n",
              "      <td>[]</td>\n",
              "      <td>[]</td>\n",
              "      <td>[]</td>\n",
              "      <td>[]</td>\n",
              "      <td>[]</td>\n",
              "      <td>[]</td>\n",
              "      <td>[]</td>\n",
              "      <td>[]</td>\n",
              "    </tr>\n",
              "    <tr>\n",
              "      <th>3</th>\n",
              "      <td>[기분전환]</td>\n",
              "      <td>43060</td>\n",
              "      <td>삶이 지치고 힘들때 위로되는 힐링팝송</td>\n",
              "      <td>[331055, 144856, 236393, 679436, 625875, 11657...</td>\n",
              "      <td>952</td>\n",
              "      <td>2016-05-06 01:28:43.000</td>\n",
              "      <td>[기분전환]</td>\n",
              "      <td>[c459, c319, c655, c655, c459, c459, c15, c660...</td>\n",
              "      <td>[c459, c319, c655, c655, c459, c459, c15, c660...</td>\n",
              "      <td>[c459, c319, c655, c655, c459, c459, c15, c660...</td>\n",
              "      <td>[기분전환]</td>\n",
              "      <td>[52, 40, 46, 46, 52, 52, 389, 87, 217, 35, 80,...</td>\n",
              "      <td>[947]</td>\n",
              "      <td>[52, 40, 46, 46, 52, 52, 389, 87, 217, 35, 80,...</td>\n",
              "    </tr>\n",
              "    <tr>\n",
              "      <th>4</th>\n",
              "      <td>[]</td>\n",
              "      <td>89571</td>\n",
              "      <td>어버이날 안성맞춤 세대초월 노래들</td>\n",
              "      <td>[367826, 630180, 382117, 442580, 570532, 14707...</td>\n",
              "      <td>8</td>\n",
              "      <td>2016-05-08 09:38:44.000</td>\n",
              "      <td>[]</td>\n",
              "      <td>[c305, c700, c356, c531, c640, c390, c511, c12...</td>\n",
              "      <td>[c305, c700, c356, c531, c640, c390, c511, c12...</td>\n",
              "      <td>[c305, c700, c356, c531, c640, c390, c511, c12...</td>\n",
              "      <td>[]</td>\n",
              "      <td>[531, 471, 97, 614, 351, 267, 216, 257, 223, 1...</td>\n",
              "      <td>[]</td>\n",
              "      <td>[531, 471, 97, 614, 351, 267, 216, 257, 223, 1...</td>\n",
              "    </tr>\n",
              "    <tr>\n",
              "      <th>...</th>\n",
              "      <td>...</td>\n",
              "      <td>...</td>\n",
              "      <td>...</td>\n",
              "      <td>...</td>\n",
              "      <td>...</td>\n",
              "      <td>...</td>\n",
              "      <td>...</td>\n",
              "      <td>...</td>\n",
              "      <td>...</td>\n",
              "      <td>...</td>\n",
              "      <td>...</td>\n",
              "      <td>...</td>\n",
              "      <td>...</td>\n",
              "      <td>...</td>\n",
              "    </tr>\n",
              "    <tr>\n",
              "      <th>23010</th>\n",
              "      <td>[]</td>\n",
              "      <td>152338</td>\n",
              "      <td>국내 힙합 좋은 노래 모음 ❤</td>\n",
              "      <td>[454218, 156278, 679405, 356571, 413422, 59240...</td>\n",
              "      <td>6</td>\n",
              "      <td>2019-11-04 00:25:11.000</td>\n",
              "      <td>[]</td>\n",
              "      <td>[c655, c533, c371, c371, c655, c647, c670, c65...</td>\n",
              "      <td>[c655, c533, c371, c371, c655, c647, c670, c65...</td>\n",
              "      <td>[c655, c533, c371, c371, c655, c647, c670, c65...</td>\n",
              "      <td>[]</td>\n",
              "      <td>[46, 2, 9, 9, 46, 59, 7, 46, 59, 59, 59, 59, 9...</td>\n",
              "      <td>[]</td>\n",
              "      <td>[46, 2, 9, 9, 46, 59, 7, 46, 59, 59, 59, 59, 9...</td>\n",
              "    </tr>\n",
              "    <tr>\n",
              "      <th>23011</th>\n",
              "      <td>[]</td>\n",
              "      <td>116761</td>\n",
              "      <td>장르불문! 국적불문! 강추 아티스트!</td>\n",
              "      <td>[62440, 648536, 552968, 449287, 437232, 317490...</td>\n",
              "      <td>3</td>\n",
              "      <td>2012-12-06 18:18:52.000</td>\n",
              "      <td>[]</td>\n",
              "      <td>[c376, c51, c21, c788, c520, c419, c95, c576, ...</td>\n",
              "      <td>[c376, c51, c21, c788, c520, c419, c95, c576, ...</td>\n",
              "      <td>[c376, c51, c21, c788, c520, c419, c95, c576, ...</td>\n",
              "      <td>[]</td>\n",
              "      <td>[186, 634, 846, 185, 62, 553, 631, 522, 380, 3...</td>\n",
              "      <td>[]</td>\n",
              "      <td>[186, 634, 846, 185, 62, 553, 631, 522, 380, 3...</td>\n",
              "    </tr>\n",
              "    <tr>\n",
              "      <th>23012</th>\n",
              "      <td>[]</td>\n",
              "      <td>121399</td>\n",
              "      <td>기분 업하고싶니?</td>\n",
              "      <td>[144826, 663719, 26627, 471330, 130494, 669506...</td>\n",
              "      <td>19</td>\n",
              "      <td>2009-09-12 21:55:50.000</td>\n",
              "      <td>[]</td>\n",
              "      <td>[c144, c588, c144, c668, c144, c89, c622, c113...</td>\n",
              "      <td>[c144, c588, c144, c668, c144, c89, c622, c113...</td>\n",
              "      <td>[c144, c588, c144, c668, c144, c89, c622, c113...</td>\n",
              "      <td>[]</td>\n",
              "      <td>[39, 297, 39, 298, 39, 126, 31, 127, 129, 39, ...</td>\n",
              "      <td>[]</td>\n",
              "      <td>[39, 297, 39, 298, 39, 126, 31, 127, 129, 39, ...</td>\n",
              "    </tr>\n",
              "    <tr>\n",
              "      <th>23013</th>\n",
              "      <td>[]</td>\n",
              "      <td>79747</td>\n",
              "      <td>기분 좋아지는 시원한 곡들</td>\n",
              "      <td>[]</td>\n",
              "      <td>63</td>\n",
              "      <td>2015-02-23 11:40:16.000</td>\n",
              "      <td>[]</td>\n",
              "      <td>[]</td>\n",
              "      <td>[]</td>\n",
              "      <td>[]</td>\n",
              "      <td>[]</td>\n",
              "      <td>[]</td>\n",
              "      <td>[]</td>\n",
              "      <td>[]</td>\n",
              "    </tr>\n",
              "    <tr>\n",
              "      <th>23014</th>\n",
              "      <td>[댄스, 빅밴드, 스윙]</td>\n",
              "      <td>111519</td>\n",
              "      <td>댄스곡 부럽지 않은 신나는 재즈</td>\n",
              "      <td>[279441, 34223, 355338, 647369, 553707, 32835,...</td>\n",
              "      <td>24</td>\n",
              "      <td>2017-10-22 19:58:32.000</td>\n",
              "      <td>[댄스]</td>\n",
              "      <td>[c71, c71, c71, c445, c688, c721, c912, c537, ...</td>\n",
              "      <td>[c71, c71, c71, c445, c688, c721, c912, c537, ...</td>\n",
              "      <td>[c71, c71, c71, c445, c688, c721, c912, c537, ...</td>\n",
              "      <td>[댄스]</td>\n",
              "      <td>[664, 664, 664, 69, 150, 38, 428, 154, 154, 15...</td>\n",
              "      <td>[962]</td>\n",
              "      <td>[664, 664, 664, 69, 150, 38, 428, 154, 154, 15...</td>\n",
              "    </tr>\n",
              "  </tbody>\n",
              "</table>\n",
              "<p>23015 rows × 14 columns</p>\n",
              "</div>"
            ],
            "text/plain": [
              "                     tags  ...                                           ct_index\n",
              "0      [Billboard, uspop]  ...                                                 []\n",
              "1                    [겨울]  ...  [26, 42, 40, 48, 43, 53, 50, 42, 48, 43, 40, 5...\n",
              "2                      []  ...                                                 []\n",
              "3                  [기분전환]  ...  [52, 40, 46, 46, 52, 52, 389, 87, 217, 35, 80,...\n",
              "4                      []  ...  [531, 471, 97, 614, 351, 267, 216, 257, 223, 1...\n",
              "...                   ...  ...                                                ...\n",
              "23010                  []  ...  [46, 2, 9, 9, 46, 59, 7, 46, 59, 59, 59, 59, 9...\n",
              "23011                  []  ...  [186, 634, 846, 185, 62, 553, 631, 522, 380, 3...\n",
              "23012                  []  ...  [39, 297, 39, 298, 39, 126, 31, 127, 129, 39, ...\n",
              "23013                  []  ...                                                 []\n",
              "23014       [댄스, 빅밴드, 스윙]  ...  [664, 664, 664, 69, 150, 38, 428, 154, 154, 15...\n",
              "\n",
              "[23015 rows x 14 columns]"
            ]
          },
          "metadata": {
            "tags": []
          },
          "execution_count": 408
        }
      ]
    },
    {
      "cell_type": "code",
      "metadata": {
        "id": "zUVIm5Q6WVRN",
        "outputId": "57e36b74-6291-4fd3-c0c3-167b3758523e",
        "colab": {
          "base_uri": "https://localhost:8080/",
          "height": 750
        }
      },
      "source": [
        "index = 723\n",
        "target = val.iloc[index]\n",
        "gt = val_answer.iloc[index]\n",
        "display(pd.DataFrame(target).T)\n",
        "display(pd.DataFrame(gt).T)\n",
        "\n",
        "values = list(set(target.ct_index))\n",
        "s = np.eye(n_values)[values].sum(axis = 0)\n",
        "sim = user_item_als.dot(s)\n",
        "most_similar_ply = sim.argmax()\n",
        "sim_ply_info = user_item_als[most_similar_ply]\n",
        "\n",
        "display(tr_val[tr_val.id == index_to_ply[most_similar_ply]])"
      ],
      "execution_count": null,
      "outputs": [
        {
          "output_type": "display_data",
          "data": {
            "text/html": [
              "<div>\n",
              "<style scoped>\n",
              "    .dataframe tbody tr th:only-of-type {\n",
              "        vertical-align: middle;\n",
              "    }\n",
              "\n",
              "    .dataframe tbody tr th {\n",
              "        vertical-align: top;\n",
              "    }\n",
              "\n",
              "    .dataframe thead th {\n",
              "        text-align: right;\n",
              "    }\n",
              "</style>\n",
              "<table border=\"1\" class=\"dataframe\">\n",
              "  <thead>\n",
              "    <tr style=\"text-align: right;\">\n",
              "      <th></th>\n",
              "      <th>tags</th>\n",
              "      <th>id</th>\n",
              "      <th>plylst_title</th>\n",
              "      <th>songs</th>\n",
              "      <th>like_cnt</th>\n",
              "      <th>updt_date</th>\n",
              "      <th>new_tags</th>\n",
              "      <th>raw_cid</th>\n",
              "      <th>raw_items</th>\n",
              "      <th>selected_raw_cid</th>\n",
              "      <th>selected_tags</th>\n",
              "      <th>c_index</th>\n",
              "      <th>t_index</th>\n",
              "      <th>ct_index</th>\n",
              "    </tr>\n",
              "  </thead>\n",
              "  <tbody>\n",
              "    <tr>\n",
              "      <th>723</th>\n",
              "      <td>[]</td>\n",
              "      <td>25667</td>\n",
              "      <td>댄스댄스 신나는 클럽뮤직!</td>\n",
              "      <td>[433646, 346990, 230058, 166373, 689218, 11337...</td>\n",
              "      <td>20</td>\n",
              "      <td>2017-09-04 15:02:50.000</td>\n",
              "      <td>[]</td>\n",
              "      <td>[c607, c85, c383, c85, c383, c383, c85, c85, c...</td>\n",
              "      <td>[c607, c85, c383, c85, c383, c383, c85, c85, c...</td>\n",
              "      <td>[c607, c85, c383, c85, c383, c383, c85, c85, c...</td>\n",
              "      <td>[]</td>\n",
              "      <td>[178, 482, 365, 482, 365, 365, 482, 482, 482, ...</td>\n",
              "      <td>[]</td>\n",
              "      <td>[178, 482, 365, 482, 365, 365, 482, 482, 482, ...</td>\n",
              "    </tr>\n",
              "  </tbody>\n",
              "</table>\n",
              "</div>"
            ],
            "text/plain": [
              "    tags     id  ... t_index                                           ct_index\n",
              "723   []  25667  ...      []  [178, 482, 365, 482, 365, 365, 482, 482, 482, ...\n",
              "\n",
              "[1 rows x 14 columns]"
            ]
          },
          "metadata": {
            "tags": []
          }
        },
        {
          "output_type": "display_data",
          "data": {
            "text/html": [
              "<div>\n",
              "<style scoped>\n",
              "    .dataframe tbody tr th:only-of-type {\n",
              "        vertical-align: middle;\n",
              "    }\n",
              "\n",
              "    .dataframe tbody tr th {\n",
              "        vertical-align: top;\n",
              "    }\n",
              "\n",
              "    .dataframe thead th {\n",
              "        text-align: right;\n",
              "    }\n",
              "</style>\n",
              "<table border=\"1\" class=\"dataframe\">\n",
              "  <thead>\n",
              "    <tr style=\"text-align: right;\">\n",
              "      <th></th>\n",
              "      <th>tags</th>\n",
              "      <th>id</th>\n",
              "      <th>plylst_title</th>\n",
              "      <th>songs</th>\n",
              "      <th>like_cnt</th>\n",
              "      <th>updt_date</th>\n",
              "      <th>new_tags</th>\n",
              "      <th>raw_cid</th>\n",
              "      <th>raw_items</th>\n",
              "      <th>selected_raw_cid</th>\n",
              "      <th>selected_tags</th>\n",
              "      <th>c_index</th>\n",
              "      <th>t_index</th>\n",
              "      <th>ct_index</th>\n",
              "    </tr>\n",
              "  </thead>\n",
              "  <tbody>\n",
              "    <tr>\n",
              "      <th>723</th>\n",
              "      <td>[여름, 클럽, 댄스, EDM, 불금, 기분전환, 일렉, 스트레스, 신나는]</td>\n",
              "      <td>25667</td>\n",
              "      <td>댄스댄스 신나는 클럽뮤직!</td>\n",
              "      <td>[262862, 242062, 102943, 373796, 484815, 64778...</td>\n",
              "      <td>20</td>\n",
              "      <td>2017-09-04 15:02:50.000</td>\n",
              "      <td>[여름, 클럽, 댄스, EDM, 불금, 기분전환, 일렉, 스트레스, 신나는]</td>\n",
              "      <td>[c637, c722, c85, c85, c955, c301, c85, c392, ...</td>\n",
              "      <td>[c637, c722, c85, c85, c955, c301, c85, c392, ...</td>\n",
              "      <td>[c637, c722, c85, c85, c955, c301, c85, c392, ...</td>\n",
              "      <td>[여름, 클럽, 댄스, EDM, 불금, 기분전환, 일렉, 스트레스, 신나는]</td>\n",
              "      <td>[337, 335, 482, 482, 586, 202, 482, 92, 92, 92...</td>\n",
              "      <td>[995, 945, 962, 978, 1149, 947, 990, 951, 944]</td>\n",
              "      <td>[337, 335, 482, 482, 586, 202, 482, 92, 92, 92...</td>\n",
              "    </tr>\n",
              "  </tbody>\n",
              "</table>\n",
              "</div>"
            ],
            "text/plain": [
              "                                           tags  ...                                           ct_index\n",
              "723  [여름, 클럽, 댄스, EDM, 불금, 기분전환, 일렉, 스트레스, 신나는]  ...  [337, 335, 482, 482, 586, 202, 482, 92, 92, 92...\n",
              "\n",
              "[1 rows x 14 columns]"
            ]
          },
          "metadata": {
            "tags": []
          }
        },
        {
          "output_type": "display_data",
          "data": {
            "text/html": [
              "<div>\n",
              "<style scoped>\n",
              "    .dataframe tbody tr th:only-of-type {\n",
              "        vertical-align: middle;\n",
              "    }\n",
              "\n",
              "    .dataframe tbody tr th {\n",
              "        vertical-align: top;\n",
              "    }\n",
              "\n",
              "    .dataframe thead th {\n",
              "        text-align: right;\n",
              "    }\n",
              "</style>\n",
              "<table border=\"1\" class=\"dataframe\">\n",
              "  <thead>\n",
              "    <tr style=\"text-align: right;\">\n",
              "      <th></th>\n",
              "      <th>tags</th>\n",
              "      <th>id</th>\n",
              "      <th>plylst_title</th>\n",
              "      <th>songs</th>\n",
              "      <th>like_cnt</th>\n",
              "      <th>updt_date</th>\n",
              "      <th>new_tags</th>\n",
              "      <th>raw_cid</th>\n",
              "      <th>raw_items</th>\n",
              "      <th>selected_raw_cid</th>\n",
              "      <th>selected_tags</th>\n",
              "      <th>c_index</th>\n",
              "      <th>t_index</th>\n",
              "      <th>ct_index</th>\n",
              "    </tr>\n",
              "  </thead>\n",
              "  <tbody>\n",
              "    <tr>\n",
              "      <th>26800</th>\n",
              "      <td>[클럽, 운동, 드라이브, EDM, 불금, 기분전환, 파티, 스트레스, 신나는]</td>\n",
              "      <td>60139</td>\n",
              "      <td>스트레스 풀 때나 클럽에서 춤추기 좋은 빵빵 터지는 곡</td>\n",
              "      <td>[465602, 273525, 545189, 463803, 374887, 39910...</td>\n",
              "      <td>13023</td>\n",
              "      <td>2020-03-01 06:00:26.000</td>\n",
              "      <td>[클럽, 운동, 드라이브, EDM, 불금, 기분전환, 파티, 스트레스, 신나는]</td>\n",
              "      <td>[c562, c651, c102, c102, c85, c392, c102, c651...</td>\n",
              "      <td>[c562, c651, c102, c102, c85, c392, c102, c651...</td>\n",
              "      <td>[c562, c651, c102, c102, c85, c392, c102, c651...</td>\n",
              "      <td>[클럽, 운동, 드라이브, EDM, 불금, 기분전환, 파티, 스트레스, 신나는]</td>\n",
              "      <td>[86, 253, 94, 94, 482, 92, 94, 253, 94, 94, 94...</td>\n",
              "      <td>[945, 964, 935, 978, 1149, 947, 1215, 951, 944]</td>\n",
              "      <td>[86, 253, 94, 94, 482, 92, 94, 253, 94, 94, 94...</td>\n",
              "    </tr>\n",
              "  </tbody>\n",
              "</table>\n",
              "</div>"
            ],
            "text/plain": [
              "                                               tags  ...                                           ct_index\n",
              "26800  [클럽, 운동, 드라이브, EDM, 불금, 기분전환, 파티, 스트레스, 신나는]  ...  [86, 253, 94, 94, 482, 92, 94, 253, 94, 94, 94...\n",
              "\n",
              "[1 rows x 14 columns]"
            ]
          },
          "metadata": {
            "tags": []
          }
        }
      ]
    },
    {
      "cell_type": "code",
      "metadata": {
        "id": "k4URy3uz898r",
        "outputId": "ec105adf-dc7b-4e4e-cdf4-9f4389051997",
        "colab": {
          "base_uri": "https://localhost:8080/"
        }
      },
      "source": [
        "#########\n",
        "# songs #\n",
        "#########\n",
        "\n",
        "already_in = defaultdict(lambda:False)\n",
        "for song in target.songs:\n",
        "    already_in[song] = True\n",
        "for tag_index in target.t_index:\n",
        "    already_in[tag_index] = True\n",
        "\n",
        "alpha = len(target.c_index) // 10 + 1\n",
        "sim_clusters = sim_ply_info[:n_clusters].argsort()[::-1][:10] # 10개를 돌면서 10+a개씩 채운다\n",
        "print('\\n● 추천 clusters 중 gt에 속한 cluster 수', len(set(sim_clusters)&set(gt.c_index)))\n",
        "\n",
        "recommended_songs = []\n",
        "break_flag = False\n",
        "for cluster_index in sim_clusters:\n",
        "    candidates = song_freq_dict_top50[index_to_raw_cid[cluster_index]]\n",
        "    for i in range(min(len(candidates),10 + alpha)):\n",
        "        if not already_in[candidates[i]]:\n",
        "            recommended_songs.append(candidates[i])\n",
        "            if len(recommended_songs) == 100:\n",
        "                break_flag = True\n",
        "                break\n",
        "    if break_flag:\n",
        "        break\n",
        "\n",
        "if len(recommended_songs) != 100:\n",
        "    print(\"● \",index, target.id, '=>', len(recommended_songs))\n",
        "\n",
        "##########\n",
        "# tags 1 #\n",
        "##########\n",
        "\n",
        "sim_tags = sim_ply_info[n_clusters:].argsort()[::-1] + n_clusters # 점수가 가장 큰 cluster inner id\n",
        "recommended_tags = []\n",
        "\n",
        "for tag_index in sim_tags:\n",
        "    if not already_in[tag_index]:\n",
        "        recommended_tags.append(tag_index)\n",
        "        if len(recommended_tags) == 10:\n",
        "            break\n",
        "\n",
        "print('\\n● 추천 태그 중 gt에 속한 tag 수',len(set(recommended_tags)&set(gt.t_index)))"
      ],
      "execution_count": null,
      "outputs": [
        {
          "output_type": "stream",
          "text": [
            "\n",
            "● 추천 clusters 중 gt에 속한 cluster 수 5\n",
            "\n",
            "● 추천 태그 중 gt에 속한 tag 수 6\n"
          ],
          "name": "stdout"
        }
      ]
    },
    {
      "cell_type": "code",
      "metadata": {
        "id": "GTNFSyV5dP9z",
        "outputId": "02ae7629-3793-4f61-f306-56208d4a0616",
        "colab": {
          "base_uri": "https://localhost:8080/",
          "height": 621
        }
      },
      "source": [
        "index = 3247\n",
        "target = val.iloc[index]\n",
        "gt = val_answer.iloc[index]\n",
        "display(pd.DataFrame(target).T)\n",
        "display(pd.DataFrame(gt).T)\n",
        "\n",
        "# values = list(set(target.ct_index))\n",
        "values = target.ct_index\n",
        "s = np.eye(n_values)[values].sum(axis = 0)\n",
        "sim = user_item_als.dot(s)\n",
        "most_similar_ply = sim.argmax()\n",
        "sim_ply_info = user_item_als[most_similar_ply]\n",
        "\n",
        "display(tr_val[tr_val.id == index_to_ply[most_similar_ply]])\n",
        "\n",
        "#########\n",
        "# songs #\n",
        "#########\n",
        "\n",
        "already_in = defaultdict(lambda:False)\n",
        "for song in target.songs:\n",
        "    already_in[song] = True\n",
        "for tag_index in target.t_index:\n",
        "    already_in[tag_index] = True\n",
        "\n",
        "alpha = len(target.c_index) // 10 + 1\n",
        "sim_clusters = sim_ply_info[:n_clusters].argsort()[::-1][:10] # 10개를 돌면서 10+a개씩 채운다\n",
        "print('\\n● 추천 clusters 중 gt에 속한 cluster 수', len(set(sim_clusters)&set(gt.c_index)))\n",
        "\n",
        "recommended_songs = []\n",
        "break_flag = False\n",
        "for cluster_index in sim_clusters:\n",
        "    candidates = song_freq_dict_top50[index_to_raw_cid[cluster_index]]\n",
        "    for i in range(min(len(candidates),10 + alpha)):\n",
        "        if not already_in[candidates[i]]:\n",
        "            recommended_songs.append(candidates[i])\n",
        "            if len(recommended_songs) == 100:\n",
        "                break_flag = True\n",
        "                break\n",
        "    if break_flag:\n",
        "        break\n",
        "\n",
        "if len(recommended_songs) != 100:\n",
        "    print(\"● \",index, target.id, '=>', len(recommended_songs))\n",
        "\n",
        "##########\n",
        "# tags 1 #\n",
        "##########\n",
        "\n",
        "sim_tags = sim_ply_info[n_clusters:].argsort()[::-1] + n_clusters # 점수가 가장 큰 cluster inner id\n",
        "recommended_tags = []\n",
        "\n",
        "for tag_index in sim_tags:\n",
        "    if not already_in[tag_index]:\n",
        "        recommended_tags.append(tag_index)\n",
        "        if len(recommended_tags) == 10:\n",
        "            break\n",
        "\n",
        "print('\\n● 추천 태그 중 gt에 속한 tag 수',len(set(recommended_tags)&set(gt.t_index)))"
      ],
      "execution_count": null,
      "outputs": [
        {
          "output_type": "display_data",
          "data": {
            "text/html": [
              "<div>\n",
              "<style scoped>\n",
              "    .dataframe tbody tr th:only-of-type {\n",
              "        vertical-align: middle;\n",
              "    }\n",
              "\n",
              "    .dataframe tbody tr th {\n",
              "        vertical-align: top;\n",
              "    }\n",
              "\n",
              "    .dataframe thead th {\n",
              "        text-align: right;\n",
              "    }\n",
              "</style>\n",
              "<table border=\"1\" class=\"dataframe\">\n",
              "  <thead>\n",
              "    <tr style=\"text-align: right;\">\n",
              "      <th></th>\n",
              "      <th>tags</th>\n",
              "      <th>id</th>\n",
              "      <th>plylst_title</th>\n",
              "      <th>songs</th>\n",
              "      <th>like_cnt</th>\n",
              "      <th>updt_date</th>\n",
              "      <th>new_tags</th>\n",
              "      <th>raw_cid</th>\n",
              "      <th>raw_items</th>\n",
              "      <th>selected_raw_cid</th>\n",
              "      <th>selected_tags</th>\n",
              "      <th>c_index</th>\n",
              "      <th>t_index</th>\n",
              "      <th>ct_index</th>\n",
              "    </tr>\n",
              "  </thead>\n",
              "  <tbody>\n",
              "    <tr>\n",
              "      <th>3247</th>\n",
              "      <td>[]</td>\n",
              "      <td>111904</td>\n",
              "      <td>기분 좋은 음악과 함께 산책으로 시작하는 아침</td>\n",
              "      <td>[579094, 678937, 538300, 450180, 635244, 7797,...</td>\n",
              "      <td>5</td>\n",
              "      <td>2015-05-29 09:12:57.000</td>\n",
              "      <td>[]</td>\n",
              "      <td>[c681, c668, c805, c426, c482, c426, c142, c52...</td>\n",
              "      <td>[c681, c668, c805, c426, c482, c426, c142, c52...</td>\n",
              "      <td>[c681, c668, c805, c426, c482, c426, c142, c52...</td>\n",
              "      <td>[]</td>\n",
              "      <td>[242, 298, 241, 157, 660, 157, 333, 149, 298]</td>\n",
              "      <td>[]</td>\n",
              "      <td>[242, 298, 241, 157, 660, 157, 333, 149, 298]</td>\n",
              "    </tr>\n",
              "  </tbody>\n",
              "</table>\n",
              "</div>"
            ],
            "text/plain": [
              "     tags      id  ... t_index                                       ct_index\n",
              "3247   []  111904  ...      []  [242, 298, 241, 157, 660, 157, 333, 149, 298]\n",
              "\n",
              "[1 rows x 14 columns]"
            ]
          },
          "metadata": {
            "tags": []
          }
        },
        {
          "output_type": "display_data",
          "data": {
            "text/html": [
              "<div>\n",
              "<style scoped>\n",
              "    .dataframe tbody tr th:only-of-type {\n",
              "        vertical-align: middle;\n",
              "    }\n",
              "\n",
              "    .dataframe tbody tr th {\n",
              "        vertical-align: top;\n",
              "    }\n",
              "\n",
              "    .dataframe thead th {\n",
              "        text-align: right;\n",
              "    }\n",
              "</style>\n",
              "<table border=\"1\" class=\"dataframe\">\n",
              "  <thead>\n",
              "    <tr style=\"text-align: right;\">\n",
              "      <th></th>\n",
              "      <th>tags</th>\n",
              "      <th>id</th>\n",
              "      <th>plylst_title</th>\n",
              "      <th>songs</th>\n",
              "      <th>like_cnt</th>\n",
              "      <th>updt_date</th>\n",
              "      <th>new_tags</th>\n",
              "      <th>raw_cid</th>\n",
              "      <th>raw_items</th>\n",
              "      <th>selected_raw_cid</th>\n",
              "      <th>selected_tags</th>\n",
              "      <th>c_index</th>\n",
              "      <th>t_index</th>\n",
              "      <th>ct_index</th>\n",
              "    </tr>\n",
              "  </thead>\n",
              "  <tbody>\n",
              "    <tr>\n",
              "      <th>3247</th>\n",
              "      <td>[휴식, 힐링, 여름]</td>\n",
              "      <td>111904</td>\n",
              "      <td>기분 좋은 음악과 함께 산책으로 시작하는 아침</td>\n",
              "      <td>[68238, 570248, 507064, 416647, 212953, 410759...</td>\n",
              "      <td>5</td>\n",
              "      <td>2015-05-29 09:12:57.000</td>\n",
              "      <td>[휴식, 힐링, 여름]</td>\n",
              "      <td>[c268, c426, c28, c93, c52, c668, c171, c142, ...</td>\n",
              "      <td>[c268, c426, c28, c93, c52, c668, c171, c142, ...</td>\n",
              "      <td>[c268, c426, c28, c93, c52, c668, c171, c142, ...</td>\n",
              "      <td>[휴식, 힐링, 여름]</td>\n",
              "      <td>[697, 157, 380, 155, 149, 298, 247, 333, 298, ...</td>\n",
              "      <td>[948, 949, 995]</td>\n",
              "      <td>[697, 157, 380, 155, 149, 298, 247, 333, 298, ...</td>\n",
              "    </tr>\n",
              "  </tbody>\n",
              "</table>\n",
              "</div>"
            ],
            "text/plain": [
              "              tags  ...                                           ct_index\n",
              "3247  [휴식, 힐링, 여름]  ...  [697, 157, 380, 155, 149, 298, 247, 333, 298, ...\n",
              "\n",
              "[1 rows x 14 columns]"
            ]
          },
          "metadata": {
            "tags": []
          }
        },
        {
          "output_type": "display_data",
          "data": {
            "text/html": [
              "<div>\n",
              "<style scoped>\n",
              "    .dataframe tbody tr th:only-of-type {\n",
              "        vertical-align: middle;\n",
              "    }\n",
              "\n",
              "    .dataframe tbody tr th {\n",
              "        vertical-align: top;\n",
              "    }\n",
              "\n",
              "    .dataframe thead th {\n",
              "        text-align: right;\n",
              "    }\n",
              "</style>\n",
              "<table border=\"1\" class=\"dataframe\">\n",
              "  <thead>\n",
              "    <tr style=\"text-align: right;\">\n",
              "      <th></th>\n",
              "      <th>tags</th>\n",
              "      <th>id</th>\n",
              "      <th>plylst_title</th>\n",
              "      <th>songs</th>\n",
              "      <th>like_cnt</th>\n",
              "      <th>updt_date</th>\n",
              "      <th>new_tags</th>\n",
              "      <th>raw_cid</th>\n",
              "      <th>raw_items</th>\n",
              "      <th>selected_raw_cid</th>\n",
              "      <th>selected_tags</th>\n",
              "      <th>c_index</th>\n",
              "      <th>t_index</th>\n",
              "      <th>ct_index</th>\n",
              "    </tr>\n",
              "  </thead>\n",
              "  <tbody>\n",
              "    <tr>\n",
              "      <th>84115</th>\n",
              "      <td>[재즈]</td>\n",
              "      <td>4499</td>\n",
              "      <td>6월 coffee RE studio</td>\n",
              "      <td>[455159, 641065, 192343, 62751, 198300, 238548...</td>\n",
              "      <td>10</td>\n",
              "      <td>2015-06-11 11:29:05.000</td>\n",
              "      <td>[재즈]</td>\n",
              "      <td>[c464, c52, c399, c206, c206, c206, c206, c537...</td>\n",
              "      <td>[c464, c52, c399, c206, c206, c206, c206, c537...</td>\n",
              "      <td>[c464, c52, c399, c206, c206, c206, c206, c537...</td>\n",
              "      <td>[재즈]</td>\n",
              "      <td>[334, 149, 582, 580, 580, 580, 580, 154, 154, ...</td>\n",
              "      <td>[1049]</td>\n",
              "      <td>[334, 149, 582, 580, 580, 580, 580, 154, 154, ...</td>\n",
              "    </tr>\n",
              "  </tbody>\n",
              "</table>\n",
              "</div>"
            ],
            "text/plain": [
              "       tags    id  ... t_index                                           ct_index\n",
              "84115  [재즈]  4499  ...  [1049]  [334, 149, 582, 580, 580, 580, 580, 154, 154, ...\n",
              "\n",
              "[1 rows x 14 columns]"
            ]
          },
          "metadata": {
            "tags": []
          }
        },
        {
          "output_type": "stream",
          "text": [
            "\n",
            "● 추천 clusters 중 gt에 속한 cluster 수 4\n",
            "\n",
            "● 추천 태그 중 gt에 속한 tag 수 1\n"
          ],
          "name": "stdout"
        }
      ]
    },
    {
      "cell_type": "markdown",
      "metadata": {
        "id": "C-soTWCcSCwa"
      },
      "source": [
        "# ● 결과 저장"
      ]
    },
    {
      "cell_type": "code",
      "metadata": {
        "id": "W_JXLeKPevUY"
      },
      "source": [
        "from collections import defaultdict\n",
        "song_freq_dict_top50 = {i:j[:50] for i,j in song_freq_dict.items()}"
      ],
      "execution_count": null,
      "outputs": []
    },
    {
      "cell_type": "code",
      "metadata": {
        "id": "n4eY0l0-g8jt"
      },
      "source": [
        "val_dict = val.loc[:,['id','c_index','t_index','ct_index','songs',]].T.to_dict()"
      ],
      "execution_count": null,
      "outputs": []
    },
    {
      "cell_type": "code",
      "metadata": {
        "id": "MGjoAvZ8C4vq"
      },
      "source": [
        "# answers = []\n",
        "eye = np.eye(n_values)\n",
        "for index in range(len(val)):\n",
        "    target = val_dict[index]\n",
        "\n",
        "    # values = list(set(target['ct_index']))\n",
        "    values = target['ct_index']\n",
        "    s = eye[values].sum(axis = 0)\n",
        "    sim = user_item_als.dot(s)\n",
        "    most_similar_ply = sim.argmax()\n",
        "    sim_ply_info = user_item_als[most_similar_ply]\n",
        "\n",
        "    #########\n",
        "    # songs #\n",
        "    #########\n",
        "\n",
        "    already_in = defaultdict(lambda:False)\n",
        "    for song in target['songs']:\n",
        "        already_in[song] = True\n",
        "    for tag_index in target['t_index']:\n",
        "        already_in[tag_index] = True\n",
        "\n",
        "    alpha = len(target['c_index']) // 10 + 1\n",
        "    sim_clusters = sim_ply_info[:n_clusters].argsort()[::-1][:10]\n",
        "\n",
        "    recommended_songs = []\n",
        "    break_flag = False\n",
        "    for cluster_index in sim_clusters:\n",
        "        candidates = song_freq_dict_top50[index_to_raw_cid[cluster_index]]\n",
        "        for i in range(min(len(candidates),30)):\n",
        "            if not already_in[candidates[i]]:\n",
        "                recommended_songs.append(candidates[i])\n",
        "                if len(recommended_songs) == 100:\n",
        "                    break_flag = True\n",
        "                    break\n",
        "        if break_flag:\n",
        "            break\n",
        "\n",
        "    answers[index]['songs'] = recommended_songs\n",
        "\n",
        "    if index%1000 == 0:\n",
        "        print('\\n',index)\n",
        "    \n",
        "    if index%100 == 0:\n",
        "        print('* ', end = '')\n",
        "\n",
        "    if len(recommended_songs) != 100 or len(recommended_tags) != 10:\n",
        "        print(\"● \",index, target['id'], '=>', len(recommended_songs))\n",
        "\n",
        "    ##########\n",
        "    # tags 1 #\n",
        "    ##########\n",
        "\n",
        "    sim_tags = sim_ply_info[n_clusters:].argsort()[::-1] + n_clusters\n",
        "    recommended_tags = []\n",
        "\n",
        "    for tag_index in sim_tags:\n",
        "        if not already_in[tag_index]:\n",
        "            recommended_tags.append(tag_index)\n",
        "            if len(recommended_tags) == 10:\n",
        "                break\n",
        "\n",
        "    if index%1000 == 0:\n",
        "        print('\\n',index)\n",
        "    \n",
        "    if index%100 == 0:\n",
        "        print('* ', end = '')\n",
        "\n",
        "    if len(recommended_songs) != 100 or len(recommended_tags) != 10:\n",
        "        print(\"● \",index, target['id'], '=>', len(recommended_songs), len(recommended_tags))\n",
        "\n",
        "    answers.append({\n",
        "    \"id\": target['id'],\n",
        "    \"songs\": list(recommended_songs),\n",
        "    \"tags\": list(recommended_tags)\n",
        "    })"
      ],
      "execution_count": null,
      "outputs": []
    },
    {
      "cell_type": "code",
      "metadata": {
        "id": "R4uazjlioSkv",
        "outputId": "16dae795-fb61-4386-97e5-a2c1e07397e4",
        "colab": {
          "base_uri": "https://localhost:8080/"
        }
      },
      "source": [
        "len(answers)"
      ],
      "execution_count": 538,
      "outputs": [
        {
          "output_type": "execute_result",
          "data": {
            "text/plain": [
              "23015"
            ]
          },
          "metadata": {
            "tags": []
          },
          "execution_count": 538
        }
      ]
    },
    {
      "cell_type": "code",
      "metadata": {
        "id": "rWKvu1GuxVYV"
      },
      "source": [
        "import io\n",
        "import json\n",
        "\n",
        "def write_json(data, fname):\n",
        "    def _conv(o):\n",
        "        if isinstance(o, (np.int64, np.int32)):\n",
        "            return int(o)\n",
        "        raise TypeError\n",
        "\n",
        "    with io.open(fname, \"w\", encoding=\"utf-8\") as f:\n",
        "        json_str = json.dumps(data, ensure_ascii=False, default=_conv)\n",
        "        f.write(json_str)"
      ],
      "execution_count": null,
      "outputs": []
    },
    {
      "cell_type": "code",
      "metadata": {
        "id": "8GT9YM90lwYI",
        "outputId": "28f09973-aeb2-40b3-b9db-1c23f254f9c7",
        "colab": {
          "base_uri": "https://localhost:8080/"
        }
      },
      "source": [
        "len(answers)"
      ],
      "execution_count": 507,
      "outputs": [
        {
          "output_type": "execute_result",
          "data": {
            "text/plain": [
              "23015"
            ]
          },
          "metadata": {
            "tags": []
          },
          "execution_count": 507
        }
      ]
    },
    {
      "cell_type": "code",
      "metadata": {
        "id": "5KLCuBNljrk4",
        "outputId": "161164f0-7c3e-4b47-ea6f-7d7420e54dba",
        "colab": {
          "base_uri": "https://localhost:8080/"
        }
      },
      "source": [
        "answers[0]['tags']"
      ],
      "execution_count": 510,
      "outputs": [
        {
          "output_type": "execute_result",
          "data": {
            "text/plain": [
              "['국내힙합', '국힙', '한국힙합', '랩', '힙합', '스트레스', '감성힙합', '매장음악', '비트', '운동']"
            ]
          },
          "metadata": {
            "tags": []
          },
          "execution_count": 510
        }
      ]
    },
    {
      "cell_type": "code",
      "metadata": {
        "id": "o6ZVkE1Djb92"
      },
      "source": [
        "for d in answers:\n",
        "    d['tags'] = [index_to_tag[i] for i in d['tags']]"
      ],
      "execution_count": null,
      "outputs": []
    },
    {
      "cell_type": "code",
      "metadata": {
        "id": "GVVHZ_T1sVbe"
      },
      "source": [
        "# write_json(res,\"/content/drive/My Drive/Melon-PL-Continuation/AE/results_ALS_1102_newpca.json\")\n",
        "write_json(answers,\"results_ALS_1104_onehotver2.json\")"
      ],
      "execution_count": 511,
      "outputs": []
    },
    {
      "cell_type": "code",
      "metadata": {
        "id": "dmR4MwOWlNcA"
      },
      "source": [
        "# answers = pd.read_json(\"results_ALS_1104_onehotver.json\")\n",
        "# answers = list(answers.T.to_dict().values())"
      ],
      "execution_count": 506,
      "outputs": []
    },
    {
      "cell_type": "code",
      "metadata": {
        "id": "6uxibRJ4omPu"
      },
      "source": [
        ""
      ],
      "execution_count": null,
      "outputs": []
    }
  ]
}