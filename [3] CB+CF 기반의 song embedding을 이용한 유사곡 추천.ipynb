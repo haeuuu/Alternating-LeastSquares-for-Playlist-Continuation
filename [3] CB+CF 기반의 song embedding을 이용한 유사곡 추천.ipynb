{
  "nbformat": 4,
  "nbformat_minor": 0,
  "metadata": {
    "colab": {
      "name": "[final] 1110 CB+CF로 추출된 유사곡을 기반으로 노래 추천하기 !.ipynb",
      "provenance": [],
      "collapsed_sections": [],
      "machine_shape": "hm"
    },
    "kernelspec": {
      "name": "python3",
      "display_name": "Python 3"
    }
  },
  "cells": [
    {
      "cell_type": "markdown",
      "metadata": {
        "id": "nRQf6b9IoUav"
      },
      "source": [
        "# 🍈 **CB + CF로 추출된 유사곡을 기반으로 노래를 추천합니다.** 🎶\n",
        "* song embedding을 위해 **content 자체의 정보**인 `meta정보(년,월,장르)`와 `태그` 정보에 더하여, **유저들이 어느 곡을 유사하다고 생각하였는지에 대한 정보**를 포함시키기 위하여 `play list`에 대한 feature를 추가하여 embedding하였다.\n",
        "* **5개 layer를 가진 AE를 기반으로 d : 1024의 latent feature를 추출하였고** *cosine similarity를 이용하여 구한 유사곡 리스트를 기반으로 추천을 진행한다.\n",
        "\n",
        "```\n",
        "    Music nDCG: 0.107791\n",
        "    Tag nDCG: 0.341254\n",
        "    Score: 0.142811\n",
        "```"
      ]
    },
    {
      "cell_type": "code",
      "metadata": {
        "id": "vhAQRVjVKR_A"
      },
      "source": [
        "import pickle\n",
        "\n",
        "import pandas as pd\n",
        "import numpy as np\n",
        "from itertools import chain"
      ],
      "execution_count": 1,
      "outputs": []
    },
    {
      "cell_type": "markdown",
      "metadata": {
        "id": "lfWAgmFIVPJX"
      },
      "source": [
        "# 🌳 **추천 전 몇가지 전처리**"
      ]
    },
    {
      "cell_type": "markdown",
      "metadata": {
        "id": "gDncGw1BToxb"
      },
      "source": [
        "### **index와 sid간 연결용 dictionary**"
      ]
    },
    {
      "cell_type": "code",
      "metadata": {
        "id": "acn5u3dSOxsj"
      },
      "source": [
        "df_raw = one_hot_encoding = pd.read_pickle('/content/drive/My Drive/Melon-PL-Continuation/0802/train_split/one_hot_encoding_nov_ply.pkl')\n",
        "\n",
        "songs = df_raw.index.tolist()\n",
        "index_to_sid = {i:songs[i] for i in range(len(songs))}\n",
        "sid_to_index = {j:i for i,j in index_to_sid.items()}\n",
        "\n",
        "items = df_raw.columns.tolist()\n",
        "new_tags = items[:407]\n",
        "# index_to_iid = {i:items[i] for i in range(len(items))}\n",
        "# iid_to_index = {j:i for i,j in index_to_iid.items()}\n",
        "\n",
        "song_meta = pd.read_pickle('/content/drive/My Drive/Melon-PL-Continuation/0802/train_split/song_meta_nov.pkl')\n",
        "\n",
        "del df_raw"
      ],
      "execution_count": 61,
      "outputs": []
    },
    {
      "cell_type": "markdown",
      "metadata": {
        "id": "37Kd2e-opMPN"
      },
      "source": [
        "### **sim_songs**"
      ]
    },
    {
      "cell_type": "code",
      "metadata": {
        "id": "Ogmc_K8DY5nQ"
      },
      "source": [
        "# with open('/content/drive/My Drive/Melon-PL-Continuation/0802/train_split/nov/sim_songs_epoch30.pkl', 'rb') as f:\n",
        "#       sim_songs_list = pickle.load(f)\n",
        "\n",
        "with open('/content/drive/My Drive/Melon-PL-Continuation/0802/train_split/nov/sim_songs_epoch30_cosim.pkl', 'rb') as f:\n",
        "      sim_songs_list = pickle.load(f)"
      ],
      "execution_count": 62,
      "outputs": []
    },
    {
      "cell_type": "code",
      "metadata": {
        "id": "JoKZhc3ebxa2",
        "outputId": "3576a1ba-5e81-4dc6-8e7c-7b2e736f975f",
        "colab": {
          "base_uri": "https://localhost:8080/"
        }
      },
      "source": [
        "len(sim_songs_list)"
      ],
      "execution_count": 63,
      "outputs": [
        {
          "output_type": "execute_result",
          "data": {
            "text/plain": [
              "226578"
            ]
          },
          "metadata": {
            "tags": []
          },
          "execution_count": 63
        }
      ]
    },
    {
      "cell_type": "code",
      "metadata": {
        "id": "vzg1cBOb9VDA",
        "outputId": "40323525-e13d-4085-b2f5-30168f195062",
        "colab": {
          "base_uri": "https://localhost:8080/"
        }
      },
      "source": [
        "# 혹시 순서 뒤집혔는지 체크!\n",
        "sim_songs_list[0][0] # 117563"
      ],
      "execution_count": 64,
      "outputs": [
        {
          "output_type": "execute_result",
          "data": {
            "text/plain": [
              "117563"
            ]
          },
          "metadata": {
            "tags": []
          },
          "execution_count": 64
        }
      ]
    },
    {
      "cell_type": "code",
      "metadata": {
        "id": "9V5Tx1wTcO2U"
      },
      "source": [
        "# index로 저장된 song들을 sid로 변환\n",
        "\n",
        "for i in range(len(sim_songs_list)):\n",
        "    sim_songs_list[i] = [index_to_sid[j] for j in sim_songs_list[i]]"
      ],
      "execution_count": 65,
      "outputs": []
    },
    {
      "cell_type": "code",
      "metadata": {
        "id": "zmdEAcH7a5S_"
      },
      "source": [
        "# dictionary 생성\n",
        "sim_songs = {index_to_sid[i]:sim_songs_list[i] for i in range(len(sim_songs_list))}"
      ],
      "execution_count": 66,
      "outputs": []
    },
    {
      "cell_type": "markdown",
      "metadata": {
        "id": "xPJDAJYLpFgc"
      },
      "source": [
        "### **pop songs/tags**\n",
        "* 전체 train set의 인기 태그인 `pop_tags`보다, 인기 곡의 인기 태그인 `pop_tags2`를 사용하는 경우에 tag 점수가 소폭 상승"
      ]
    },
    {
      "cell_type": "code",
      "metadata": {
        "id": "mNR5YlgpnYce"
      },
      "source": [
        "tr = pd.read_json(\"/content/drive/My Drive/Melon-PL-Continuation/0802/train_split/pickle/train.json\", typ = 'frame')"
      ],
      "execution_count": 67,
      "outputs": []
    },
    {
      "cell_type": "code",
      "metadata": {
        "id": "C9Hb92-wnrDR"
      },
      "source": [
        "from collections import Counter\n",
        "\n",
        "pop_songs_counter = Counter(chain.from_iterable(tr.songs))\n",
        "pop_tags_counter = Counter(chain.from_iterable(tr.tags))\n",
        "pop_songs = [i for i,j in pop_songs_counter.most_common(100)]\n",
        "\n",
        "# 전체에서 인기 태그를 선택하는 것 보다, 인기곡의 태그를 가져오는 것이 태그점수 소폭 상승\n",
        "# pop_tags = [i for i,j in pop_tags_counter.most_common(10)]\n",
        "# pop_tags"
      ],
      "execution_count": 68,
      "outputs": []
    },
    {
      "cell_type": "code",
      "metadata": {
        "id": "myyIp3eYMbY8",
        "outputId": "99538a0c-4090-4e60-cf45-09108d7f6986",
        "colab": {
          "base_uri": "https://localhost:8080/"
        }
      },
      "source": [
        "# 인기 곡의 인기 태그 추출\n",
        "\n",
        "tag_counter = Counter(chain.from_iterable([sid_to_tag[sid] for sid in pop_songs]))\n",
        "pop_tags2 = [tag for tag,count in tag_counter.most_common(10)]\n",
        "pop_tags2"
      ],
      "execution_count": 69,
      "outputs": [
        {
          "output_type": "execute_result",
          "data": {
            "text/plain": [
              "['발라드', '설렘', '사랑', '잔잔한', '감성', '기분전환', '비오는날', '카페', '드라이브', '밤']"
            ]
          },
          "metadata": {
            "tags": []
          },
          "execution_count": 69
        }
      ]
    },
    {
      "cell_type": "markdown",
      "metadata": {
        "id": "ptgc01xRpa4O"
      },
      "source": [
        "### **tag_counter**\n",
        "tag를 입력하면 가장 많이 매칭된 노래가 150곡씩 추출된다. (내림차순)"
      ]
    },
    {
      "cell_type": "code",
      "metadata": {
        "id": "le1w7NTCkp-P"
      },
      "source": [
        "tr.loc[:,'new_tags'] = tr['tags'].map(lambda x: list(set(x)&set(new_tags)))"
      ],
      "execution_count": 70,
      "outputs": []
    },
    {
      "cell_type": "code",
      "metadata": {
        "id": "m58E6J6elCP5"
      },
      "source": [
        "from collections import defaultdict\n",
        "\n",
        "tag_to_counter = defaultdict(lambda : Counter())"
      ],
      "execution_count": 71,
      "outputs": []
    },
    {
      "cell_type": "code",
      "metadata": {
        "id": "RX2lsm0elYZY"
      },
      "source": [
        "for tags, songs in zip(tr.new_tags, tr.songs):\n",
        "    for tag in tags:\n",
        "        for sid in songs:\n",
        "            tag_to_counter[tag][sid] += 1"
      ],
      "execution_count": 72,
      "outputs": []
    },
    {
      "cell_type": "code",
      "metadata": {
        "id": "Iolt67RDmjdc",
        "outputId": "4a5f052e-eb81-4d21-cc85-a982d6212f18",
        "colab": {
          "base_uri": "https://localhost:8080/"
        }
      },
      "source": [
        "tag_to_counter['발라드'].most_common(10)"
      ],
      "execution_count": 73,
      "outputs": [
        {
          "output_type": "execute_result",
          "data": {
            "text/plain": [
              "[(680366, 545),\n",
              " (215411, 529),\n",
              " (463173, 514),\n",
              " (349492, 501),\n",
              " (427724, 501),\n",
              " (520093, 491),\n",
              " (235773, 484),\n",
              " (396828, 469),\n",
              " (442014, 443),\n",
              " (42155, 442)]"
            ]
          },
          "metadata": {
            "tags": []
          },
          "execution_count": 73
        }
      ]
    },
    {
      "cell_type": "code",
      "metadata": {
        "id": "Pgjaxoa0qe2r"
      },
      "source": [
        "tag_to_sid = {tag:[i for i,j in counter.most_common(150)] for tag,counter in tag_to_counter.items()}"
      ],
      "execution_count": 74,
      "outputs": []
    },
    {
      "cell_type": "code",
      "metadata": {
        "id": "xDq76IK0qsvg",
        "outputId": "6c77b324-21e8-4c38-c9ed-021c8639caa2",
        "colab": {
          "base_uri": "https://localhost:8080/"
        }
      },
      "source": [
        "tag_to_sid['발라드'][:10]"
      ],
      "execution_count": 75,
      "outputs": [
        {
          "output_type": "execute_result",
          "data": {
            "text/plain": [
              "[680366, 215411, 463173, 349492, 427724, 520093, 235773, 396828, 442014, 42155]"
            ]
          },
          "metadata": {
            "tags": []
          },
          "execution_count": 75
        }
      ]
    },
    {
      "cell_type": "markdown",
      "metadata": {
        "id": "SQh2rDvhpP_V"
      },
      "source": [
        "### **val dict**"
      ]
    },
    {
      "cell_type": "code",
      "metadata": {
        "id": "VD9i8khDTjIf"
      },
      "source": [
        "val = pd.read_json(\"/content/drive/My Drive/Melon-PL-Continuation/0802/train_split/pickle/val_question.json\", typ = 'frame')"
      ],
      "execution_count": 76,
      "outputs": []
    },
    {
      "cell_type": "code",
      "metadata": {
        "id": "AHhWzSC4X85P"
      },
      "source": [
        "val['new_tags'] = val.tags.map(lambda x: [i for i in x if i in new_tags])\n",
        "val['new_songs'] = val.songs.map(lambda x: [i for i in x if i in sid_to_index.keys()])"
      ],
      "execution_count": 77,
      "outputs": []
    },
    {
      "cell_type": "code",
      "metadata": {
        "id": "iyn6X2pnBwXC"
      },
      "source": [
        "val_dict = val[['id','new_songs','new_tags','songs','tags']].T.to_dict() # new songs의 유사곡에서 추천된 곡이 songs와 겹칠수는 없음.\n",
        "val_dict = list(val_dict.values())"
      ],
      "execution_count": 78,
      "outputs": []
    },
    {
      "cell_type": "code",
      "metadata": {
        "id": "rL__gdr3ao7j",
        "outputId": "b6a23106-b701-4da0-869e-8d2e4c41886d",
        "colab": {
          "base_uri": "https://localhost:8080/"
        }
      },
      "source": [
        "val_dict[0]"
      ],
      "execution_count": 79,
      "outputs": [
        {
          "output_type": "execute_result",
          "data": {
            "text/plain": [
              "{'id': 147332,\n",
              " 'new_songs': [],\n",
              " 'new_tags': [],\n",
              " 'songs': [],\n",
              " 'tags': ['Billboard', 'uspop']}"
            ]
          },
          "metadata": {
            "tags": []
          },
          "execution_count": 79
        }
      ]
    },
    {
      "cell_type": "markdown",
      "metadata": {
        "id": "f6IYOEuMpS0D"
      },
      "source": [
        "### **sid_to_tag**"
      ]
    },
    {
      "cell_type": "code",
      "metadata": {
        "id": "iCTpcXUgk7zq"
      },
      "source": [
        "sid_to_tag = song_meta.set_index('id')['new_tags'].to_dict()"
      ],
      "execution_count": 80,
      "outputs": []
    },
    {
      "cell_type": "code",
      "metadata": {
        "id": "vbz-O1hQlHIg",
        "outputId": "3d5bfaa4-011a-430b-afed-c0f38a183a2d",
        "colab": {
          "base_uri": "https://localhost:8080/",
          "height": 77
        }
      },
      "source": [
        "song_meta.query('id == 0')"
      ],
      "execution_count": 81,
      "outputs": [
        {
          "output_type": "execute_result",
          "data": {
            "text/html": [
              "<div>\n",
              "<style scoped>\n",
              "    .dataframe tbody tr th:only-of-type {\n",
              "        vertical-align: middle;\n",
              "    }\n",
              "\n",
              "    .dataframe tbody tr th {\n",
              "        vertical-align: top;\n",
              "    }\n",
              "\n",
              "    .dataframe thead th {\n",
              "        text-align: right;\n",
              "    }\n",
              "</style>\n",
              "<table border=\"1\" class=\"dataframe\">\n",
              "  <thead>\n",
              "    <tr style=\"text-align: right;\">\n",
              "      <th></th>\n",
              "      <th>song_gn_dtl_gnr_basket</th>\n",
              "      <th>issue_date</th>\n",
              "      <th>album_name</th>\n",
              "      <th>album_id</th>\n",
              "      <th>artist_id_basket</th>\n",
              "      <th>song_name</th>\n",
              "      <th>song_gn_gnr_basket</th>\n",
              "      <th>artist_name_basket</th>\n",
              "      <th>id</th>\n",
              "      <th>new_tags</th>\n",
              "    </tr>\n",
              "  </thead>\n",
              "  <tbody>\n",
              "    <tr>\n",
              "      <th>0</th>\n",
              "      <td>[GN0901]</td>\n",
              "      <td>20140512</td>\n",
              "      <td>불후의 명곡 - 7080 추억의 얄개시대 팝송베스트</td>\n",
              "      <td>2255639</td>\n",
              "      <td>[2727]</td>\n",
              "      <td>Feelings</td>\n",
              "      <td>[GN0900]</td>\n",
              "      <td>[Various Artists]</td>\n",
              "      <td>0</td>\n",
              "      <td>[비오는날, 드라이브, 추억, 회상]</td>\n",
              "    </tr>\n",
              "  </tbody>\n",
              "</table>\n",
              "</div>"
            ],
            "text/plain": [
              "  song_gn_dtl_gnr_basket issue_date  ... id              new_tags\n",
              "0               [GN0901]   20140512  ...  0  [비오는날, 드라이브, 추억, 회상]\n",
              "\n",
              "[1 rows x 10 columns]"
            ]
          },
          "metadata": {
            "tags": []
          },
          "execution_count": 81
        }
      ]
    },
    {
      "cell_type": "code",
      "metadata": {
        "id": "-tGbfSnwlE91",
        "outputId": "b1061438-0854-478a-dd40-3e4ac35817a3",
        "colab": {
          "base_uri": "https://localhost:8080/"
        }
      },
      "source": [
        "sid_to_tag[0]"
      ],
      "execution_count": 82,
      "outputs": [
        {
          "output_type": "execute_result",
          "data": {
            "text/plain": [
              "['비오는날', '드라이브', '추억', '회상']"
            ]
          },
          "metadata": {
            "tags": []
          },
          "execution_count": 82
        }
      ]
    },
    {
      "cell_type": "markdown",
      "metadata": {
        "id": "H3fIgpBgkhEW"
      },
      "source": [
        "# 🌲 **추천에 사용할 함수 정의**"
      ]
    },
    {
      "cell_type": "code",
      "metadata": {
        "id": "MJmFfhgHkO8w"
      },
      "source": [
        "# 채워야할 100곡을 골고루 나눠준다.\n",
        "\n",
        "def distribute(total):\n",
        "    if total >= 100:\n",
        "        return [1]*100\n",
        "\n",
        "    default, remainder = divmod(100,total)\n",
        "    cnt = [default]*total\n",
        "    for i in range(total):\n",
        "        if remainder == 0:\n",
        "            break\n",
        "        cnt[i] += 1\n",
        "        remainder -= 1\n",
        "\n",
        "    assert sum(cnt) == 100\n",
        "\n",
        "    return cnt"
      ],
      "execution_count": 29,
      "outputs": []
    },
    {
      "cell_type": "code",
      "metadata": {
        "id": "sar5EMutVcAW"
      },
      "source": [
        "# 유사곡을 기반으로 노래를 추천합니다.\n",
        "\n",
        "def similarity_based_song_recommend(new_songs):\n",
        "    rec_songs = []\n",
        "    for song, count in zip(new_songs,distribute(len(new_songs))):\n",
        "        temp_rec = 0\n",
        "        for candidate in sim_songs[song]:\n",
        "            if temp_rec == count:\n",
        "                break\n",
        "            if candidate not in songs and candidate not in rec_songs:\n",
        "                rec_songs.append(candidate)\n",
        "                temp_rec += 1\n",
        "\n",
        "    return rec_songs"
      ],
      "execution_count": 44,
      "outputs": []
    },
    {
      "cell_type": "code",
      "metadata": {
        "id": "BmNBB89rPN8v"
      },
      "source": [
        "# tag를 기반으로 노래를 추천합니다.\n",
        "\n",
        "def tag_based_song_recommend(new_tags, needed, total = 100):\n",
        "    rec_songs = []\n",
        "    for tag,count in zip(new_tags,distribute(len(new_tags))):\n",
        "        for candidate in tag_to_sid[tag]:\n",
        "            if len(rec_songs) == total:\n",
        "                break\n",
        "            if candidate not in songs and candidate not in rec_songs:\n",
        "                rec_songs.append(candidate)\n",
        "    return rec_songs"
      ],
      "execution_count": 31,
      "outputs": []
    },
    {
      "cell_type": "code",
      "metadata": {
        "id": "-LqpnSXoVbG6"
      },
      "source": [
        "# 추천 곡을 받으면 이를 기반으로 tag를 추천해줍니다.\n",
        "\n",
        "def tag_recommend(sid_list, seen_tag):\n",
        "    assert len(set(sid_list)) == 100\n",
        "\n",
        "    rec_tags = []\n",
        "\n",
        "    # extract tags\n",
        "    tag_counter = Counter(chain.from_iterable([sid_to_tag[sid] for sid in sid_list]))\n",
        "    tag_candidates = [tag for tag,count in tag_counter.most_common(20)]\n",
        "\n",
        "    for tag in tag_candidates:\n",
        "        if tag not in seen_tag:\n",
        "            rec_tags.append(tag)\n",
        "            if len(rec_tags) == 10:\n",
        "                break\n",
        "\n",
        "    if len(rec_tags) != 10:\n",
        "        fill = list(set(pop_tags2) - set(rec_tags))\n",
        "        rec_tags.extend(fill[:10-len(rec_tags)])\n",
        "\n",
        "    assert len(set(rec_tags)) == 10\n",
        "\n",
        "    return rec_tags"
      ],
      "execution_count": 32,
      "outputs": []
    },
    {
      "cell_type": "code",
      "metadata": {
        "id": "7rvNeqjMVYoc"
      },
      "source": [
        "# 추천 곡이 100곡보다 적다면, 인기곡을 통해 100곡을 채워줍니다.\n",
        "\n",
        "def fill(rec_songs):\n",
        "    if len(rec_songs) == 100:\n",
        "        return rec_songs\n",
        "    k = 100 - len(rec_songs)\n",
        "    candidates = list(set(pop_songs) - set(rec_songs))\n",
        "    return rec_songs + candidates[:k]"
      ],
      "execution_count": 33,
      "outputs": []
    },
    {
      "cell_type": "markdown",
      "metadata": {
        "id": "cw1CqYqxM3Er"
      },
      "source": [
        "# 🧐 **결과 미리보기**"
      ]
    },
    {
      "cell_type": "code",
      "metadata": {
        "id": "UUqZ_B3MrRed"
      },
      "source": [
        "def recommendation_preview(index):\n",
        "    id, new_songs, new_tags, songs, tags = val_dict[index].values()\n",
        "\n",
        "    print(\"● Query\")\n",
        "    display(val[val.id == id])\n",
        "\n",
        "    # 1 ) 참고할 노래가 없는 경우\n",
        "    if len(new_songs) == 0:\n",
        "         # 1. 노래는 없지만 tag가 있다면 tag를 기반으로 추천해준다.\n",
        "        if new_tags:\n",
        "            rec_songs = tag_based_song_recommend(new_tags, len(new_tags))\n",
        "            rec_songs = fill(rec_songs) # 100곡을 채우지 못한 경우 인기곡으로\n",
        "            rec_tags = tag_recommend(rec_songs, tags)\n",
        "        else:\n",
        "            # 2. 이용할 정보가 없는 경우 인기곡, 인기 태그를 추천한다.\n",
        "            rec_songs = pop_songs\n",
        "            rec_tags = pop_tags2\n",
        "\n",
        "    # 2 ) 참고할 노래가 있는 경우 유사곡 k개(모두 골고루 가질 수 있도록 배치했음)씩을 모아 100곡을 완성\n",
        "    else:\n",
        "        rec_songs = similarity_based_song_recommend(new_songs)\n",
        "\n",
        "        # tag가 없어 채우지 못한 경우 인기곡으로 채워준다.\n",
        "        rec_songs = fill(rec_songs)\n",
        "        rec_tags = tag_recommend(rec_songs, tags)\n",
        "\n",
        "    print(\"\\n● Recommended\")\n",
        "    print(rec_tags)\n",
        "    display(song_meta.query(f'id in {rec_songs[:5]}'))\n",
        "    display(song_meta.query(f'id in {rec_songs[-5:]}'))"
      ],
      "execution_count": 86,
      "outputs": []
    },
    {
      "cell_type": "code",
      "metadata": {
        "id": "gHYjLaNB9b-R",
        "outputId": "dd34ed80-0c4a-41c6-bb3d-467c90537e2c",
        "colab": {
          "base_uri": "https://localhost:8080/",
          "height": 681
        }
      },
      "source": [
        "recommendation_preview(14377)"
      ],
      "execution_count": 87,
      "outputs": [
        {
          "output_type": "stream",
          "text": [
            "● Query\n"
          ],
          "name": "stdout"
        },
        {
          "output_type": "display_data",
          "data": {
            "text/html": [
              "<div>\n",
              "<style scoped>\n",
              "    .dataframe tbody tr th:only-of-type {\n",
              "        vertical-align: middle;\n",
              "    }\n",
              "\n",
              "    .dataframe tbody tr th {\n",
              "        vertical-align: top;\n",
              "    }\n",
              "\n",
              "    .dataframe thead th {\n",
              "        text-align: right;\n",
              "    }\n",
              "</style>\n",
              "<table border=\"1\" class=\"dataframe\">\n",
              "  <thead>\n",
              "    <tr style=\"text-align: right;\">\n",
              "      <th></th>\n",
              "      <th>tags</th>\n",
              "      <th>id</th>\n",
              "      <th>plylst_title</th>\n",
              "      <th>songs</th>\n",
              "      <th>like_cnt</th>\n",
              "      <th>updt_date</th>\n",
              "      <th>new_tags</th>\n",
              "      <th>new_songs</th>\n",
              "    </tr>\n",
              "  </thead>\n",
              "  <tbody>\n",
              "    <tr>\n",
              "      <th>14377</th>\n",
              "      <td>[]</td>\n",
              "      <td>152634</td>\n",
              "      <td>취향존중 걸그룹 노래 모음</td>\n",
              "      <td>[400079, 163289, 561640, 632124, 225510, 68085...</td>\n",
              "      <td>22</td>\n",
              "      <td>2018-01-09 18:43:56.000</td>\n",
              "      <td>[]</td>\n",
              "      <td>[400079, 163289, 561640, 632124, 225510, 68085...</td>\n",
              "    </tr>\n",
              "  </tbody>\n",
              "</table>\n",
              "</div>"
            ],
            "text/plain": [
              "      tags      id  ... new_tags                                          new_songs\n",
              "14377   []  152634  ...       []  [400079, 163289, 561640, 632124, 225510, 68085...\n",
              "\n",
              "[1 rows x 8 columns]"
            ]
          },
          "metadata": {
            "tags": []
          }
        },
        {
          "output_type": "stream",
          "text": [
            "\n",
            "● Recommended\n",
            "['기분전환', '드라이브', '댄스', '신나는', '여름', '아이돌', '발라드', '추억', '힐링', '설렘']\n"
          ],
          "name": "stdout"
        },
        {
          "output_type": "display_data",
          "data": {
            "text/html": [
              "<div>\n",
              "<style scoped>\n",
              "    .dataframe tbody tr th:only-of-type {\n",
              "        vertical-align: middle;\n",
              "    }\n",
              "\n",
              "    .dataframe tbody tr th {\n",
              "        vertical-align: top;\n",
              "    }\n",
              "\n",
              "    .dataframe thead th {\n",
              "        text-align: right;\n",
              "    }\n",
              "</style>\n",
              "<table border=\"1\" class=\"dataframe\">\n",
              "  <thead>\n",
              "    <tr style=\"text-align: right;\">\n",
              "      <th></th>\n",
              "      <th>song_gn_dtl_gnr_basket</th>\n",
              "      <th>issue_date</th>\n",
              "      <th>album_name</th>\n",
              "      <th>album_id</th>\n",
              "      <th>artist_id_basket</th>\n",
              "      <th>song_name</th>\n",
              "      <th>song_gn_gnr_basket</th>\n",
              "      <th>artist_name_basket</th>\n",
              "      <th>id</th>\n",
              "      <th>new_tags</th>\n",
              "    </tr>\n",
              "  </thead>\n",
              "  <tbody>\n",
              "    <tr>\n",
              "      <th>56111</th>\n",
              "      <td>[GN2503, GN2501, GN2506, GN0201]</td>\n",
              "      <td>20120703</td>\n",
              "      <td>DAY BY DAY</td>\n",
              "      <td>2133148</td>\n",
              "      <td>[412000]</td>\n",
              "      <td>DAY BY DAY</td>\n",
              "      <td>[GN2500, GN0200]</td>\n",
              "      <td>[티아라]</td>\n",
              "      <td>56111</td>\n",
              "      <td>[댄스, 기분전환, 매장음악, 추억, 숨은명곡, 수록곡, 아이돌, 운동, 드라이브,...</td>\n",
              "    </tr>\n",
              "    <tr>\n",
              "      <th>202915</th>\n",
              "      <td>[GN2503, GN0205, GN2501, GN2506, GN0201]</td>\n",
              "      <td>20120103</td>\n",
              "      <td>Funky Town</td>\n",
              "      <td>2058067</td>\n",
              "      <td>[412000]</td>\n",
              "      <td>Lovey-Dovey</td>\n",
              "      <td>[GN2500, GN0200]</td>\n",
              "      <td>[티아라]</td>\n",
              "      <td>202915</td>\n",
              "      <td>[발라드, 기분전환, 매장음악, 드라이브, 설렘, 사랑, 흥폭발, 댄스, 걸그룹, ...</td>\n",
              "    </tr>\n",
              "    <tr>\n",
              "      <th>265348</th>\n",
              "      <td>[GN2503, GN0205, GN2501, GN2506, GN0201]</td>\n",
              "      <td>20111019</td>\n",
              "      <td>`The Boys` The 3rd Album</td>\n",
              "      <td>2017426</td>\n",
              "      <td>[228069]</td>\n",
              "      <td>The Boys</td>\n",
              "      <td>[GN2500, GN0200]</td>\n",
              "      <td>[소녀시대 (GIRLS` GENERATION)]</td>\n",
              "      <td>265348</td>\n",
              "      <td>[댄스, 추억, 발라드, 운동, 아이돌, 드라이브, 신나는노래, 운전, 기분전환, ...</td>\n",
              "    </tr>\n",
              "    <tr>\n",
              "      <th>488371</th>\n",
              "      <td>[GN2503, GN0205, GN2501, GN2506, GN0201]</td>\n",
              "      <td>20120509</td>\n",
              "      <td>UNE ANNEE</td>\n",
              "      <td>2123373</td>\n",
              "      <td>[534360]</td>\n",
              "      <td>HUSH</td>\n",
              "      <td>[GN2500, GN0200]</td>\n",
              "      <td>[Apink (에이핑크)]</td>\n",
              "      <td>488371</td>\n",
              "      <td>[기분전환, 설렘, 사랑, 매장음악, 발라드, 장르불문, 댄스, 드라이브, 댄스곡,...</td>\n",
              "    </tr>\n",
              "    <tr>\n",
              "      <th>684134</th>\n",
              "      <td>[GN0205, GN0201]</td>\n",
              "      <td>20120113</td>\n",
              "      <td>The Grasshoppers</td>\n",
              "      <td>2064311</td>\n",
              "      <td>[229494]</td>\n",
              "      <td>베짱이 찬가</td>\n",
              "      <td>[GN0200]</td>\n",
              "      <td>[써니힐]</td>\n",
              "      <td>684134</td>\n",
              "      <td>[발라드, 힙합, 랩, 여름, 신남, 기분전환, 매장음악, 추억, 드라이브, 락, ...</td>\n",
              "    </tr>\n",
              "  </tbody>\n",
              "</table>\n",
              "</div>"
            ],
            "text/plain": [
              "                          song_gn_dtl_gnr_basket  ...                                           new_tags\n",
              "56111           [GN2503, GN2501, GN2506, GN0201]  ...  [댄스, 기분전환, 매장음악, 추억, 숨은명곡, 수록곡, 아이돌, 운동, 드라이브,...\n",
              "202915  [GN2503, GN0205, GN2501, GN2506, GN0201]  ...  [발라드, 기분전환, 매장음악, 드라이브, 설렘, 사랑, 흥폭발, 댄스, 걸그룹, ...\n",
              "265348  [GN2503, GN0205, GN2501, GN2506, GN0201]  ...  [댄스, 추억, 발라드, 운동, 아이돌, 드라이브, 신나는노래, 운전, 기분전환, ...\n",
              "488371  [GN2503, GN0205, GN2501, GN2506, GN0201]  ...  [기분전환, 설렘, 사랑, 매장음악, 발라드, 장르불문, 댄스, 드라이브, 댄스곡,...\n",
              "684134                          [GN0205, GN0201]  ...  [발라드, 힙합, 랩, 여름, 신남, 기분전환, 매장음악, 추억, 드라이브, 락, ...\n",
              "\n",
              "[5 rows x 10 columns]"
            ]
          },
          "metadata": {
            "tags": []
          }
        },
        {
          "output_type": "display_data",
          "data": {
            "text/html": [
              "<div>\n",
              "<style scoped>\n",
              "    .dataframe tbody tr th:only-of-type {\n",
              "        vertical-align: middle;\n",
              "    }\n",
              "\n",
              "    .dataframe tbody tr th {\n",
              "        vertical-align: top;\n",
              "    }\n",
              "\n",
              "    .dataframe thead th {\n",
              "        text-align: right;\n",
              "    }\n",
              "</style>\n",
              "<table border=\"1\" class=\"dataframe\">\n",
              "  <thead>\n",
              "    <tr style=\"text-align: right;\">\n",
              "      <th></th>\n",
              "      <th>song_gn_dtl_gnr_basket</th>\n",
              "      <th>issue_date</th>\n",
              "      <th>album_name</th>\n",
              "      <th>album_id</th>\n",
              "      <th>artist_id_basket</th>\n",
              "      <th>song_name</th>\n",
              "      <th>song_gn_gnr_basket</th>\n",
              "      <th>artist_name_basket</th>\n",
              "      <th>id</th>\n",
              "      <th>new_tags</th>\n",
              "    </tr>\n",
              "  </thead>\n",
              "  <tbody>\n",
              "    <tr>\n",
              "      <th>193710</th>\n",
              "      <td>[GN0105, GN2505, GN2501, GN0101, GN2503]</td>\n",
              "      <td>20131121</td>\n",
              "      <td>그리워해요</td>\n",
              "      <td>2217249</td>\n",
              "      <td>[406712]</td>\n",
              "      <td>그리워해요</td>\n",
              "      <td>[GN2500, GN0100]</td>\n",
              "      <td>[2NE1]</td>\n",
              "      <td>193710</td>\n",
              "      <td>[힙합, 발라드, 댄스, 플레이리스트, 팝송, 팝, 감성, 작업, 슬픔, 이별, 추...</td>\n",
              "    </tr>\n",
              "    <tr>\n",
              "      <th>251375</th>\n",
              "      <td>[GN2503, GN0205, GN2501, GN2506, GN0201]</td>\n",
              "      <td>20150303</td>\n",
              "      <td>Hi~</td>\n",
              "      <td>2306957</td>\n",
              "      <td>[789331]</td>\n",
              "      <td>안녕 (Hi~)</td>\n",
              "      <td>[GN2500, GN0200]</td>\n",
              "      <td>[러블리즈]</td>\n",
              "      <td>251375</td>\n",
              "      <td>[봄, 벚꽃, 힐링, 기분전환, 설렘, 수록곡, 행복, 사랑, 흥폭발, 댄스, 드라...</td>\n",
              "    </tr>\n",
              "    <tr>\n",
              "      <th>318779</th>\n",
              "      <td>[GN2503, GN2501, GN2506, GN0201]</td>\n",
              "      <td>20150317</td>\n",
              "      <td>The 1st Mini Album `Ice Cream Cake`</td>\n",
              "      <td>2309156</td>\n",
              "      <td>[780066]</td>\n",
              "      <td>Take It Slow</td>\n",
              "      <td>[GN2500, GN0200]</td>\n",
              "      <td>[Red Velvet (레드벨벳)]</td>\n",
              "      <td>318779</td>\n",
              "      <td>[힐링, 휴식, 기분전환, 운동, 설렘, 사랑, 노래, 봄, 아이돌, 잔잔한, 드라...</td>\n",
              "    </tr>\n",
              "    <tr>\n",
              "      <th>455945</th>\n",
              "      <td>[GN2503, GN0205, GN2501, GN2506, GN0201]</td>\n",
              "      <td>20140804</td>\n",
              "      <td>The 1st Single `행복 (Happiness)`</td>\n",
              "      <td>2270252</td>\n",
              "      <td>[780066]</td>\n",
              "      <td>행복 (Happiness)</td>\n",
              "      <td>[GN2500, GN0200]</td>\n",
              "      <td>[Red Velvet (레드벨벳)]</td>\n",
              "      <td>455945</td>\n",
              "      <td>[리듬, 댄스, 산책, 아이돌, 운동, 기분전환, 매장음악, 운동할때, 신나는노래,...</td>\n",
              "    </tr>\n",
              "    <tr>\n",
              "      <th>506824</th>\n",
              "      <td>[GN2503, GN0205, GN2501, GN2506, GN0201]</td>\n",
              "      <td>20151207</td>\n",
              "      <td>Lovelinus</td>\n",
              "      <td>2654998</td>\n",
              "      <td>[789331]</td>\n",
              "      <td>그대에게</td>\n",
              "      <td>[GN2500, GN0200]</td>\n",
              "      <td>[러블리즈]</td>\n",
              "      <td>506824</td>\n",
              "      <td>[여름, 댄스, 걸그룹, 좋은노래, 신나는, 흥폭발, 띵곡, 아이돌, 응원, 휴식,...</td>\n",
              "    </tr>\n",
              "  </tbody>\n",
              "</table>\n",
              "</div>"
            ],
            "text/plain": [
              "                          song_gn_dtl_gnr_basket  ...                                           new_tags\n",
              "193710  [GN0105, GN2505, GN2501, GN0101, GN2503]  ...  [힙합, 발라드, 댄스, 플레이리스트, 팝송, 팝, 감성, 작업, 슬픔, 이별, 추...\n",
              "251375  [GN2503, GN0205, GN2501, GN2506, GN0201]  ...  [봄, 벚꽃, 힐링, 기분전환, 설렘, 수록곡, 행복, 사랑, 흥폭발, 댄스, 드라...\n",
              "318779          [GN2503, GN2501, GN2506, GN0201]  ...  [힐링, 휴식, 기분전환, 운동, 설렘, 사랑, 노래, 봄, 아이돌, 잔잔한, 드라...\n",
              "455945  [GN2503, GN0205, GN2501, GN2506, GN0201]  ...  [리듬, 댄스, 산책, 아이돌, 운동, 기분전환, 매장음악, 운동할때, 신나는노래,...\n",
              "506824  [GN2503, GN0205, GN2501, GN2506, GN0201]  ...  [여름, 댄스, 걸그룹, 좋은노래, 신나는, 흥폭발, 띵곡, 아이돌, 응원, 휴식,...\n",
              "\n",
              "[5 rows x 10 columns]"
            ]
          },
          "metadata": {
            "tags": []
          }
        }
      ]
    },
    {
      "cell_type": "code",
      "metadata": {
        "id": "M4wJsjkHW6Ad",
        "outputId": "ffdeeade-2621-40a8-ed98-2f3942c85754",
        "colab": {
          "base_uri": "https://localhost:8080/",
          "height": 613
        }
      },
      "source": [
        "recommendation_preview(34)"
      ],
      "execution_count": 88,
      "outputs": [
        {
          "output_type": "stream",
          "text": [
            "● Query\n"
          ],
          "name": "stdout"
        },
        {
          "output_type": "display_data",
          "data": {
            "text/html": [
              "<div>\n",
              "<style scoped>\n",
              "    .dataframe tbody tr th:only-of-type {\n",
              "        vertical-align: middle;\n",
              "    }\n",
              "\n",
              "    .dataframe tbody tr th {\n",
              "        vertical-align: top;\n",
              "    }\n",
              "\n",
              "    .dataframe thead th {\n",
              "        text-align: right;\n",
              "    }\n",
              "</style>\n",
              "<table border=\"1\" class=\"dataframe\">\n",
              "  <thead>\n",
              "    <tr style=\"text-align: right;\">\n",
              "      <th></th>\n",
              "      <th>tags</th>\n",
              "      <th>id</th>\n",
              "      <th>plylst_title</th>\n",
              "      <th>songs</th>\n",
              "      <th>like_cnt</th>\n",
              "      <th>updt_date</th>\n",
              "      <th>new_tags</th>\n",
              "      <th>new_songs</th>\n",
              "    </tr>\n",
              "  </thead>\n",
              "  <tbody>\n",
              "    <tr>\n",
              "      <th>34</th>\n",
              "      <td>[]</td>\n",
              "      <td>148379</td>\n",
              "      <td>카페에 틀어놓기 좋은 연주곡들!</td>\n",
              "      <td>[161783, 133188, 171517, 640198, 538506, 46043...</td>\n",
              "      <td>12</td>\n",
              "      <td>2018-03-09 15:40:28.000</td>\n",
              "      <td>[]</td>\n",
              "      <td>[85691, 552747, 118675, 20303, 204138, 42323, ...</td>\n",
              "    </tr>\n",
              "  </tbody>\n",
              "</table>\n",
              "</div>"
            ],
            "text/plain": [
              "   tags      id  ... new_tags                                          new_songs\n",
              "34   []  148379  ...       []  [85691, 552747, 118675, 20303, 204138, 42323, ...\n",
              "\n",
              "[1 rows x 8 columns]"
            ]
          },
          "metadata": {
            "tags": []
          }
        },
        {
          "output_type": "stream",
          "text": [
            "\n",
            "● Recommended\n",
            "['재즈', 'Jazz', '휴식', '카페', '힐링', '커피', '기분전환', '잔잔한', '매장음악', '감성']\n"
          ],
          "name": "stdout"
        },
        {
          "output_type": "display_data",
          "data": {
            "text/html": [
              "<div>\n",
              "<style scoped>\n",
              "    .dataframe tbody tr th:only-of-type {\n",
              "        vertical-align: middle;\n",
              "    }\n",
              "\n",
              "    .dataframe tbody tr th {\n",
              "        vertical-align: top;\n",
              "    }\n",
              "\n",
              "    .dataframe thead th {\n",
              "        text-align: right;\n",
              "    }\n",
              "</style>\n",
              "<table border=\"1\" class=\"dataframe\">\n",
              "  <thead>\n",
              "    <tr style=\"text-align: right;\">\n",
              "      <th></th>\n",
              "      <th>song_gn_dtl_gnr_basket</th>\n",
              "      <th>issue_date</th>\n",
              "      <th>album_name</th>\n",
              "      <th>album_id</th>\n",
              "      <th>artist_id_basket</th>\n",
              "      <th>song_name</th>\n",
              "      <th>song_gn_gnr_basket</th>\n",
              "      <th>artist_name_basket</th>\n",
              "      <th>id</th>\n",
              "      <th>new_tags</th>\n",
              "    </tr>\n",
              "  </thead>\n",
              "  <tbody>\n",
              "    <tr>\n",
              "      <th>91049</th>\n",
              "      <td>[GN1701, GN1704]</td>\n",
              "      <td>20160406</td>\n",
              "      <td>Like Minds</td>\n",
              "      <td>2677966</td>\n",
              "      <td>[29327, 27205, 30473, 30306, 12928]</td>\n",
              "      <td>For A Thousand Years (Album Ver.)</td>\n",
              "      <td>[GN1700]</td>\n",
              "      <td>[Gary Burton, Chick Corea, Roy Haynes, Dave Ho...</td>\n",
              "      <td>91049</td>\n",
              "      <td>[매장음악, 까페, 가을밤, 가을, Jazz, 재즈, 독서, 생각, 연주, 피아노,...</td>\n",
              "    </tr>\n",
              "    <tr>\n",
              "      <th>149501</th>\n",
              "      <td>[GN1701]</td>\n",
              "      <td>20070908</td>\n",
              "      <td>Giovanni Mirabassi &amp; Andrzej Jagodzinski Trio</td>\n",
              "      <td>358792</td>\n",
              "      <td>[229786]</td>\n",
              "      <td>El Pueblo Unido Jamas Sera Vencido</td>\n",
              "      <td>[GN1700]</td>\n",
              "      <td>[Giovanni Mirabassi &amp; Andrzej Jagodzinski Trio]</td>\n",
              "      <td>149501</td>\n",
              "      <td>[힐링, 휴식, 까페, 밤, 새벽, 연주, 재즈, 비오는날, 감성, 연주곡, Jaz...</td>\n",
              "    </tr>\n",
              "    <tr>\n",
              "      <th>345979</th>\n",
              "      <td>[GN1701]</td>\n",
              "      <td>20070711</td>\n",
              "      <td>Lullaby Of Birdland</td>\n",
              "      <td>353787</td>\n",
              "      <td>[227602]</td>\n",
              "      <td>Lullaby Of Birdland</td>\n",
              "      <td>[GN1700]</td>\n",
              "      <td>[Kenny Drew Trio]</td>\n",
              "      <td>345979</td>\n",
              "      <td>[커피, 피아노, 뉴에이지, 재즈, 연주, 매장음악, 까페, 카페, 겨울]</td>\n",
              "    </tr>\n",
              "    <tr>\n",
              "      <th>493970</th>\n",
              "      <td>[GN1701, GN1704]</td>\n",
              "      <td>19990309</td>\n",
              "      <td>The Real Mccoy (RVG Edition)</td>\n",
              "      <td>317839</td>\n",
              "      <td>[27140]</td>\n",
              "      <td>Four By Five</td>\n",
              "      <td>[GN1700]</td>\n",
              "      <td>[McCoy Tyner]</td>\n",
              "      <td>493970</td>\n",
              "      <td>[재즈, Jazz, 매장음악, 까페]</td>\n",
              "    </tr>\n",
              "    <tr>\n",
              "      <th>568599</th>\n",
              "      <td>[GN1701, GN1703]</td>\n",
              "      <td>19990420</td>\n",
              "      <td>The Song Lives On</td>\n",
              "      <td>378490</td>\n",
              "      <td>[20253]</td>\n",
              "      <td>Living In Blue</td>\n",
              "      <td>[GN1700]</td>\n",
              "      <td>[Joe Sample]</td>\n",
              "      <td>568599</td>\n",
              "      <td>[재즈, 가을감성, 야경, 카페, 오후, 피아노, 가을밤, 가을, Jazz, 독서,...</td>\n",
              "    </tr>\n",
              "  </tbody>\n",
              "</table>\n",
              "</div>"
            ],
            "text/plain": [
              "       song_gn_dtl_gnr_basket  ...                                           new_tags\n",
              "91049        [GN1701, GN1704]  ...  [매장음악, 까페, 가을밤, 가을, Jazz, 재즈, 독서, 생각, 연주, 피아노,...\n",
              "149501               [GN1701]  ...  [힐링, 휴식, 까페, 밤, 새벽, 연주, 재즈, 비오는날, 감성, 연주곡, Jaz...\n",
              "345979               [GN1701]  ...          [커피, 피아노, 뉴에이지, 재즈, 연주, 매장음악, 까페, 카페, 겨울]\n",
              "493970       [GN1701, GN1704]  ...                               [재즈, Jazz, 매장음악, 까페]\n",
              "568599       [GN1701, GN1703]  ...  [재즈, 가을감성, 야경, 카페, 오후, 피아노, 가을밤, 가을, Jazz, 독서,...\n",
              "\n",
              "[5 rows x 10 columns]"
            ]
          },
          "metadata": {
            "tags": []
          }
        },
        {
          "output_type": "display_data",
          "data": {
            "text/html": [
              "<div>\n",
              "<style scoped>\n",
              "    .dataframe tbody tr th:only-of-type {\n",
              "        vertical-align: middle;\n",
              "    }\n",
              "\n",
              "    .dataframe tbody tr th {\n",
              "        vertical-align: top;\n",
              "    }\n",
              "\n",
              "    .dataframe thead th {\n",
              "        text-align: right;\n",
              "    }\n",
              "</style>\n",
              "<table border=\"1\" class=\"dataframe\">\n",
              "  <thead>\n",
              "    <tr style=\"text-align: right;\">\n",
              "      <th></th>\n",
              "      <th>song_gn_dtl_gnr_basket</th>\n",
              "      <th>issue_date</th>\n",
              "      <th>album_name</th>\n",
              "      <th>album_id</th>\n",
              "      <th>artist_id_basket</th>\n",
              "      <th>song_name</th>\n",
              "      <th>song_gn_gnr_basket</th>\n",
              "      <th>artist_name_basket</th>\n",
              "      <th>id</th>\n",
              "      <th>new_tags</th>\n",
              "    </tr>\n",
              "  </thead>\n",
              "  <tbody>\n",
              "    <tr>\n",
              "      <th>80898</th>\n",
              "      <td>[GN1701, GN1704]</td>\n",
              "      <td>20100503</td>\n",
              "      <td>54</td>\n",
              "      <td>878853</td>\n",
              "      <td>[29775, 16638, 106286]</td>\n",
              "      <td>Imaginary Time</td>\n",
              "      <td>[GN1700]</td>\n",
              "      <td>[John Scofield, Vince Mendoza, Metropole Orche...</td>\n",
              "      <td>80898</td>\n",
              "      <td>[재즈]</td>\n",
              "    </tr>\n",
              "    <tr>\n",
              "      <th>113663</th>\n",
              "      <td>[GN1701, GN1704]</td>\n",
              "      <td>20100503</td>\n",
              "      <td>54</td>\n",
              "      <td>878853</td>\n",
              "      <td>[29775, 16638, 106286]</td>\n",
              "      <td>Jung Parade</td>\n",
              "      <td>[GN1700]</td>\n",
              "      <td>[John Scofield, Vince Mendoza, Metropole Orche...</td>\n",
              "      <td>113663</td>\n",
              "      <td>[재즈]</td>\n",
              "    </tr>\n",
              "    <tr>\n",
              "      <th>380566</th>\n",
              "      <td>[GN1701, GN1703]</td>\n",
              "      <td>20150925</td>\n",
              "      <td>Past Present</td>\n",
              "      <td>2642160</td>\n",
              "      <td>[29775]</td>\n",
              "      <td>Past Present</td>\n",
              "      <td>[GN1700]</td>\n",
              "      <td>[John Scofield]</td>\n",
              "      <td>380566</td>\n",
              "      <td>[재즈, Jazz, 팝]</td>\n",
              "    </tr>\n",
              "    <tr>\n",
              "      <th>571887</th>\n",
              "      <td>[GN1701, GN1704]</td>\n",
              "      <td>20100503</td>\n",
              "      <td>54</td>\n",
              "      <td>878853</td>\n",
              "      <td>[29775, 16638, 106286]</td>\n",
              "      <td>Honest I Do</td>\n",
              "      <td>[GN1700]</td>\n",
              "      <td>[John Scofield, Vince Mendoza, Metropole Orche...</td>\n",
              "      <td>571887</td>\n",
              "      <td>[재즈]</td>\n",
              "    </tr>\n",
              "    <tr>\n",
              "      <th>640264</th>\n",
              "      <td>[GN1701]</td>\n",
              "      <td>20020509</td>\n",
              "      <td>Uberjam</td>\n",
              "      <td>65861</td>\n",
              "      <td>[29775]</td>\n",
              "      <td>Ideofunk</td>\n",
              "      <td>[GN1700]</td>\n",
              "      <td>[John Scofield]</td>\n",
              "      <td>640264</td>\n",
              "      <td>[겨울, 소울, 재즈, Jazz]</td>\n",
              "    </tr>\n",
              "  </tbody>\n",
              "</table>\n",
              "</div>"
            ],
            "text/plain": [
              "       song_gn_dtl_gnr_basket issue_date  ...      id            new_tags\n",
              "80898        [GN1701, GN1704]   20100503  ...   80898                [재즈]\n",
              "113663       [GN1701, GN1704]   20100503  ...  113663                [재즈]\n",
              "380566       [GN1701, GN1703]   20150925  ...  380566       [재즈, Jazz, 팝]\n",
              "571887       [GN1701, GN1704]   20100503  ...  571887                [재즈]\n",
              "640264               [GN1701]   20020509  ...  640264  [겨울, 소울, 재즈, Jazz]\n",
              "\n",
              "[5 rows x 10 columns]"
            ]
          },
          "metadata": {
            "tags": []
          }
        }
      ]
    },
    {
      "cell_type": "code",
      "metadata": {
        "id": "RNS_eK9P9nWf",
        "outputId": "d0029d52-88d9-47d7-97c0-3d6410258c9c",
        "colab": {
          "base_uri": "https://localhost:8080/",
          "height": 766
        }
      },
      "source": [
        "recommendation_preview(21)"
      ],
      "execution_count": 89,
      "outputs": [
        {
          "output_type": "stream",
          "text": [
            "● Query\n"
          ],
          "name": "stdout"
        },
        {
          "output_type": "display_data",
          "data": {
            "text/html": [
              "<div>\n",
              "<style scoped>\n",
              "    .dataframe tbody tr th:only-of-type {\n",
              "        vertical-align: middle;\n",
              "    }\n",
              "\n",
              "    .dataframe tbody tr th {\n",
              "        vertical-align: top;\n",
              "    }\n",
              "\n",
              "    .dataframe thead th {\n",
              "        text-align: right;\n",
              "    }\n",
              "</style>\n",
              "<table border=\"1\" class=\"dataframe\">\n",
              "  <thead>\n",
              "    <tr style=\"text-align: right;\">\n",
              "      <th></th>\n",
              "      <th>tags</th>\n",
              "      <th>id</th>\n",
              "      <th>plylst_title</th>\n",
              "      <th>songs</th>\n",
              "      <th>like_cnt</th>\n",
              "      <th>updt_date</th>\n",
              "      <th>new_tags</th>\n",
              "      <th>new_songs</th>\n",
              "    </tr>\n",
              "  </thead>\n",
              "  <tbody>\n",
              "    <tr>\n",
              "      <th>21</th>\n",
              "      <td>[]</td>\n",
              "      <td>5611</td>\n",
              "      <td>여름엔 이열치열! 더울땐 발라드 곡이지!</td>\n",
              "      <td>[214605, 668763, 197752, 165412, 194435, 25627...</td>\n",
              "      <td>8</td>\n",
              "      <td>2016-08-05 19:29:33.000</td>\n",
              "      <td>[]</td>\n",
              "      <td>[214605, 668763, 197752, 165412, 194435, 25627...</td>\n",
              "    </tr>\n",
              "  </tbody>\n",
              "</table>\n",
              "</div>"
            ],
            "text/plain": [
              "   tags    id  ... new_tags                                          new_songs\n",
              "21   []  5611  ...       []  [214605, 668763, 197752, 165412, 194435, 25627...\n",
              "\n",
              "[1 rows x 8 columns]"
            ]
          },
          "metadata": {
            "tags": []
          }
        },
        {
          "output_type": "stream",
          "text": [
            "\n",
            "● Recommended\n",
            "['가을', '휴식', '슬픔', '잔잔한', '이별', '발라드', '힐링', '밤', '새벽', '기분전환']\n"
          ],
          "name": "stdout"
        },
        {
          "output_type": "display_data",
          "data": {
            "text/html": [
              "<div>\n",
              "<style scoped>\n",
              "    .dataframe tbody tr th:only-of-type {\n",
              "        vertical-align: middle;\n",
              "    }\n",
              "\n",
              "    .dataframe tbody tr th {\n",
              "        vertical-align: top;\n",
              "    }\n",
              "\n",
              "    .dataframe thead th {\n",
              "        text-align: right;\n",
              "    }\n",
              "</style>\n",
              "<table border=\"1\" class=\"dataframe\">\n",
              "  <thead>\n",
              "    <tr style=\"text-align: right;\">\n",
              "      <th></th>\n",
              "      <th>song_gn_dtl_gnr_basket</th>\n",
              "      <th>issue_date</th>\n",
              "      <th>album_name</th>\n",
              "      <th>album_id</th>\n",
              "      <th>artist_id_basket</th>\n",
              "      <th>song_name</th>\n",
              "      <th>song_gn_gnr_basket</th>\n",
              "      <th>artist_name_basket</th>\n",
              "      <th>id</th>\n",
              "      <th>new_tags</th>\n",
              "    </tr>\n",
              "  </thead>\n",
              "  <tbody>\n",
              "    <tr>\n",
              "      <th>105666</th>\n",
              "      <td>[GN0105, GN0101]</td>\n",
              "      <td>20141007</td>\n",
              "      <td>내 마음이 뭐가 돼</td>\n",
              "      <td>2284571</td>\n",
              "      <td>[203912]</td>\n",
              "      <td>내 마음이 뭐가 돼</td>\n",
              "      <td>[GN0100]</td>\n",
              "      <td>[윤하 (YOUNHA)]</td>\n",
              "      <td>105666</td>\n",
              "      <td>[가을밤, 가을, 카페, 가을비, 여행, 바람, 휴식, 산책, 슬픔, 잔잔한, 이별...</td>\n",
              "    </tr>\n",
              "    <tr>\n",
              "      <th>284710</th>\n",
              "      <td>[GN0101]</td>\n",
              "      <td>20150209</td>\n",
              "      <td>어차피 한번은 아파야 해</td>\n",
              "      <td>2303732</td>\n",
              "      <td>[658092]</td>\n",
              "      <td>어차피 한번은 아파야 해</td>\n",
              "      <td>[GN0100]</td>\n",
              "      <td>[유성은]</td>\n",
              "      <td>284710</td>\n",
              "      <td>[힐링, 휴식, 슬픔, 추억, 이별, 회상, 새벽, 감성, 발라드, 밤, 잔잔한, ...</td>\n",
              "    </tr>\n",
              "    <tr>\n",
              "      <th>289496</th>\n",
              "      <td>[GN0105, GN0101]</td>\n",
              "      <td>20151008</td>\n",
              "      <td>미안해요</td>\n",
              "      <td>2643513</td>\n",
              "      <td>[499464]</td>\n",
              "      <td>미안해요</td>\n",
              "      <td>[GN0100]</td>\n",
              "      <td>[박보람]</td>\n",
              "      <td>289496</td>\n",
              "      <td>[조용한, 밤, 새벽, 짝사랑, 슬픔, 감성, 설렘, 사랑, 이별, 눈물, 기분전환...</td>\n",
              "    </tr>\n",
              "    <tr>\n",
              "      <th>447225</th>\n",
              "      <td>[GN0105, GN0101]</td>\n",
              "      <td>20131206</td>\n",
              "      <td>Subsonic</td>\n",
              "      <td>2217929</td>\n",
              "      <td>[203912]</td>\n",
              "      <td>괜찮다</td>\n",
              "      <td>[GN0100]</td>\n",
              "      <td>[윤하 (YOUNHA)]</td>\n",
              "      <td>447225</td>\n",
              "      <td>[잔잔한, 감성, 밤, 새벽, 취향저격, 발라드, 사랑, 비오는날, 팝, 슬픔, 이...</td>\n",
              "    </tr>\n",
              "    <tr>\n",
              "      <th>591968</th>\n",
              "      <td>[GN0105, GN0101]</td>\n",
              "      <td>20141126</td>\n",
              "      <td>Genuine</td>\n",
              "      <td>2292441</td>\n",
              "      <td>[643551]</td>\n",
              "      <td>우리 다시 사랑한다면</td>\n",
              "      <td>[GN0100]</td>\n",
              "      <td>[2BIC(투빅)]</td>\n",
              "      <td>591968</td>\n",
              "      <td>[슬픔, 추억, 이별, 회상, 사랑, 설렘, 기분전환, 드라이브, 발라드, 봄, 카...</td>\n",
              "    </tr>\n",
              "  </tbody>\n",
              "</table>\n",
              "</div>"
            ],
            "text/plain": [
              "       song_gn_dtl_gnr_basket  ...                                           new_tags\n",
              "105666       [GN0105, GN0101]  ...  [가을밤, 가을, 카페, 가을비, 여행, 바람, 휴식, 산책, 슬픔, 잔잔한, 이별...\n",
              "284710               [GN0101]  ...  [힐링, 휴식, 슬픔, 추억, 이별, 회상, 새벽, 감성, 발라드, 밤, 잔잔한, ...\n",
              "289496       [GN0105, GN0101]  ...  [조용한, 밤, 새벽, 짝사랑, 슬픔, 감성, 설렘, 사랑, 이별, 눈물, 기분전환...\n",
              "447225       [GN0105, GN0101]  ...  [잔잔한, 감성, 밤, 새벽, 취향저격, 발라드, 사랑, 비오는날, 팝, 슬픔, 이...\n",
              "591968       [GN0105, GN0101]  ...  [슬픔, 추억, 이별, 회상, 사랑, 설렘, 기분전환, 드라이브, 발라드, 봄, 카...\n",
              "\n",
              "[5 rows x 10 columns]"
            ]
          },
          "metadata": {
            "tags": []
          }
        },
        {
          "output_type": "display_data",
          "data": {
            "text/html": [
              "<div>\n",
              "<style scoped>\n",
              "    .dataframe tbody tr th:only-of-type {\n",
              "        vertical-align: middle;\n",
              "    }\n",
              "\n",
              "    .dataframe tbody tr th {\n",
              "        vertical-align: top;\n",
              "    }\n",
              "\n",
              "    .dataframe thead th {\n",
              "        text-align: right;\n",
              "    }\n",
              "</style>\n",
              "<table border=\"1\" class=\"dataframe\">\n",
              "  <thead>\n",
              "    <tr style=\"text-align: right;\">\n",
              "      <th></th>\n",
              "      <th>song_gn_dtl_gnr_basket</th>\n",
              "      <th>issue_date</th>\n",
              "      <th>album_name</th>\n",
              "      <th>album_id</th>\n",
              "      <th>artist_id_basket</th>\n",
              "      <th>song_name</th>\n",
              "      <th>song_gn_gnr_basket</th>\n",
              "      <th>artist_name_basket</th>\n",
              "      <th>id</th>\n",
              "      <th>new_tags</th>\n",
              "    </tr>\n",
              "  </thead>\n",
              "  <tbody>\n",
              "    <tr>\n",
              "      <th>281936</th>\n",
              "      <td>[GN0105, GN0101]</td>\n",
              "      <td>20110531</td>\n",
              "      <td>2011 월간 윤종신 June</td>\n",
              "      <td>1293152</td>\n",
              "      <td>[437, 242988]</td>\n",
              "      <td>말꼬리</td>\n",
              "      <td>[GN0100]</td>\n",
              "      <td>[윤종신, 정준일]</td>\n",
              "      <td>281936</td>\n",
              "      <td>[비오는날, 감성, 비, 카페, 사랑노래, 드라이브, 센치, 조용한, 인디, 봄, ...</td>\n",
              "    </tr>\n",
              "    <tr>\n",
              "      <th>298962</th>\n",
              "      <td>[GN0105, GN0101]</td>\n",
              "      <td>20131220</td>\n",
              "      <td>행보 2013 윤종신</td>\n",
              "      <td>2222589</td>\n",
              "      <td>[437]</td>\n",
              "      <td>1월부터 6월까지</td>\n",
              "      <td>[GN0100]</td>\n",
              "      <td>[윤종신]</td>\n",
              "      <td>298962</td>\n",
              "      <td>[감성, 카페, 오후, 드라이브, 저녁, 기분전환, 사랑, 여름노래, 이별, 비오는...</td>\n",
              "    </tr>\n",
              "    <tr>\n",
              "      <th>366786</th>\n",
              "      <td>[GN0805, GN0509, GN0502, GN0801, GN0501]</td>\n",
              "      <td>20101007</td>\n",
              "      <td>가을방학</td>\n",
              "      <td>1035872</td>\n",
              "      <td>[437760]</td>\n",
              "      <td>가끔 미치도록 네가 안고 싶어질 때가 있어</td>\n",
              "      <td>[GN0500, GN0800]</td>\n",
              "      <td>[가을방학]</td>\n",
              "      <td>366786</td>\n",
              "      <td>[슬픔, 추억, 이별, 회상, 기분전환, 설렘, 사랑, 어쿠스틱, 밴드, 우울, 위...</td>\n",
              "    </tr>\n",
              "    <tr>\n",
              "      <th>454528</th>\n",
              "      <td>[GN0105, GN0101]</td>\n",
              "      <td>20101130</td>\n",
              "      <td>두 번째, 방</td>\n",
              "      <td>1086280</td>\n",
              "      <td>[177241, 181716]</td>\n",
              "      <td>부디</td>\n",
              "      <td>[GN0100]</td>\n",
              "      <td>[심규선 (Lucia), 에피톤 프로젝트]</td>\n",
              "      <td>454528</td>\n",
              "      <td>[힐링, 휴식, 밤, 새벽, 발라드, 비오는날, 추억, 회상, 우울, 눈물, 인디,...</td>\n",
              "    </tr>\n",
              "    <tr>\n",
              "      <th>543820</th>\n",
              "      <td>[GN0105, GN0101]</td>\n",
              "      <td>20140930</td>\n",
              "      <td>The 1st Digital Single `이 소설의 끝을 다시 써보려 해`</td>\n",
              "      <td>2284064</td>\n",
              "      <td>[711476]</td>\n",
              "      <td>이 소설의 끝을 다시 써보려 해</td>\n",
              "      <td>[GN0100]</td>\n",
              "      <td>[한동근]</td>\n",
              "      <td>543820</td>\n",
              "      <td>[감성, 가을, 새벽, 우울, 발라드, 가요, 사랑, 이별, 눈물, 듣기좋은, 봄,...</td>\n",
              "    </tr>\n",
              "  </tbody>\n",
              "</table>\n",
              "</div>"
            ],
            "text/plain": [
              "                          song_gn_dtl_gnr_basket  ...                                           new_tags\n",
              "281936                          [GN0105, GN0101]  ...  [비오는날, 감성, 비, 카페, 사랑노래, 드라이브, 센치, 조용한, 인디, 봄, ...\n",
              "298962                          [GN0105, GN0101]  ...  [감성, 카페, 오후, 드라이브, 저녁, 기분전환, 사랑, 여름노래, 이별, 비오는...\n",
              "366786  [GN0805, GN0509, GN0502, GN0801, GN0501]  ...  [슬픔, 추억, 이별, 회상, 기분전환, 설렘, 사랑, 어쿠스틱, 밴드, 우울, 위...\n",
              "454528                          [GN0105, GN0101]  ...  [힐링, 휴식, 밤, 새벽, 발라드, 비오는날, 추억, 회상, 우울, 눈물, 인디,...\n",
              "543820                          [GN0105, GN0101]  ...  [감성, 가을, 새벽, 우울, 발라드, 가요, 사랑, 이별, 눈물, 듣기좋은, 봄,...\n",
              "\n",
              "[5 rows x 10 columns]"
            ]
          },
          "metadata": {
            "tags": []
          }
        }
      ]
    },
    {
      "cell_type": "code",
      "metadata": {
        "id": "ur5IlnlT-nNB",
        "outputId": "44882e22-11dc-4d94-9f56-1be9246506b5",
        "colab": {
          "base_uri": "https://localhost:8080/",
          "height": 681
        }
      },
      "source": [
        "recommendation_preview(7777)"
      ],
      "execution_count": 90,
      "outputs": [
        {
          "output_type": "stream",
          "text": [
            "● Query\n"
          ],
          "name": "stdout"
        },
        {
          "output_type": "display_data",
          "data": {
            "text/html": [
              "<div>\n",
              "<style scoped>\n",
              "    .dataframe tbody tr th:only-of-type {\n",
              "        vertical-align: middle;\n",
              "    }\n",
              "\n",
              "    .dataframe tbody tr th {\n",
              "        vertical-align: top;\n",
              "    }\n",
              "\n",
              "    .dataframe thead th {\n",
              "        text-align: right;\n",
              "    }\n",
              "</style>\n",
              "<table border=\"1\" class=\"dataframe\">\n",
              "  <thead>\n",
              "    <tr style=\"text-align: right;\">\n",
              "      <th></th>\n",
              "      <th>tags</th>\n",
              "      <th>id</th>\n",
              "      <th>plylst_title</th>\n",
              "      <th>songs</th>\n",
              "      <th>like_cnt</th>\n",
              "      <th>updt_date</th>\n",
              "      <th>new_tags</th>\n",
              "      <th>new_songs</th>\n",
              "    </tr>\n",
              "  </thead>\n",
              "  <tbody>\n",
              "    <tr>\n",
              "      <th>7777</th>\n",
              "      <td>[]</td>\n",
              "      <td>84202</td>\n",
              "      <td>북카페에서 은은하게 들리던 선율 모음</td>\n",
              "      <td>[220142, 439629, 270602, 19206, 202828, 395256...</td>\n",
              "      <td>16</td>\n",
              "      <td>2018-07-13 16:39:20.000</td>\n",
              "      <td>[]</td>\n",
              "      <td>[220142, 439629, 270602, 19206, 395256, 130680...</td>\n",
              "    </tr>\n",
              "  </tbody>\n",
              "</table>\n",
              "</div>"
            ],
            "text/plain": [
              "     tags     id  ... new_tags                                          new_songs\n",
              "7777   []  84202  ...       []  [220142, 439629, 270602, 19206, 395256, 130680...\n",
              "\n",
              "[1 rows x 8 columns]"
            ]
          },
          "metadata": {
            "tags": []
          }
        },
        {
          "output_type": "stream",
          "text": [
            "\n",
            "● Recommended\n",
            "['잔잔한', '뉴에이지', '힐링', '카페', '휴식', '연주곡', '피아노', '밤', '감성', '산책']\n"
          ],
          "name": "stdout"
        },
        {
          "output_type": "display_data",
          "data": {
            "text/html": [
              "<div>\n",
              "<style scoped>\n",
              "    .dataframe tbody tr th:only-of-type {\n",
              "        vertical-align: middle;\n",
              "    }\n",
              "\n",
              "    .dataframe tbody tr th {\n",
              "        vertical-align: top;\n",
              "    }\n",
              "\n",
              "    .dataframe thead th {\n",
              "        text-align: right;\n",
              "    }\n",
              "</style>\n",
              "<table border=\"1\" class=\"dataframe\">\n",
              "  <thead>\n",
              "    <tr style=\"text-align: right;\">\n",
              "      <th></th>\n",
              "      <th>song_gn_dtl_gnr_basket</th>\n",
              "      <th>issue_date</th>\n",
              "      <th>album_name</th>\n",
              "      <th>album_id</th>\n",
              "      <th>artist_id_basket</th>\n",
              "      <th>song_name</th>\n",
              "      <th>song_gn_gnr_basket</th>\n",
              "      <th>artist_name_basket</th>\n",
              "      <th>id</th>\n",
              "      <th>new_tags</th>\n",
              "    </tr>\n",
              "  </thead>\n",
              "  <tbody>\n",
              "    <tr>\n",
              "      <th>102816</th>\n",
              "      <td>[GN1806, GN1801]</td>\n",
              "      <td>20100413</td>\n",
              "      <td>Le Petit Piano</td>\n",
              "      <td>857554</td>\n",
              "      <td>[1965]</td>\n",
              "      <td>비밀</td>\n",
              "      <td>[GN1800]</td>\n",
              "      <td>[정재형]</td>\n",
              "      <td>102816</td>\n",
              "      <td>[힐링, 휴식, 밤, 새벽, 감성, 혼자, 우울, 뉴에이지, 마음, 생각, 느낌, ...</td>\n",
              "    </tr>\n",
              "    <tr>\n",
              "      <th>362771</th>\n",
              "      <td>[GN1801]</td>\n",
              "      <td>20121212</td>\n",
              "      <td>생각할수록 좋아지는 사람</td>\n",
              "      <td>2172513</td>\n",
              "      <td>[405580]</td>\n",
              "      <td>생각할수록 좋아지는 사람</td>\n",
              "      <td>[GN1800]</td>\n",
              "      <td>[피아노 포엠]</td>\n",
              "      <td>362771</td>\n",
              "      <td>[스트레스, 밤, 새벽, 카페, 잔잔한, 뉴에이지, 겨울, 감성, 연주곡, 야경, ...</td>\n",
              "    </tr>\n",
              "    <tr>\n",
              "      <th>438092</th>\n",
              "      <td>[GN1806, GN1801]</td>\n",
              "      <td>19990900</td>\n",
              "      <td>보내지 못한 편지</td>\n",
              "      <td>8332</td>\n",
              "      <td>[1379]</td>\n",
              "      <td>설레임</td>\n",
              "      <td>[GN1800]</td>\n",
              "      <td>[김광민]</td>\n",
              "      <td>438092</td>\n",
              "      <td>[힐링, 휴식, 밤, 새벽, 모닝콜, 여유, 가을, 잔잔한, 뉴에이지, 겨울, 연주...</td>\n",
              "    </tr>\n",
              "    <tr>\n",
              "      <th>487339</th>\n",
              "      <td>[GN1801]</td>\n",
              "      <td>20070314</td>\n",
              "      <td>오늘 하루가 선물입니다.</td>\n",
              "      <td>347554</td>\n",
              "      <td>[48260]</td>\n",
              "      <td>바람소리</td>\n",
              "      <td>[GN1800]</td>\n",
              "      <td>[메이세컨]</td>\n",
              "      <td>487339</td>\n",
              "      <td>[힐링, 휴식, 배경음악, 카페음악, 매장음악, 밤, 연주곡, 새벽, 새벽감성, 뉴...</td>\n",
              "    </tr>\n",
              "    <tr>\n",
              "      <th>552922</th>\n",
              "      <td>[GN1805, GN1803, GN1801]</td>\n",
              "      <td>20030300</td>\n",
              "      <td>A Magic Wand Of Standards</td>\n",
              "      <td>30390</td>\n",
              "      <td>[103644]</td>\n",
              "      <td>Sunflower</td>\n",
              "      <td>[GN1800]</td>\n",
              "      <td>[Gontiti]</td>\n",
              "      <td>552922</td>\n",
              "      <td>[피아노, 카페, 잔잔한, 추억, 위로, 힐링, 조용한, 뉴에이지, 자장가, 숙면,...</td>\n",
              "    </tr>\n",
              "  </tbody>\n",
              "</table>\n",
              "</div>"
            ],
            "text/plain": [
              "          song_gn_dtl_gnr_basket  ...                                           new_tags\n",
              "102816          [GN1806, GN1801]  ...  [힐링, 휴식, 밤, 새벽, 감성, 혼자, 우울, 뉴에이지, 마음, 생각, 느낌, ...\n",
              "362771                  [GN1801]  ...  [스트레스, 밤, 새벽, 카페, 잔잔한, 뉴에이지, 겨울, 감성, 연주곡, 야경, ...\n",
              "438092          [GN1806, GN1801]  ...  [힐링, 휴식, 밤, 새벽, 모닝콜, 여유, 가을, 잔잔한, 뉴에이지, 겨울, 연주...\n",
              "487339                  [GN1801]  ...  [힐링, 휴식, 배경음악, 카페음악, 매장음악, 밤, 연주곡, 새벽, 새벽감성, 뉴...\n",
              "552922  [GN1805, GN1803, GN1801]  ...  [피아노, 카페, 잔잔한, 추억, 위로, 힐링, 조용한, 뉴에이지, 자장가, 숙면,...\n",
              "\n",
              "[5 rows x 10 columns]"
            ]
          },
          "metadata": {
            "tags": []
          }
        },
        {
          "output_type": "display_data",
          "data": {
            "text/html": [
              "<div>\n",
              "<style scoped>\n",
              "    .dataframe tbody tr th:only-of-type {\n",
              "        vertical-align: middle;\n",
              "    }\n",
              "\n",
              "    .dataframe tbody tr th {\n",
              "        vertical-align: top;\n",
              "    }\n",
              "\n",
              "    .dataframe thead th {\n",
              "        text-align: right;\n",
              "    }\n",
              "</style>\n",
              "<table border=\"1\" class=\"dataframe\">\n",
              "  <thead>\n",
              "    <tr style=\"text-align: right;\">\n",
              "      <th></th>\n",
              "      <th>song_gn_dtl_gnr_basket</th>\n",
              "      <th>issue_date</th>\n",
              "      <th>album_name</th>\n",
              "      <th>album_id</th>\n",
              "      <th>artist_id_basket</th>\n",
              "      <th>song_name</th>\n",
              "      <th>song_gn_gnr_basket</th>\n",
              "      <th>artist_name_basket</th>\n",
              "      <th>id</th>\n",
              "      <th>new_tags</th>\n",
              "    </tr>\n",
              "  </thead>\n",
              "  <tbody>\n",
              "    <tr>\n",
              "      <th>22129</th>\n",
              "      <td>[GN1802, GN1801]</td>\n",
              "      <td>20120615</td>\n",
              "      <td>Dentist Hongilkim 01</td>\n",
              "      <td>2126808</td>\n",
              "      <td>[11048]</td>\n",
              "      <td>Thank You</td>\n",
              "      <td>[GN1800]</td>\n",
              "      <td>[라팡 (lapin)]</td>\n",
              "      <td>22129</td>\n",
              "      <td>[힐링, 커피, 매장, 피아노, 카페, 연주곡, 잔잔한, 독서, 뉴에이지, 자장가,...</td>\n",
              "    </tr>\n",
              "    <tr>\n",
              "      <th>79010</th>\n",
              "      <td>[GN1701]</td>\n",
              "      <td>20040310</td>\n",
              "      <td>Dancing Queen</td>\n",
              "      <td>34125</td>\n",
              "      <td>[101502]</td>\n",
              "      <td>Time After Time</td>\n",
              "      <td>[GN1700]</td>\n",
              "      <td>[European Jazz Trio]</td>\n",
              "      <td>79010</td>\n",
              "      <td>[집중, 노동요, 연주곡, 주말, 피아노, 봄날, 산책, 자장가, 공부, 따뜻한, ...</td>\n",
              "    </tr>\n",
              "    <tr>\n",
              "      <th>80738</th>\n",
              "      <td>[GN1801]</td>\n",
              "      <td>20140321</td>\n",
              "      <td>바람처럼 스쳐 간 사랑</td>\n",
              "      <td>2243684</td>\n",
              "      <td>[736217]</td>\n",
              "      <td>바람처럼 스쳐 간 사랑</td>\n",
              "      <td>[GN1800]</td>\n",
              "      <td>[Memorize]</td>\n",
              "      <td>80738</td>\n",
              "      <td>[집중, 휴식, 잔잔한, 새벽, 독서, 힐링, 공부, 따뜻한, 뉴에이지, 비오는날, 밤]</td>\n",
              "    </tr>\n",
              "    <tr>\n",
              "      <th>562636</th>\n",
              "      <td>[GN1806, GN1801]</td>\n",
              "      <td>20160822</td>\n",
              "      <td>피아노 지브리 (Piano Ghibli) (Korea Tour Edition)</td>\n",
              "      <td>2705626</td>\n",
              "      <td>[450121]</td>\n",
              "      <td>벼랑위의 포뇨</td>\n",
              "      <td>[GN1800]</td>\n",
              "      <td>[Elizabeth Bright]</td>\n",
              "      <td>562636</td>\n",
              "      <td>[여유, 카페, 오후, 피아노, 연주곡, 독서, 커피, 집중, 클래식, 뉴에이지, ...</td>\n",
              "    </tr>\n",
              "    <tr>\n",
              "      <th>588039</th>\n",
              "      <td>[GN1701]</td>\n",
              "      <td>20110624</td>\n",
              "      <td>Prismatic</td>\n",
              "      <td>1317451</td>\n",
              "      <td>[441362]</td>\n",
              "      <td>남촌 (Piano Ver.)</td>\n",
              "      <td>[GN1700]</td>\n",
              "      <td>[김가온]</td>\n",
              "      <td>588039</td>\n",
              "      <td>[집중, 노동요, 연주곡, 주말, 피아노, 봄날, 산책, 자장가, 공부, 따뜻한, ...</td>\n",
              "    </tr>\n",
              "  </tbody>\n",
              "</table>\n",
              "</div>"
            ],
            "text/plain": [
              "       song_gn_dtl_gnr_basket  ...                                           new_tags\n",
              "22129        [GN1802, GN1801]  ...  [힐링, 커피, 매장, 피아노, 카페, 연주곡, 잔잔한, 독서, 뉴에이지, 자장가,...\n",
              "79010                [GN1701]  ...  [집중, 노동요, 연주곡, 주말, 피아노, 봄날, 산책, 자장가, 공부, 따뜻한, ...\n",
              "80738                [GN1801]  ...  [집중, 휴식, 잔잔한, 새벽, 독서, 힐링, 공부, 따뜻한, 뉴에이지, 비오는날, 밤]\n",
              "562636       [GN1806, GN1801]  ...  [여유, 카페, 오후, 피아노, 연주곡, 독서, 커피, 집중, 클래식, 뉴에이지, ...\n",
              "588039               [GN1701]  ...  [집중, 노동요, 연주곡, 주말, 피아노, 봄날, 산책, 자장가, 공부, 따뜻한, ...\n",
              "\n",
              "[5 rows x 10 columns]"
            ]
          },
          "metadata": {
            "tags": []
          }
        }
      ]
    },
    {
      "cell_type": "code",
      "metadata": {
        "id": "3NkPY6Q1-wQE",
        "outputId": "8f311d3d-cec6-4085-aeca-fa04086aadfb",
        "colab": {
          "base_uri": "https://localhost:8080/",
          "height": 920
        }
      },
      "source": [
        "recommendation_preview(160)"
      ],
      "execution_count": 91,
      "outputs": [
        {
          "output_type": "stream",
          "text": [
            "● Query\n"
          ],
          "name": "stdout"
        },
        {
          "output_type": "display_data",
          "data": {
            "text/html": [
              "<div>\n",
              "<style scoped>\n",
              "    .dataframe tbody tr th:only-of-type {\n",
              "        vertical-align: middle;\n",
              "    }\n",
              "\n",
              "    .dataframe tbody tr th {\n",
              "        vertical-align: top;\n",
              "    }\n",
              "\n",
              "    .dataframe thead th {\n",
              "        text-align: right;\n",
              "    }\n",
              "</style>\n",
              "<table border=\"1\" class=\"dataframe\">\n",
              "  <thead>\n",
              "    <tr style=\"text-align: right;\">\n",
              "      <th></th>\n",
              "      <th>tags</th>\n",
              "      <th>id</th>\n",
              "      <th>plylst_title</th>\n",
              "      <th>songs</th>\n",
              "      <th>like_cnt</th>\n",
              "      <th>updt_date</th>\n",
              "      <th>new_tags</th>\n",
              "      <th>new_songs</th>\n",
              "    </tr>\n",
              "  </thead>\n",
              "  <tbody>\n",
              "    <tr>\n",
              "      <th>160</th>\n",
              "      <td>[카페, 펍, 그루브한]</td>\n",
              "      <td>106776</td>\n",
              "      <td>SNS에 올리고픈 그 감성! 그루비 BGM!</td>\n",
              "      <td>[647304, 128806, 130968, 682476, 698813, 17765...</td>\n",
              "      <td>20</td>\n",
              "      <td>2018-05-22 12:17:36.000</td>\n",
              "      <td>[카페, 펍]</td>\n",
              "      <td>[647304, 128806, 130968, 682476, 698813, 17765...</td>\n",
              "    </tr>\n",
              "  </tbody>\n",
              "</table>\n",
              "</div>"
            ],
            "text/plain": [
              "              tags  ...                                          new_songs\n",
              "160  [카페, 펍, 그루브한]  ...  [647304, 128806, 130968, 682476, 698813, 17765...\n",
              "\n",
              "[1 rows x 8 columns]"
            ]
          },
          "metadata": {
            "tags": []
          }
        },
        {
          "output_type": "stream",
          "text": [
            "\n",
            "● Recommended\n",
            "['감성', '잔잔한', '기분전환', '드라이브', '새벽', '그루브', '팝', '휴식', 'RnB', '트렌디']\n"
          ],
          "name": "stdout"
        },
        {
          "output_type": "display_data",
          "data": {
            "text/html": [
              "<div>\n",
              "<style scoped>\n",
              "    .dataframe tbody tr th:only-of-type {\n",
              "        vertical-align: middle;\n",
              "    }\n",
              "\n",
              "    .dataframe tbody tr th {\n",
              "        vertical-align: top;\n",
              "    }\n",
              "\n",
              "    .dataframe thead th {\n",
              "        text-align: right;\n",
              "    }\n",
              "</style>\n",
              "<table border=\"1\" class=\"dataframe\">\n",
              "  <thead>\n",
              "    <tr style=\"text-align: right;\">\n",
              "      <th></th>\n",
              "      <th>song_gn_dtl_gnr_basket</th>\n",
              "      <th>issue_date</th>\n",
              "      <th>album_name</th>\n",
              "      <th>album_id</th>\n",
              "      <th>artist_id_basket</th>\n",
              "      <th>song_name</th>\n",
              "      <th>song_gn_gnr_basket</th>\n",
              "      <th>artist_name_basket</th>\n",
              "      <th>id</th>\n",
              "      <th>new_tags</th>\n",
              "    </tr>\n",
              "  </thead>\n",
              "  <tbody>\n",
              "    <tr>\n",
              "      <th>100702</th>\n",
              "      <td>[GN0401, GN0403, GN0402]</td>\n",
              "      <td>20160506</td>\n",
              "      <td>Interlude</td>\n",
              "      <td>2683503</td>\n",
              "      <td>[674710]</td>\n",
              "      <td>Castaway (Feat. MISO)</td>\n",
              "      <td>[GN0400]</td>\n",
              "      <td>[Crush]</td>\n",
              "      <td>100702</td>\n",
              "      <td>[밤, 까페, 새벽, 라운지, 매장음악, EDM, 일렉트로니카, 내적댄스, 몽환적,...</td>\n",
              "    </tr>\n",
              "    <tr>\n",
              "      <th>483849</th>\n",
              "      <td>[GN2601, GN2603, GN2602]</td>\n",
              "      <td>20160627</td>\n",
              "      <td>You</td>\n",
              "      <td>2693836</td>\n",
              "      <td>[990473]</td>\n",
              "      <td>See From The Sea (Feat. YESEO)</td>\n",
              "      <td>[GN2600]</td>\n",
              "      <td>[Deepshower (딥샤워)]</td>\n",
              "      <td>483849</td>\n",
              "      <td>[라운지, 매장음악, EDM, 일렉트로니카, 내적댄스, 몽환적, 편집샵, 힙합, 감...</td>\n",
              "    </tr>\n",
              "    <tr>\n",
              "      <th>547342</th>\n",
              "      <td>[GN2601, GN0509, GN2603, GN0504, GN0501]</td>\n",
              "      <td>20160922</td>\n",
              "      <td>High</td>\n",
              "      <td>10000248</td>\n",
              "      <td>[1183362]</td>\n",
              "      <td>High (Feat. Rachel Lim)</td>\n",
              "      <td>[GN0500, GN2600]</td>\n",
              "      <td>[JIDA (지다)]</td>\n",
              "      <td>547342</td>\n",
              "      <td>[겨울, 감성, 발라드, 추억, 새해, 기분전환, 사랑, 까페, 싱어송라이터, 인디...</td>\n",
              "    </tr>\n",
              "    <tr>\n",
              "      <th>559870</th>\n",
              "      <td>[GN0401, GN0403]</td>\n",
              "      <td>20151026</td>\n",
              "      <td>EMOTION</td>\n",
              "      <td>2646544</td>\n",
              "      <td>[907217, 623812]</td>\n",
              "      <td>EMOTION</td>\n",
              "      <td>[GN0400]</td>\n",
              "      <td>[dress, Lydia Paek]</td>\n",
              "      <td>559870</td>\n",
              "      <td>[감성, 느낌있는, 밤, 카페, 새벽, 분위기, 알앤비, 사랑, 이별, RnB, 음...</td>\n",
              "    </tr>\n",
              "    <tr>\n",
              "      <th>653392</th>\n",
              "      <td>[GN2601, GN0401, GN2603, GN0402]</td>\n",
              "      <td>20161109</td>\n",
              "      <td>photograph</td>\n",
              "      <td>10013499</td>\n",
              "      <td>[1183062]</td>\n",
              "      <td>Photograph</td>\n",
              "      <td>[GN0400, GN2600]</td>\n",
              "      <td>[offonoff (오프온오프)]</td>\n",
              "      <td>653392</td>\n",
              "      <td>[힙합, 리듬, 국내힙합, HipHop, 비트, 여름, 드라이브, 바다, 휴가, 감...</td>\n",
              "    </tr>\n",
              "  </tbody>\n",
              "</table>\n",
              "</div>"
            ],
            "text/plain": [
              "                          song_gn_dtl_gnr_basket  ...                                           new_tags\n",
              "100702                  [GN0401, GN0403, GN0402]  ...  [밤, 까페, 새벽, 라운지, 매장음악, EDM, 일렉트로니카, 내적댄스, 몽환적,...\n",
              "483849                  [GN2601, GN2603, GN2602]  ...  [라운지, 매장음악, EDM, 일렉트로니카, 내적댄스, 몽환적, 편집샵, 힙합, 감...\n",
              "547342  [GN2601, GN0509, GN2603, GN0504, GN0501]  ...  [겨울, 감성, 발라드, 추억, 새해, 기분전환, 사랑, 까페, 싱어송라이터, 인디...\n",
              "559870                          [GN0401, GN0403]  ...  [감성, 느낌있는, 밤, 카페, 새벽, 분위기, 알앤비, 사랑, 이별, RnB, 음...\n",
              "653392          [GN2601, GN0401, GN2603, GN0402]  ...  [힙합, 리듬, 국내힙합, HipHop, 비트, 여름, 드라이브, 바다, 휴가, 감...\n",
              "\n",
              "[5 rows x 10 columns]"
            ]
          },
          "metadata": {
            "tags": []
          }
        },
        {
          "output_type": "display_data",
          "data": {
            "text/html": [
              "<div>\n",
              "<style scoped>\n",
              "    .dataframe tbody tr th:only-of-type {\n",
              "        vertical-align: middle;\n",
              "    }\n",
              "\n",
              "    .dataframe tbody tr th {\n",
              "        vertical-align: top;\n",
              "    }\n",
              "\n",
              "    .dataframe thead th {\n",
              "        text-align: right;\n",
              "    }\n",
              "</style>\n",
              "<table border=\"1\" class=\"dataframe\">\n",
              "  <thead>\n",
              "    <tr style=\"text-align: right;\">\n",
              "      <th></th>\n",
              "      <th>song_gn_dtl_gnr_basket</th>\n",
              "      <th>issue_date</th>\n",
              "      <th>album_name</th>\n",
              "      <th>album_id</th>\n",
              "      <th>artist_id_basket</th>\n",
              "      <th>song_name</th>\n",
              "      <th>song_gn_gnr_basket</th>\n",
              "      <th>artist_name_basket</th>\n",
              "      <th>id</th>\n",
              "      <th>new_tags</th>\n",
              "    </tr>\n",
              "  </thead>\n",
              "  <tbody>\n",
              "    <tr>\n",
              "      <th>116354</th>\n",
              "      <td>[GN1304, GN1301, GN1308]</td>\n",
              "      <td>20180504</td>\n",
              "      <td>Cold Fire</td>\n",
              "      <td>10164069</td>\n",
              "      <td>[1958188]</td>\n",
              "      <td>Cold Fire (Feat. DEAN)</td>\n",
              "      <td>[GN1300]</td>\n",
              "      <td>[PREP]</td>\n",
              "      <td>116354</td>\n",
              "      <td>[밤, 감각적인, 분위기, 기분전환, 혼술, 세련된, 여름, 페스티벌, EDM, 힙...</td>\n",
              "    </tr>\n",
              "    <tr>\n",
              "      <th>226191</th>\n",
              "      <td>[GN0908, GN0901]</td>\n",
              "      <td>20181002</td>\n",
              "      <td>Nina</td>\n",
              "      <td>10208464</td>\n",
              "      <td>[1627730]</td>\n",
              "      <td>Nina</td>\n",
              "      <td>[GN0900]</td>\n",
              "      <td>[Daniel March]</td>\n",
              "      <td>226191</td>\n",
              "      <td>[가을감성, 감성, 매장음악, 해외, 가을, 알앤비, 음색, 기분전환, 팝, 소울,...</td>\n",
              "    </tr>\n",
              "    <tr>\n",
              "      <th>257288</th>\n",
              "      <td>[GN1301]</td>\n",
              "      <td>20180607</td>\n",
              "      <td>Shy</td>\n",
              "      <td>10173349</td>\n",
              "      <td>[792656, 166141]</td>\n",
              "      <td>Shy</td>\n",
              "      <td>[GN1300]</td>\n",
              "      <td>[Tuxedo, Zapp]</td>\n",
              "      <td>257288</td>\n",
              "      <td>[주말, 댄스, Pop, 기분전환, 파티, 내적댄스, 스트레스, 신나는, 매장음악,...</td>\n",
              "    </tr>\n",
              "    <tr>\n",
              "      <th>506176</th>\n",
              "      <td>[GN1102, GN1101]</td>\n",
              "      <td>20160208</td>\n",
              "      <td>ピンクのダンス / Pink Dance EP</td>\n",
              "      <td>2670401</td>\n",
              "      <td>[956844]</td>\n",
              "      <td>Crazy Nights 狂氣夜 / Crazy Nights Kyoukiyo (Craz...</td>\n",
              "      <td>[GN1100]</td>\n",
              "      <td>[Future Girlfriend]</td>\n",
              "      <td>506176</td>\n",
              "      <td>[감성, 여름밤, 드라이브, 그루브, 한강, 기분전환, 시원한, 여름, 하우스, 일...</td>\n",
              "    </tr>\n",
              "    <tr>\n",
              "      <th>599616</th>\n",
              "      <td>[GN1912, GN1902, GN1901]</td>\n",
              "      <td>20170621</td>\n",
              "      <td>何度でも新しく生まれる / Nandodemo Atarasiku Umareru (몇번이...</td>\n",
              "      <td>10072874</td>\n",
              "      <td>[2846]</td>\n",
              "      <td>ラビリンス / Labyrinth (Vocal : 滿島ひかり)</td>\n",
              "      <td>[GN1900]</td>\n",
              "      <td>[Mondo Grosso]</td>\n",
              "      <td>599616</td>\n",
              "      <td>[감성, 카페, 주말, 인디팝, 그루브, 오후, 어쿠스틱, JPOP, 해외, RnB...</td>\n",
              "    </tr>\n",
              "  </tbody>\n",
              "</table>\n",
              "</div>"
            ],
            "text/plain": [
              "          song_gn_dtl_gnr_basket  ...                                           new_tags\n",
              "116354  [GN1304, GN1301, GN1308]  ...  [밤, 감각적인, 분위기, 기분전환, 혼술, 세련된, 여름, 페스티벌, EDM, 힙...\n",
              "226191          [GN0908, GN0901]  ...  [가을감성, 감성, 매장음악, 해외, 가을, 알앤비, 음색, 기분전환, 팝, 소울,...\n",
              "257288                  [GN1301]  ...  [주말, 댄스, Pop, 기분전환, 파티, 내적댄스, 스트레스, 신나는, 매장음악,...\n",
              "506176          [GN1102, GN1101]  ...  [감성, 여름밤, 드라이브, 그루브, 한강, 기분전환, 시원한, 여름, 하우스, 일...\n",
              "599616  [GN1912, GN1902, GN1901]  ...  [감성, 카페, 주말, 인디팝, 그루브, 오후, 어쿠스틱, JPOP, 해외, RnB...\n",
              "\n",
              "[5 rows x 10 columns]"
            ]
          },
          "metadata": {
            "tags": []
          }
        }
      ]
    },
    {
      "cell_type": "code",
      "metadata": {
        "id": "pI8PqqisYV0I",
        "outputId": "822abae0-ae2a-44d0-a960-3431dfc2099d",
        "colab": {
          "base_uri": "https://localhost:8080/",
          "height": 784
        }
      },
      "source": [
        "recommendation_preview(0) # 참고할 수 있는 정보가 없어서 인기 곡, 인기 태그로 채워진 경우"
      ],
      "execution_count": 92,
      "outputs": [
        {
          "output_type": "stream",
          "text": [
            "● Query\n"
          ],
          "name": "stdout"
        },
        {
          "output_type": "display_data",
          "data": {
            "text/html": [
              "<div>\n",
              "<style scoped>\n",
              "    .dataframe tbody tr th:only-of-type {\n",
              "        vertical-align: middle;\n",
              "    }\n",
              "\n",
              "    .dataframe tbody tr th {\n",
              "        vertical-align: top;\n",
              "    }\n",
              "\n",
              "    .dataframe thead th {\n",
              "        text-align: right;\n",
              "    }\n",
              "</style>\n",
              "<table border=\"1\" class=\"dataframe\">\n",
              "  <thead>\n",
              "    <tr style=\"text-align: right;\">\n",
              "      <th></th>\n",
              "      <th>tags</th>\n",
              "      <th>id</th>\n",
              "      <th>plylst_title</th>\n",
              "      <th>songs</th>\n",
              "      <th>like_cnt</th>\n",
              "      <th>updt_date</th>\n",
              "      <th>new_tags</th>\n",
              "      <th>new_songs</th>\n",
              "    </tr>\n",
              "  </thead>\n",
              "  <tbody>\n",
              "    <tr>\n",
              "      <th>0</th>\n",
              "      <td>[Billboard, uspop]</td>\n",
              "      <td>147332</td>\n",
              "      <td>랜덤 플레이 뮤직 - 팝</td>\n",
              "      <td>[]</td>\n",
              "      <td>4</td>\n",
              "      <td>2020-03-31 00:45:30.000</td>\n",
              "      <td>[]</td>\n",
              "      <td>[]</td>\n",
              "    </tr>\n",
              "  </tbody>\n",
              "</table>\n",
              "</div>"
            ],
            "text/plain": [
              "                 tags      id  ... new_tags new_songs\n",
              "0  [Billboard, uspop]  147332  ...       []        []\n",
              "\n",
              "[1 rows x 8 columns]"
            ]
          },
          "metadata": {
            "tags": []
          }
        },
        {
          "output_type": "stream",
          "text": [
            "\n",
            "● Recommended\n",
            "['발라드', '설렘', '사랑', '잔잔한', '감성', '기분전환', '비오는날', '카페', '드라이브', '밤']\n"
          ],
          "name": "stdout"
        },
        {
          "output_type": "display_data",
          "data": {
            "text/html": [
              "<div>\n",
              "<style scoped>\n",
              "    .dataframe tbody tr th:only-of-type {\n",
              "        vertical-align: middle;\n",
              "    }\n",
              "\n",
              "    .dataframe tbody tr th {\n",
              "        vertical-align: top;\n",
              "    }\n",
              "\n",
              "    .dataframe thead th {\n",
              "        text-align: right;\n",
              "    }\n",
              "</style>\n",
              "<table border=\"1\" class=\"dataframe\">\n",
              "  <thead>\n",
              "    <tr style=\"text-align: right;\">\n",
              "      <th></th>\n",
              "      <th>song_gn_dtl_gnr_basket</th>\n",
              "      <th>issue_date</th>\n",
              "      <th>album_name</th>\n",
              "      <th>album_id</th>\n",
              "      <th>artist_id_basket</th>\n",
              "      <th>song_name</th>\n",
              "      <th>song_gn_gnr_basket</th>\n",
              "      <th>artist_name_basket</th>\n",
              "      <th>id</th>\n",
              "      <th>new_tags</th>\n",
              "    </tr>\n",
              "  </thead>\n",
              "  <tbody>\n",
              "    <tr>\n",
              "      <th>116573</th>\n",
              "      <td>[GN0501, GN0601, GN0503, GN0606, GN0509]</td>\n",
              "      <td>20111123</td>\n",
              "      <td>Lo9ve3r4s</td>\n",
              "      <td>2038488</td>\n",
              "      <td>[242988]</td>\n",
              "      <td>안아줘</td>\n",
              "      <td>[GN0500, GN0600]</td>\n",
              "      <td>[정준일]</td>\n",
              "      <td>116573</td>\n",
              "      <td>[슬픔, 밤, 이별, 새벽, 감성, 잔잔한, 추억, 출근길, 사랑, 발라드, 겨울밤...</td>\n",
              "    </tr>\n",
              "    <tr>\n",
              "      <th>144663</th>\n",
              "      <td>[GN0105, GN0101]</td>\n",
              "      <td>20170324</td>\n",
              "      <td>밤편지</td>\n",
              "      <td>10047890</td>\n",
              "      <td>[261143]</td>\n",
              "      <td>밤편지</td>\n",
              "      <td>[GN0100]</td>\n",
              "      <td>[아이유]</td>\n",
              "      <td>144663</td>\n",
              "      <td>[힙합, 발라드, 댄스, 플레이리스트, 팝송, 팝, 까페, 설렘, 사랑, 잔잔한, ...</td>\n",
              "    </tr>\n",
              "    <tr>\n",
              "      <th>357367</th>\n",
              "      <td>[GN0401, GN0403]</td>\n",
              "      <td>20160621</td>\n",
              "      <td>비</td>\n",
              "      <td>2692501</td>\n",
              "      <td>[752425]</td>\n",
              "      <td>비</td>\n",
              "      <td>[GN0400]</td>\n",
              "      <td>[폴킴]</td>\n",
              "      <td>357367</td>\n",
              "      <td>[비오는날, 감성, 비, 카페, 사랑노래, 드라이브, 센치, 조용한, 인디, 기분좋...</td>\n",
              "    </tr>\n",
              "    <tr>\n",
              "      <th>366786</th>\n",
              "      <td>[GN0805, GN0509, GN0502, GN0801, GN0501]</td>\n",
              "      <td>20101007</td>\n",
              "      <td>가을방학</td>\n",
              "      <td>1035872</td>\n",
              "      <td>[437760]</td>\n",
              "      <td>가끔 미치도록 네가 안고 싶어질 때가 있어</td>\n",
              "      <td>[GN0500, GN0800]</td>\n",
              "      <td>[가을방학]</td>\n",
              "      <td>366786</td>\n",
              "      <td>[슬픔, 추억, 이별, 회상, 기분전환, 설렘, 사랑, 어쿠스틱, 밴드, 우울, 위...</td>\n",
              "    </tr>\n",
              "    <tr>\n",
              "      <th>654757</th>\n",
              "      <td>[GN1501, GN1504]</td>\n",
              "      <td>20041115</td>\n",
              "      <td>미안하다 사랑한다 OST</td>\n",
              "      <td>43841</td>\n",
              "      <td>[1191]</td>\n",
              "      <td>눈의 꽃</td>\n",
              "      <td>[GN1500]</td>\n",
              "      <td>[박효신]</td>\n",
              "      <td>654757</td>\n",
              "      <td>[휴식, 힐링, 여행, 산책, 감성, 밤, 발라드, 추억, 드라이브, 2000년대,...</td>\n",
              "    </tr>\n",
              "  </tbody>\n",
              "</table>\n",
              "</div>"
            ],
            "text/plain": [
              "                          song_gn_dtl_gnr_basket  ...                                           new_tags\n",
              "116573  [GN0501, GN0601, GN0503, GN0606, GN0509]  ...  [슬픔, 밤, 이별, 새벽, 감성, 잔잔한, 추억, 출근길, 사랑, 발라드, 겨울밤...\n",
              "144663                          [GN0105, GN0101]  ...  [힙합, 발라드, 댄스, 플레이리스트, 팝송, 팝, 까페, 설렘, 사랑, 잔잔한, ...\n",
              "357367                          [GN0401, GN0403]  ...  [비오는날, 감성, 비, 카페, 사랑노래, 드라이브, 센치, 조용한, 인디, 기분좋...\n",
              "366786  [GN0805, GN0509, GN0502, GN0801, GN0501]  ...  [슬픔, 추억, 이별, 회상, 기분전환, 설렘, 사랑, 어쿠스틱, 밴드, 우울, 위...\n",
              "654757                          [GN1501, GN1504]  ...  [휴식, 힐링, 여행, 산책, 감성, 밤, 발라드, 추억, 드라이브, 2000년대,...\n",
              "\n",
              "[5 rows x 10 columns]"
            ]
          },
          "metadata": {
            "tags": []
          }
        },
        {
          "output_type": "display_data",
          "data": {
            "text/html": [
              "<div>\n",
              "<style scoped>\n",
              "    .dataframe tbody tr th:only-of-type {\n",
              "        vertical-align: middle;\n",
              "    }\n",
              "\n",
              "    .dataframe tbody tr th {\n",
              "        vertical-align: top;\n",
              "    }\n",
              "\n",
              "    .dataframe thead th {\n",
              "        text-align: right;\n",
              "    }\n",
              "</style>\n",
              "<table border=\"1\" class=\"dataframe\">\n",
              "  <thead>\n",
              "    <tr style=\"text-align: right;\">\n",
              "      <th></th>\n",
              "      <th>song_gn_dtl_gnr_basket</th>\n",
              "      <th>issue_date</th>\n",
              "      <th>album_name</th>\n",
              "      <th>album_id</th>\n",
              "      <th>artist_id_basket</th>\n",
              "      <th>song_name</th>\n",
              "      <th>song_gn_gnr_basket</th>\n",
              "      <th>artist_name_basket</th>\n",
              "      <th>id</th>\n",
              "      <th>new_tags</th>\n",
              "    </tr>\n",
              "  </thead>\n",
              "  <tbody>\n",
              "    <tr>\n",
              "      <th>6546</th>\n",
              "      <td>[GN0105, GN1501, GN0101, GN1504]</td>\n",
              "      <td>20140902</td>\n",
              "      <td>연애의 발견 OST Part 4</td>\n",
              "      <td>2279896</td>\n",
              "      <td>[192827]</td>\n",
              "      <td>묘해, 너와</td>\n",
              "      <td>[GN1500, GN0100]</td>\n",
              "      <td>[어쿠스틱 콜라보]</td>\n",
              "      <td>6546</td>\n",
              "      <td>[기분전환, 매장음악, 까페, 설렘, 사랑, 겨울, 감성, 발라드, 눈, 잔잔, 이...</td>\n",
              "    </tr>\n",
              "    <tr>\n",
              "      <th>88503</th>\n",
              "      <td>[GN0104, GN1501, GN0101, GN1504]</td>\n",
              "      <td>20050120</td>\n",
              "      <td>쾌걸춘향 OST</td>\n",
              "      <td>48736</td>\n",
              "      <td>[164914]</td>\n",
              "      <td>응급실</td>\n",
              "      <td>[GN1500, GN0100]</td>\n",
              "      <td>[Izi]</td>\n",
              "      <td>88503</td>\n",
              "      <td>[감성, 밤, 발라드, 추억, 드라이브, 2000년대, 사랑, 이별, 드라마, 명곡...</td>\n",
              "    </tr>\n",
              "    <tr>\n",
              "      <th>443914</th>\n",
              "      <td>[GN2503, GN0205, GN2501, GN2506, GN0201]</td>\n",
              "      <td>20150723</td>\n",
              "      <td>여자친구 2nd Mini Album `Flower Bud`</td>\n",
              "      <td>2330981</td>\n",
              "      <td>[828478]</td>\n",
              "      <td>오늘부터 우리는 (Me Gustas Tu)</td>\n",
              "      <td>[GN2500, GN0200]</td>\n",
              "      <td>[여자친구 (GFRIEND)]</td>\n",
              "      <td>443914</td>\n",
              "      <td>[댄스, 여름, 걸그룹, 좋은노래, 신나는, 설렘, 사랑, 봄, 기분전환, 매장음악...</td>\n",
              "    </tr>\n",
              "    <tr>\n",
              "      <th>459256</th>\n",
              "      <td>[GN0901]</td>\n",
              "      <td>20141110</td>\n",
              "      <td>Uptown Funk (Feat. Bruno Mars)</td>\n",
              "      <td>2290446</td>\n",
              "      <td>[45077]</td>\n",
              "      <td>Uptown Funk (Feat. Bruno Mars)</td>\n",
              "      <td>[GN0900]</td>\n",
              "      <td>[Mark Ronson]</td>\n",
              "      <td>459256</td>\n",
              "      <td>[휴식, 힐링, 잔잔한, 기분전환, 매장음악, 여행, 까페, 산책, 스트레스, 드라...</td>\n",
              "    </tr>\n",
              "    <tr>\n",
              "      <th>640657</th>\n",
              "      <td>[GN0105, GN0101]</td>\n",
              "      <td>20160905</td>\n",
              "      <td>내가 말하고 싶은건</td>\n",
              "      <td>2708791</td>\n",
              "      <td>[523900]</td>\n",
              "      <td>내가 말하고 싶은건</td>\n",
              "      <td>[GN0100]</td>\n",
              "      <td>[김제훈]</td>\n",
              "      <td>640657</td>\n",
              "      <td>[감성, 밤, 카페, 봄노래, 인디팝, 드라이브, 봄날, 밤새벽, 사랑, 커피숍, ...</td>\n",
              "    </tr>\n",
              "  </tbody>\n",
              "</table>\n",
              "</div>"
            ],
            "text/plain": [
              "                          song_gn_dtl_gnr_basket  ...                                           new_tags\n",
              "6546            [GN0105, GN1501, GN0101, GN1504]  ...  [기분전환, 매장음악, 까페, 설렘, 사랑, 겨울, 감성, 발라드, 눈, 잔잔, 이...\n",
              "88503           [GN0104, GN1501, GN0101, GN1504]  ...  [감성, 밤, 발라드, 추억, 드라이브, 2000년대, 사랑, 이별, 드라마, 명곡...\n",
              "443914  [GN2503, GN0205, GN2501, GN2506, GN0201]  ...  [댄스, 여름, 걸그룹, 좋은노래, 신나는, 설렘, 사랑, 봄, 기분전환, 매장음악...\n",
              "459256                                  [GN0901]  ...  [휴식, 힐링, 잔잔한, 기분전환, 매장음악, 여행, 까페, 산책, 스트레스, 드라...\n",
              "640657                          [GN0105, GN0101]  ...  [감성, 밤, 카페, 봄노래, 인디팝, 드라이브, 봄날, 밤새벽, 사랑, 커피숍, ...\n",
              "\n",
              "[5 rows x 10 columns]"
            ]
          },
          "metadata": {
            "tags": []
          }
        }
      ]
    },
    {
      "cell_type": "markdown",
      "metadata": {
        "id": "0nkeO2DpwlZj"
      },
      "source": [
        "# 🌵 **추천 결과 저장**"
      ]
    },
    {
      "cell_type": "code",
      "metadata": {
        "id": "-LbAWgZic_Fl",
        "outputId": "3ff462ed-a242-469c-bb3f-757a42c6376c",
        "colab": {
          "base_uri": "https://localhost:8080/"
        }
      },
      "source": [
        "answers = []\n",
        "state = 0\n",
        "\n",
        "for d in val_dict:\n",
        "    id, new_songs, new_tags, songs, tags = d.values()\n",
        "\n",
        "    # 1 ) 참고할 노래가 없는 경우\n",
        "    if len(new_songs) == 0:\n",
        "         # 1. 노래는 없지만 tag가 있다면 tag를 기반으로 추천해준다.\n",
        "        if new_tags:\n",
        "            rec_songs = tag_based_song_recommend(new_tags, len(new_tags))\n",
        "            rec_songs = fill(rec_songs) # 100곡을 채우지 못한 경우 인기곡으로\n",
        "            rec_tags = tag_recommend(rec_songs, tags)\n",
        "        else:\n",
        "            # 2. 이용할 정보가 없는 경우 인기곡, 인기 태그를 추천한다.\n",
        "            rec_songs = pop_songs\n",
        "            rec_tags = pop_tags2\n",
        "\n",
        "    # 2 ) 참고할 노래가 있는 경우 유사곡 k개(모두 골고루 가질 수 있도록 배치했음)씩을 모아 100곡을 완성\n",
        "    else:\n",
        "        rec_songs = similarity_based_song_recommend(new_songs)\n",
        "\n",
        "        # # 100곡을 채우지 못한 경우 tag를 이용해 나머지를 채워준다.\n",
        "        # if len(rec_songs) < 100:\n",
        "        #     if new_tags:\n",
        "        #         for song in tag_based_song_recommend(new_tags, len(new_tags), 30):\n",
        "        #             if len(rec_songs) == 100:\n",
        "        #                 break\n",
        "        #             if song not in songs and song not in rec_songs:\n",
        "        #                 rec_songs.append(song)\n",
        "\n",
        "        # tag가 없어 채우지 못한 경우 인기곡으로 채워준다.\n",
        "        rec_songs = fill(rec_songs)\n",
        "        rec_tags = tag_recommend(rec_songs, tags)\n",
        "        \n",
        "    assert len(set(rec_songs)) == 100\n",
        "\n",
        "    if state%1000 == 0:\n",
        "        print(state,\"하는즁입니돠\")\n",
        "    state += 1\n",
        "\n",
        "    answers.append({'id':id,\n",
        "        'songs':rec_songs,\n",
        "        'tags':rec_tags})"
      ],
      "execution_count": 150,
      "outputs": [
        {
          "output_type": "stream",
          "text": [
            "0 하는즁입니돠\n",
            "1000 하는즁입니돠\n",
            "2000 하는즁입니돠\n",
            "3000 하는즁입니돠\n",
            "4000 하는즁입니돠\n",
            "5000 하는즁입니돠\n",
            "6000 하는즁입니돠\n",
            "7000 하는즁입니돠\n",
            "8000 하는즁입니돠\n",
            "9000 하는즁입니돠\n",
            "10000 하는즁입니돠\n",
            "11000 하는즁입니돠\n",
            "12000 하는즁입니돠\n",
            "13000 하는즁입니돠\n",
            "14000 하는즁입니돠\n",
            "15000 하는즁입니돠\n",
            "16000 하는즁입니돠\n",
            "17000 하는즁입니돠\n",
            "18000 하는즁입니돠\n",
            "19000 하는즁입니돠\n",
            "20000 하는즁입니돠\n",
            "21000 하는즁입니돠\n",
            "22000 하는즁입니돠\n",
            "23000 하는즁입니돠\n"
          ],
          "name": "stdout"
        }
      ]
    },
    {
      "cell_type": "code",
      "metadata": {
        "id": "I-BwJCHsEqPg",
        "outputId": "4b6081e0-f780-4467-8b4d-a2f47a95a095",
        "colab": {
          "base_uri": "https://localhost:8080/"
        }
      },
      "source": [
        "len(answers)"
      ],
      "execution_count": 151,
      "outputs": [
        {
          "output_type": "execute_result",
          "data": {
            "text/plain": [
              "23015"
            ]
          },
          "metadata": {
            "tags": []
          },
          "execution_count": 151
        }
      ]
    },
    {
      "cell_type": "code",
      "metadata": {
        "id": "L2M2tSMLq_aR"
      },
      "source": [
        "for d in answers:\n",
        "    id, songs, tags = d.values()\n",
        "    if len(set(songs)) != 100 or len(set(tags)) != 10:\n",
        "        print(id,len(set(songs)), len(set(tags)))\n",
        "        break"
      ],
      "execution_count": 152,
      "outputs": []
    },
    {
      "cell_type": "code",
      "metadata": {
        "id": "4X8pdhmsJxmi"
      },
      "source": [
        "import io\n",
        "import json\n",
        "\n",
        "def write_json(data, fname):\n",
        "    def _conv(o):\n",
        "        if isinstance(o, (np.int64, np.int32)):\n",
        "            return int(o)\n",
        "        raise TypeError\n",
        "\n",
        "    with io.open(fname, \"w\", encoding=\"utf-8\") as f:\n",
        "        json_str = json.dumps(data, ensure_ascii=False, default=_conv)\n",
        "        f.write(json_str)"
      ],
      "execution_count": 153,
      "outputs": []
    },
    {
      "cell_type": "code",
      "metadata": {
        "id": "MHp1ff9FHEBX"
      },
      "source": [
        "write_json(answers,\"new_AE_1110_tags2.json\")"
      ],
      "execution_count": 154,
      "outputs": []
    }
  ]
}
